{
 "cells": [
  {
   "cell_type": "code",
   "execution_count": 2,
   "metadata": {},
   "outputs": [],
   "source": [
    "import pandas as pd\n",
    "import seaborn as sns\n",
    "import matplotlib.pyplot as plt\n",
    "import plotly.express as px"
   ]
  },
  {
   "cell_type": "markdown",
   "metadata": {},
   "source": [
    "# QOQ ANALYSIS (SQL)  - Part 1"
   ]
  },
  {
   "cell_type": "markdown",
   "metadata": {},
   "source": [
    "## 2.\tVisualization"
   ]
  },
  {
   "cell_type": "markdown",
   "metadata": {},
   "source": [
    "### Analysis of results"
   ]
  },
  {
   "cell_type": "code",
   "execution_count": 940,
   "metadata": {},
   "outputs": [
    {
     "data": {
      "text/html": [
       "<div>\n",
       "<style scoped>\n",
       "    .dataframe tbody tr th:only-of-type {\n",
       "        vertical-align: middle;\n",
       "    }\n",
       "\n",
       "    .dataframe tbody tr th {\n",
       "        vertical-align: top;\n",
       "    }\n",
       "\n",
       "    .dataframe thead th {\n",
       "        text-align: right;\n",
       "    }\n",
       "</style>\n",
       "<table border=\"1\" class=\"dataframe\">\n",
       "  <thead>\n",
       "    <tr style=\"text-align: right;\">\n",
       "      <th></th>\n",
       "      <th>year</th>\n",
       "      <th>quater</th>\n",
       "      <th>country</th>\n",
       "      <th>country_name</th>\n",
       "      <th>site</th>\n",
       "      <th>category</th>\n",
       "      <th>prev_q_visits</th>\n",
       "      <th>next_q_visits</th>\n",
       "      <th>qoq_visits_change</th>\n",
       "    </tr>\n",
       "  </thead>\n",
       "  <tbody>\n",
       "    <tr>\n",
       "      <th>0</th>\n",
       "      <td>16.0</td>\n",
       "      <td>3.0</td>\n",
       "      <td>124.0</td>\n",
       "      <td>Canada</td>\n",
       "      <td>wixsite.com                                   ...</td>\n",
       "      <td>Internet_and_Telecom/Web_Hosting              ...</td>\n",
       "      <td>183.076307</td>\n",
       "      <td>9.283342e+05</td>\n",
       "      <td>5069.750115</td>\n",
       "    </tr>\n",
       "    <tr>\n",
       "      <th>1</th>\n",
       "      <td>16.0</td>\n",
       "      <td>3.0</td>\n",
       "      <td>124.0</td>\n",
       "      <td>Canada</td>\n",
       "      <td>espn.com                                      ...</td>\n",
       "      <td>News_and_Media/Sports_News                    ...</td>\n",
       "      <td>4920.584250</td>\n",
       "      <td>5.054592e+06</td>\n",
       "      <td>1026.234165</td>\n",
       "    </tr>\n",
       "    <tr>\n",
       "      <th>2</th>\n",
       "      <td>16.0</td>\n",
       "      <td>3.0</td>\n",
       "      <td>124.0</td>\n",
       "      <td>Canada</td>\n",
       "      <td>quizzstar.com                                 ...</td>\n",
       "      <td>Adult                                         ...</td>\n",
       "      <td>472.019797</td>\n",
       "      <td>4.392308e+04</td>\n",
       "      <td>92.053463</td>\n",
       "    </tr>\n",
       "    <tr>\n",
       "      <th>3</th>\n",
       "      <td>16.0</td>\n",
       "      <td>3.0</td>\n",
       "      <td>124.0</td>\n",
       "      <td>Canada</td>\n",
       "      <td>wellhello.com                                 ...</td>\n",
       "      <td>Adult                                         ...</td>\n",
       "      <td>16810.335480</td>\n",
       "      <td>9.040682e+05</td>\n",
       "      <td>52.780500</td>\n",
       "    </tr>\n",
       "    <tr>\n",
       "      <th>4</th>\n",
       "      <td>16.0</td>\n",
       "      <td>3.0</td>\n",
       "      <td>124.0</td>\n",
       "      <td>Canada</td>\n",
       "      <td>sptslmtrafms.com                              ...</td>\n",
       "      <td>NaN</td>\n",
       "      <td>67.650817</td>\n",
       "      <td>3.004800e+03</td>\n",
       "      <td>43.416310</td>\n",
       "    </tr>\n",
       "    <tr>\n",
       "      <th>...</th>\n",
       "      <td>...</td>\n",
       "      <td>...</td>\n",
       "      <td>...</td>\n",
       "      <td>...</td>\n",
       "      <td>...</td>\n",
       "      <td>...</td>\n",
       "      <td>...</td>\n",
       "      <td>...</td>\n",
       "      <td>...</td>\n",
       "    </tr>\n",
       "    <tr>\n",
       "      <th>1050</th>\n",
       "      <td>NaN</td>\n",
       "      <td>NaN</td>\n",
       "      <td>NaN</td>\n",
       "      <td>NaN</td>\n",
       "      <td>brokerbabe.com                                ...</td>\n",
       "      <td>Adult                                         ...</td>\n",
       "      <td>NaN</td>\n",
       "      <td>NaN</td>\n",
       "      <td>NaN</td>\n",
       "    </tr>\n",
       "    <tr>\n",
       "      <th>1051</th>\n",
       "      <td>NaN</td>\n",
       "      <td>NaN</td>\n",
       "      <td>NaN</td>\n",
       "      <td>NaN</td>\n",
       "      <td>t-mobile.com                                  ...</td>\n",
       "      <td>Internet_and_Telecom/Telecommunications       ...</td>\n",
       "      <td>NaN</td>\n",
       "      <td>NaN</td>\n",
       "      <td>NaN</td>\n",
       "    </tr>\n",
       "    <tr>\n",
       "      <th>1052</th>\n",
       "      <td>NaN</td>\n",
       "      <td>NaN</td>\n",
       "      <td>NaN</td>\n",
       "      <td>NaN</td>\n",
       "      <td>gumtree.com                                   ...</td>\n",
       "      <td>Shopping/Classifieds                          ...</td>\n",
       "      <td>NaN</td>\n",
       "      <td>NaN</td>\n",
       "      <td>NaN</td>\n",
       "    </tr>\n",
       "    <tr>\n",
       "      <th>1053</th>\n",
       "      <td>NaN</td>\n",
       "      <td>NaN</td>\n",
       "      <td>NaN</td>\n",
       "      <td>NaN</td>\n",
       "      <td>irctc.co.in                                   ...</td>\n",
       "      <td>Travel/Tourism                                ...</td>\n",
       "      <td>NaN</td>\n",
       "      <td>NaN</td>\n",
       "      <td>NaN</td>\n",
       "    </tr>\n",
       "    <tr>\n",
       "      <th>1054</th>\n",
       "      <td>NaN</td>\n",
       "      <td>NaN</td>\n",
       "      <td>NaN</td>\n",
       "      <td>NaN</td>\n",
       "      <td>doc88.com                                     ...</td>\n",
       "      <td>Internet_and_Telecom/File_Sharing             ...</td>\n",
       "      <td>NaN</td>\n",
       "      <td>NaN</td>\n",
       "      <td>NaN</td>\n",
       "    </tr>\n",
       "  </tbody>\n",
       "</table>\n",
       "<p>1055 rows × 9 columns</p>\n",
       "</div>"
      ],
      "text/plain": [
       "      year  quater  country country_name  \\\n",
       "0     16.0     3.0    124.0       Canada   \n",
       "1     16.0     3.0    124.0       Canada   \n",
       "2     16.0     3.0    124.0       Canada   \n",
       "3     16.0     3.0    124.0       Canada   \n",
       "4     16.0     3.0    124.0       Canada   \n",
       "...    ...     ...      ...          ...   \n",
       "1050   NaN     NaN      NaN          NaN   \n",
       "1051   NaN     NaN      NaN          NaN   \n",
       "1052   NaN     NaN      NaN          NaN   \n",
       "1053   NaN     NaN      NaN          NaN   \n",
       "1054   NaN     NaN      NaN          NaN   \n",
       "\n",
       "                                                   site  \\\n",
       "0     wixsite.com                                   ...   \n",
       "1     espn.com                                      ...   \n",
       "2     quizzstar.com                                 ...   \n",
       "3     wellhello.com                                 ...   \n",
       "4     sptslmtrafms.com                              ...   \n",
       "...                                                 ...   \n",
       "1050  brokerbabe.com                                ...   \n",
       "1051  t-mobile.com                                  ...   \n",
       "1052  gumtree.com                                   ...   \n",
       "1053  irctc.co.in                                   ...   \n",
       "1054  doc88.com                                     ...   \n",
       "\n",
       "                                               category  prev_q_visits  \\\n",
       "0     Internet_and_Telecom/Web_Hosting              ...     183.076307   \n",
       "1     News_and_Media/Sports_News                    ...    4920.584250   \n",
       "2     Adult                                         ...     472.019797   \n",
       "3     Adult                                         ...   16810.335480   \n",
       "4                                                   NaN      67.650817   \n",
       "...                                                 ...            ...   \n",
       "1050  Adult                                         ...            NaN   \n",
       "1051  Internet_and_Telecom/Telecommunications       ...            NaN   \n",
       "1052  Shopping/Classifieds                          ...            NaN   \n",
       "1053  Travel/Tourism                                ...            NaN   \n",
       "1054  Internet_and_Telecom/File_Sharing             ...            NaN   \n",
       "\n",
       "      next_q_visits  qoq_visits_change  \n",
       "0      9.283342e+05        5069.750115  \n",
       "1      5.054592e+06        1026.234165  \n",
       "2      4.392308e+04          92.053463  \n",
       "3      9.040682e+05          52.780500  \n",
       "4      3.004800e+03          43.416310  \n",
       "...             ...                ...  \n",
       "1050            NaN                NaN  \n",
       "1051            NaN                NaN  \n",
       "1052            NaN                NaN  \n",
       "1053            NaN                NaN  \n",
       "1054            NaN                NaN  \n",
       "\n",
       "[1055 rows x 9 columns]"
      ]
     },
     "execution_count": 940,
     "metadata": {},
     "output_type": "execute_result"
    }
   ],
   "source": [
    "qoq_path = './result/task1-QOQ.csv'\n",
    "df_qoq = pd.read_csv(qoq_path)\n",
    "df_qoq"
   ]
  },
  {
   "cell_type": "code",
   "execution_count": 582,
   "metadata": {},
   "outputs": [
    {
     "name": "stdout",
     "output_type": "stream",
     "text": [
      "<class 'pandas.core.frame.DataFrame'>\n",
      "RangeIndex: 1055 entries, 0 to 1054\n",
      "Data columns (total 9 columns):\n",
      " #   Column             Non-Null Count  Dtype  \n",
      "---  ------             --------------  -----  \n",
      " 0   year               100 non-null    float64\n",
      " 1   quater             100 non-null    float64\n",
      " 2   country            100 non-null    float64\n",
      " 3   country_name       100 non-null    object \n",
      " 4   site               1055 non-null   object \n",
      " 5   category           955 non-null    object \n",
      " 6   prev_q_visits      100 non-null    float64\n",
      " 7   next_q_visits      100 non-null    float64\n",
      " 8   qoq_visits_change  100 non-null    float64\n",
      "dtypes: float64(6), object(3)\n",
      "memory usage: 74.3+ KB\n"
     ]
    }
   ],
   "source": [
    "df_qoq.info()"
   ]
  },
  {
   "cell_type": "code",
   "execution_count": 635,
   "metadata": {},
   "outputs": [
    {
     "data": {
      "text/html": [
       "<div>\n",
       "<style scoped>\n",
       "    .dataframe tbody tr th:only-of-type {\n",
       "        vertical-align: middle;\n",
       "    }\n",
       "\n",
       "    .dataframe tbody tr th {\n",
       "        vertical-align: top;\n",
       "    }\n",
       "\n",
       "    .dataframe thead th {\n",
       "        text-align: right;\n",
       "    }\n",
       "</style>\n",
       "<table border=\"1\" class=\"dataframe\">\n",
       "  <thead>\n",
       "    <tr style=\"text-align: right;\">\n",
       "      <th></th>\n",
       "      <th></th>\n",
       "      <th>year</th>\n",
       "      <th>quater</th>\n",
       "      <th>country</th>\n",
       "      <th>site</th>\n",
       "      <th>prev_q_visits</th>\n",
       "      <th>next_q_visits</th>\n",
       "      <th>qoq_visits_change</th>\n",
       "    </tr>\n",
       "    <tr>\n",
       "      <th>country_name</th>\n",
       "      <th>category</th>\n",
       "      <th></th>\n",
       "      <th></th>\n",
       "      <th></th>\n",
       "      <th></th>\n",
       "      <th></th>\n",
       "      <th></th>\n",
       "      <th></th>\n",
       "    </tr>\n",
       "  </thead>\n",
       "  <tbody>\n",
       "    <tr>\n",
       "      <th rowspan=\"9\" valign=\"top\">Canada</th>\n",
       "      <th>Adult</th>\n",
       "      <td>0.307692</td>\n",
       "      <td>0.307692</td>\n",
       "      <td>0.307692</td>\n",
       "      <td>0.307692</td>\n",
       "      <td>0.307692</td>\n",
       "      <td>0.307692</td>\n",
       "      <td>0.307692</td>\n",
       "    </tr>\n",
       "    <tr>\n",
       "      <th>Arts_and_Entertainment</th>\n",
       "      <td>0.076923</td>\n",
       "      <td>0.076923</td>\n",
       "      <td>0.076923</td>\n",
       "      <td>0.076923</td>\n",
       "      <td>0.076923</td>\n",
       "      <td>0.076923</td>\n",
       "      <td>0.076923</td>\n",
       "    </tr>\n",
       "    <tr>\n",
       "      <th>Autos_and_Vehicles</th>\n",
       "      <td>0.076923</td>\n",
       "      <td>0.076923</td>\n",
       "      <td>0.076923</td>\n",
       "      <td>0.076923</td>\n",
       "      <td>0.076923</td>\n",
       "      <td>0.076923</td>\n",
       "      <td>0.076923</td>\n",
       "    </tr>\n",
       "    <tr>\n",
       "      <th>Business_and_Industry</th>\n",
       "      <td>0.076923</td>\n",
       "      <td>0.076923</td>\n",
       "      <td>0.076923</td>\n",
       "      <td>0.076923</td>\n",
       "      <td>0.076923</td>\n",
       "      <td>0.076923</td>\n",
       "      <td>0.076923</td>\n",
       "    </tr>\n",
       "    <tr>\n",
       "      <th>Career_and_Education/Education</th>\n",
       "      <td>0.153846</td>\n",
       "      <td>0.153846</td>\n",
       "      <td>0.153846</td>\n",
       "      <td>0.153846</td>\n",
       "      <td>0.153846</td>\n",
       "      <td>0.153846</td>\n",
       "      <td>0.153846</td>\n",
       "    </tr>\n",
       "    <tr>\n",
       "      <th>Games</th>\n",
       "      <td>0.076923</td>\n",
       "      <td>0.076923</td>\n",
       "      <td>0.076923</td>\n",
       "      <td>0.076923</td>\n",
       "      <td>0.076923</td>\n",
       "      <td>0.076923</td>\n",
       "      <td>0.076923</td>\n",
       "    </tr>\n",
       "    <tr>\n",
       "      <th>Internet_and_Telecom/Web_Hosting</th>\n",
       "      <td>0.076923</td>\n",
       "      <td>0.076923</td>\n",
       "      <td>0.076923</td>\n",
       "      <td>0.076923</td>\n",
       "      <td>0.076923</td>\n",
       "      <td>0.076923</td>\n",
       "      <td>0.076923</td>\n",
       "    </tr>\n",
       "    <tr>\n",
       "      <th>News_and_Media</th>\n",
       "      <td>0.076923</td>\n",
       "      <td>0.076923</td>\n",
       "      <td>0.076923</td>\n",
       "      <td>0.076923</td>\n",
       "      <td>0.076923</td>\n",
       "      <td>0.076923</td>\n",
       "      <td>0.076923</td>\n",
       "    </tr>\n",
       "    <tr>\n",
       "      <th>News_and_Media/Sports_News</th>\n",
       "      <td>0.076923</td>\n",
       "      <td>0.076923</td>\n",
       "      <td>0.076923</td>\n",
       "      <td>0.076923</td>\n",
       "      <td>0.076923</td>\n",
       "      <td>0.076923</td>\n",
       "      <td>0.076923</td>\n",
       "    </tr>\n",
       "    <tr>\n",
       "      <th rowspan=\"8\" valign=\"top\">Germany</th>\n",
       "      <th>Adult</th>\n",
       "      <td>0.363636</td>\n",
       "      <td>0.363636</td>\n",
       "      <td>0.363636</td>\n",
       "      <td>0.363636</td>\n",
       "      <td>0.363636</td>\n",
       "      <td>0.363636</td>\n",
       "      <td>0.363636</td>\n",
       "    </tr>\n",
       "    <tr>\n",
       "      <th>Business_and_Industry/Marketing_and_Advertising</th>\n",
       "      <td>0.090909</td>\n",
       "      <td>0.090909</td>\n",
       "      <td>0.090909</td>\n",
       "      <td>0.090909</td>\n",
       "      <td>0.090909</td>\n",
       "      <td>0.090909</td>\n",
       "      <td>0.090909</td>\n",
       "    </tr>\n",
       "    <tr>\n",
       "      <th>Career_and_Education/Education</th>\n",
       "      <td>0.090909</td>\n",
       "      <td>0.090909</td>\n",
       "      <td>0.090909</td>\n",
       "      <td>0.090909</td>\n",
       "      <td>0.090909</td>\n",
       "      <td>0.090909</td>\n",
       "      <td>0.090909</td>\n",
       "    </tr>\n",
       "    <tr>\n",
       "      <th>Internet_and_Telecom</th>\n",
       "      <td>0.090909</td>\n",
       "      <td>0.090909</td>\n",
       "      <td>0.090909</td>\n",
       "      <td>0.090909</td>\n",
       "      <td>0.090909</td>\n",
       "      <td>0.090909</td>\n",
       "      <td>0.090909</td>\n",
       "    </tr>\n",
       "    <tr>\n",
       "      <th>Internet_and_Telecom/Search_Engine</th>\n",
       "      <td>0.090909</td>\n",
       "      <td>0.090909</td>\n",
       "      <td>0.090909</td>\n",
       "      <td>0.090909</td>\n",
       "      <td>0.090909</td>\n",
       "      <td>0.090909</td>\n",
       "      <td>0.090909</td>\n",
       "    </tr>\n",
       "    <tr>\n",
       "      <th>Internet_and_Telecom/Web_Hosting</th>\n",
       "      <td>0.090909</td>\n",
       "      <td>0.090909</td>\n",
       "      <td>0.090909</td>\n",
       "      <td>0.090909</td>\n",
       "      <td>0.090909</td>\n",
       "      <td>0.090909</td>\n",
       "      <td>0.090909</td>\n",
       "    </tr>\n",
       "    <tr>\n",
       "      <th>News_and_Media/Sports_News</th>\n",
       "      <td>0.090909</td>\n",
       "      <td>0.090909</td>\n",
       "      <td>0.090909</td>\n",
       "      <td>0.090909</td>\n",
       "      <td>0.090909</td>\n",
       "      <td>0.090909</td>\n",
       "      <td>0.090909</td>\n",
       "    </tr>\n",
       "    <tr>\n",
       "      <th>Sports</th>\n",
       "      <td>0.090909</td>\n",
       "      <td>0.090909</td>\n",
       "      <td>0.090909</td>\n",
       "      <td>0.090909</td>\n",
       "      <td>0.090909</td>\n",
       "      <td>0.090909</td>\n",
       "      <td>0.090909</td>\n",
       "    </tr>\n",
       "    <tr>\n",
       "      <th rowspan=\"7\" valign=\"top\">Russian Federation</th>\n",
       "      <th>Adult</th>\n",
       "      <td>0.333333</td>\n",
       "      <td>0.333333</td>\n",
       "      <td>0.333333</td>\n",
       "      <td>0.333333</td>\n",
       "      <td>0.333333</td>\n",
       "      <td>0.333333</td>\n",
       "      <td>0.333333</td>\n",
       "    </tr>\n",
       "    <tr>\n",
       "      <th>Career_and_Education/Education</th>\n",
       "      <td>0.166667</td>\n",
       "      <td>0.166667</td>\n",
       "      <td>0.166667</td>\n",
       "      <td>0.166667</td>\n",
       "      <td>0.166667</td>\n",
       "      <td>0.166667</td>\n",
       "      <td>0.166667</td>\n",
       "    </tr>\n",
       "    <tr>\n",
       "      <th>Finance/Banking</th>\n",
       "      <td>0.083333</td>\n",
       "      <td>0.083333</td>\n",
       "      <td>0.083333</td>\n",
       "      <td>0.083333</td>\n",
       "      <td>0.083333</td>\n",
       "      <td>0.083333</td>\n",
       "      <td>0.083333</td>\n",
       "    </tr>\n",
       "    <tr>\n",
       "      <th>Games</th>\n",
       "      <td>0.166667</td>\n",
       "      <td>0.166667</td>\n",
       "      <td>0.166667</td>\n",
       "      <td>0.166667</td>\n",
       "      <td>0.166667</td>\n",
       "      <td>0.166667</td>\n",
       "      <td>0.166667</td>\n",
       "    </tr>\n",
       "    <tr>\n",
       "      <th>Internet_and_Telecom/Email</th>\n",
       "      <td>0.083333</td>\n",
       "      <td>0.083333</td>\n",
       "      <td>0.083333</td>\n",
       "      <td>0.083333</td>\n",
       "      <td>0.083333</td>\n",
       "      <td>0.083333</td>\n",
       "      <td>0.083333</td>\n",
       "    </tr>\n",
       "    <tr>\n",
       "      <th>Internet_and_Telecom/Web_Hosting</th>\n",
       "      <td>0.083333</td>\n",
       "      <td>0.083333</td>\n",
       "      <td>0.083333</td>\n",
       "      <td>0.083333</td>\n",
       "      <td>0.083333</td>\n",
       "      <td>0.083333</td>\n",
       "      <td>0.083333</td>\n",
       "    </tr>\n",
       "    <tr>\n",
       "      <th>News_and_Media/Sports_News</th>\n",
       "      <td>0.083333</td>\n",
       "      <td>0.083333</td>\n",
       "      <td>0.083333</td>\n",
       "      <td>0.083333</td>\n",
       "      <td>0.083333</td>\n",
       "      <td>0.083333</td>\n",
       "      <td>0.083333</td>\n",
       "    </tr>\n",
       "    <tr>\n",
       "      <th rowspan=\"8\" valign=\"top\">United Kingdom of Great Britain and Northern Ireland</th>\n",
       "      <th>Adult</th>\n",
       "      <td>0.285714</td>\n",
       "      <td>0.285714</td>\n",
       "      <td>0.285714</td>\n",
       "      <td>0.285714</td>\n",
       "      <td>0.285714</td>\n",
       "      <td>0.285714</td>\n",
       "      <td>0.285714</td>\n",
       "    </tr>\n",
       "    <tr>\n",
       "      <th>Arts_and_Entertainment</th>\n",
       "      <td>0.214286</td>\n",
       "      <td>0.214286</td>\n",
       "      <td>0.214286</td>\n",
       "      <td>0.214286</td>\n",
       "      <td>0.214286</td>\n",
       "      <td>0.214286</td>\n",
       "      <td>0.214286</td>\n",
       "    </tr>\n",
       "    <tr>\n",
       "      <th>Career_and_Education/Education</th>\n",
       "      <td>0.142857</td>\n",
       "      <td>0.142857</td>\n",
       "      <td>0.142857</td>\n",
       "      <td>0.142857</td>\n",
       "      <td>0.142857</td>\n",
       "      <td>0.142857</td>\n",
       "      <td>0.142857</td>\n",
       "    </tr>\n",
       "    <tr>\n",
       "      <th>Computer_and_Electronics/Software</th>\n",
       "      <td>0.071429</td>\n",
       "      <td>0.071429</td>\n",
       "      <td>0.071429</td>\n",
       "      <td>0.071429</td>\n",
       "      <td>0.071429</td>\n",
       "      <td>0.071429</td>\n",
       "      <td>0.071429</td>\n",
       "    </tr>\n",
       "    <tr>\n",
       "      <th>Finance/Financial_Management</th>\n",
       "      <td>0.071429</td>\n",
       "      <td>0.071429</td>\n",
       "      <td>0.071429</td>\n",
       "      <td>0.071429</td>\n",
       "      <td>0.071429</td>\n",
       "      <td>0.071429</td>\n",
       "      <td>0.071429</td>\n",
       "    </tr>\n",
       "    <tr>\n",
       "      <th>Internet_and_Telecom/Search_Engine</th>\n",
       "      <td>0.071429</td>\n",
       "      <td>0.071429</td>\n",
       "      <td>0.071429</td>\n",
       "      <td>0.071429</td>\n",
       "      <td>0.071429</td>\n",
       "      <td>0.071429</td>\n",
       "      <td>0.071429</td>\n",
       "    </tr>\n",
       "    <tr>\n",
       "      <th>Internet_and_Telecom/Web_Hosting</th>\n",
       "      <td>0.071429</td>\n",
       "      <td>0.071429</td>\n",
       "      <td>0.071429</td>\n",
       "      <td>0.071429</td>\n",
       "      <td>0.071429</td>\n",
       "      <td>0.071429</td>\n",
       "      <td>0.071429</td>\n",
       "    </tr>\n",
       "    <tr>\n",
       "      <th>News_and_Media/Sports_News</th>\n",
       "      <td>0.071429</td>\n",
       "      <td>0.071429</td>\n",
       "      <td>0.071429</td>\n",
       "      <td>0.071429</td>\n",
       "      <td>0.071429</td>\n",
       "      <td>0.071429</td>\n",
       "      <td>0.071429</td>\n",
       "    </tr>\n",
       "    <tr>\n",
       "      <th rowspan=\"7\" valign=\"top\">United States of America</th>\n",
       "      <th>Adult</th>\n",
       "      <td>0.181818</td>\n",
       "      <td>0.181818</td>\n",
       "      <td>0.181818</td>\n",
       "      <td>0.181818</td>\n",
       "      <td>0.181818</td>\n",
       "      <td>0.181818</td>\n",
       "      <td>0.181818</td>\n",
       "    </tr>\n",
       "    <tr>\n",
       "      <th>Arts_and_Entertainment</th>\n",
       "      <td>0.090909</td>\n",
       "      <td>0.090909</td>\n",
       "      <td>0.090909</td>\n",
       "      <td>0.090909</td>\n",
       "      <td>0.090909</td>\n",
       "      <td>0.090909</td>\n",
       "      <td>0.090909</td>\n",
       "    </tr>\n",
       "    <tr>\n",
       "      <th>Career_and_Education/Education</th>\n",
       "      <td>0.363636</td>\n",
       "      <td>0.363636</td>\n",
       "      <td>0.363636</td>\n",
       "      <td>0.363636</td>\n",
       "      <td>0.363636</td>\n",
       "      <td>0.363636</td>\n",
       "      <td>0.363636</td>\n",
       "    </tr>\n",
       "    <tr>\n",
       "      <th>Games</th>\n",
       "      <td>0.090909</td>\n",
       "      <td>0.090909</td>\n",
       "      <td>0.090909</td>\n",
       "      <td>0.090909</td>\n",
       "      <td>0.090909</td>\n",
       "      <td>0.090909</td>\n",
       "      <td>0.090909</td>\n",
       "    </tr>\n",
       "    <tr>\n",
       "      <th>Internet_and_Telecom/Web_Hosting</th>\n",
       "      <td>0.090909</td>\n",
       "      <td>0.090909</td>\n",
       "      <td>0.090909</td>\n",
       "      <td>0.090909</td>\n",
       "      <td>0.090909</td>\n",
       "      <td>0.090909</td>\n",
       "      <td>0.090909</td>\n",
       "    </tr>\n",
       "    <tr>\n",
       "      <th>News_and_Media/Sports_News</th>\n",
       "      <td>0.090909</td>\n",
       "      <td>0.090909</td>\n",
       "      <td>0.090909</td>\n",
       "      <td>0.090909</td>\n",
       "      <td>0.090909</td>\n",
       "      <td>0.090909</td>\n",
       "      <td>0.090909</td>\n",
       "    </tr>\n",
       "    <tr>\n",
       "      <th>Shopping</th>\n",
       "      <td>0.090909</td>\n",
       "      <td>0.090909</td>\n",
       "      <td>0.090909</td>\n",
       "      <td>0.090909</td>\n",
       "      <td>0.090909</td>\n",
       "      <td>0.090909</td>\n",
       "      <td>0.090909</td>\n",
       "    </tr>\n",
       "  </tbody>\n",
       "</table>\n",
       "</div>"
      ],
      "text/plain": [
       "                                                                                                           year  \\\n",
       "country_name                                       category                                                       \n",
       "Canada                                             Adult                                          ...  0.307692   \n",
       "                                                   Arts_and_Entertainment                         ...  0.076923   \n",
       "                                                   Autos_and_Vehicles                             ...  0.076923   \n",
       "                                                   Business_and_Industry                          ...  0.076923   \n",
       "                                                   Career_and_Education/Education                 ...  0.153846   \n",
       "                                                   Games                                          ...  0.076923   \n",
       "                                                   Internet_and_Telecom/Web_Hosting               ...  0.076923   \n",
       "                                                   News_and_Media                                 ...  0.076923   \n",
       "                                                   News_and_Media/Sports_News                     ...  0.076923   \n",
       "Germany                                            Adult                                          ...  0.363636   \n",
       "                                                   Business_and_Industry/Marketing_and_Advertising...  0.090909   \n",
       "                                                   Career_and_Education/Education                 ...  0.090909   \n",
       "                                                   Internet_and_Telecom                           ...  0.090909   \n",
       "                                                   Internet_and_Telecom/Search_Engine             ...  0.090909   \n",
       "                                                   Internet_and_Telecom/Web_Hosting               ...  0.090909   \n",
       "                                                   News_and_Media/Sports_News                     ...  0.090909   \n",
       "                                                   Sports                                         ...  0.090909   \n",
       "Russian Federation                                 Adult                                          ...  0.333333   \n",
       "                                                   Career_and_Education/Education                 ...  0.166667   \n",
       "                                                   Finance/Banking                                ...  0.083333   \n",
       "                                                   Games                                          ...  0.166667   \n",
       "                                                   Internet_and_Telecom/Email                     ...  0.083333   \n",
       "                                                   Internet_and_Telecom/Web_Hosting               ...  0.083333   \n",
       "                                                   News_and_Media/Sports_News                     ...  0.083333   \n",
       "United Kingdom of Great Britain and Northern Ir... Adult                                          ...  0.285714   \n",
       "                                                   Arts_and_Entertainment                         ...  0.214286   \n",
       "                                                   Career_and_Education/Education                 ...  0.142857   \n",
       "                                                   Computer_and_Electronics/Software              ...  0.071429   \n",
       "                                                   Finance/Financial_Management                   ...  0.071429   \n",
       "                                                   Internet_and_Telecom/Search_Engine             ...  0.071429   \n",
       "                                                   Internet_and_Telecom/Web_Hosting               ...  0.071429   \n",
       "                                                   News_and_Media/Sports_News                     ...  0.071429   \n",
       "United States of America                           Adult                                          ...  0.181818   \n",
       "                                                   Arts_and_Entertainment                         ...  0.090909   \n",
       "                                                   Career_and_Education/Education                 ...  0.363636   \n",
       "                                                   Games                                          ...  0.090909   \n",
       "                                                   Internet_and_Telecom/Web_Hosting               ...  0.090909   \n",
       "                                                   News_and_Media/Sports_News                     ...  0.090909   \n",
       "                                                   Shopping                                       ...  0.090909   \n",
       "\n",
       "                                                                                                         quater  \\\n",
       "country_name                                       category                                                       \n",
       "Canada                                             Adult                                          ...  0.307692   \n",
       "                                                   Arts_and_Entertainment                         ...  0.076923   \n",
       "                                                   Autos_and_Vehicles                             ...  0.076923   \n",
       "                                                   Business_and_Industry                          ...  0.076923   \n",
       "                                                   Career_and_Education/Education                 ...  0.153846   \n",
       "                                                   Games                                          ...  0.076923   \n",
       "                                                   Internet_and_Telecom/Web_Hosting               ...  0.076923   \n",
       "                                                   News_and_Media                                 ...  0.076923   \n",
       "                                                   News_and_Media/Sports_News                     ...  0.076923   \n",
       "Germany                                            Adult                                          ...  0.363636   \n",
       "                                                   Business_and_Industry/Marketing_and_Advertising...  0.090909   \n",
       "                                                   Career_and_Education/Education                 ...  0.090909   \n",
       "                                                   Internet_and_Telecom                           ...  0.090909   \n",
       "                                                   Internet_and_Telecom/Search_Engine             ...  0.090909   \n",
       "                                                   Internet_and_Telecom/Web_Hosting               ...  0.090909   \n",
       "                                                   News_and_Media/Sports_News                     ...  0.090909   \n",
       "                                                   Sports                                         ...  0.090909   \n",
       "Russian Federation                                 Adult                                          ...  0.333333   \n",
       "                                                   Career_and_Education/Education                 ...  0.166667   \n",
       "                                                   Finance/Banking                                ...  0.083333   \n",
       "                                                   Games                                          ...  0.166667   \n",
       "                                                   Internet_and_Telecom/Email                     ...  0.083333   \n",
       "                                                   Internet_and_Telecom/Web_Hosting               ...  0.083333   \n",
       "                                                   News_and_Media/Sports_News                     ...  0.083333   \n",
       "United Kingdom of Great Britain and Northern Ir... Adult                                          ...  0.285714   \n",
       "                                                   Arts_and_Entertainment                         ...  0.214286   \n",
       "                                                   Career_and_Education/Education                 ...  0.142857   \n",
       "                                                   Computer_and_Electronics/Software              ...  0.071429   \n",
       "                                                   Finance/Financial_Management                   ...  0.071429   \n",
       "                                                   Internet_and_Telecom/Search_Engine             ...  0.071429   \n",
       "                                                   Internet_and_Telecom/Web_Hosting               ...  0.071429   \n",
       "                                                   News_and_Media/Sports_News                     ...  0.071429   \n",
       "United States of America                           Adult                                          ...  0.181818   \n",
       "                                                   Arts_and_Entertainment                         ...  0.090909   \n",
       "                                                   Career_and_Education/Education                 ...  0.363636   \n",
       "                                                   Games                                          ...  0.090909   \n",
       "                                                   Internet_and_Telecom/Web_Hosting               ...  0.090909   \n",
       "                                                   News_and_Media/Sports_News                     ...  0.090909   \n",
       "                                                   Shopping                                       ...  0.090909   \n",
       "\n",
       "                                                                                                        country  \\\n",
       "country_name                                       category                                                       \n",
       "Canada                                             Adult                                          ...  0.307692   \n",
       "                                                   Arts_and_Entertainment                         ...  0.076923   \n",
       "                                                   Autos_and_Vehicles                             ...  0.076923   \n",
       "                                                   Business_and_Industry                          ...  0.076923   \n",
       "                                                   Career_and_Education/Education                 ...  0.153846   \n",
       "                                                   Games                                          ...  0.076923   \n",
       "                                                   Internet_and_Telecom/Web_Hosting               ...  0.076923   \n",
       "                                                   News_and_Media                                 ...  0.076923   \n",
       "                                                   News_and_Media/Sports_News                     ...  0.076923   \n",
       "Germany                                            Adult                                          ...  0.363636   \n",
       "                                                   Business_and_Industry/Marketing_and_Advertising...  0.090909   \n",
       "                                                   Career_and_Education/Education                 ...  0.090909   \n",
       "                                                   Internet_and_Telecom                           ...  0.090909   \n",
       "                                                   Internet_and_Telecom/Search_Engine             ...  0.090909   \n",
       "                                                   Internet_and_Telecom/Web_Hosting               ...  0.090909   \n",
       "                                                   News_and_Media/Sports_News                     ...  0.090909   \n",
       "                                                   Sports                                         ...  0.090909   \n",
       "Russian Federation                                 Adult                                          ...  0.333333   \n",
       "                                                   Career_and_Education/Education                 ...  0.166667   \n",
       "                                                   Finance/Banking                                ...  0.083333   \n",
       "                                                   Games                                          ...  0.166667   \n",
       "                                                   Internet_and_Telecom/Email                     ...  0.083333   \n",
       "                                                   Internet_and_Telecom/Web_Hosting               ...  0.083333   \n",
       "                                                   News_and_Media/Sports_News                     ...  0.083333   \n",
       "United Kingdom of Great Britain and Northern Ir... Adult                                          ...  0.285714   \n",
       "                                                   Arts_and_Entertainment                         ...  0.214286   \n",
       "                                                   Career_and_Education/Education                 ...  0.142857   \n",
       "                                                   Computer_and_Electronics/Software              ...  0.071429   \n",
       "                                                   Finance/Financial_Management                   ...  0.071429   \n",
       "                                                   Internet_and_Telecom/Search_Engine             ...  0.071429   \n",
       "                                                   Internet_and_Telecom/Web_Hosting               ...  0.071429   \n",
       "                                                   News_and_Media/Sports_News                     ...  0.071429   \n",
       "United States of America                           Adult                                          ...  0.181818   \n",
       "                                                   Arts_and_Entertainment                         ...  0.090909   \n",
       "                                                   Career_and_Education/Education                 ...  0.363636   \n",
       "                                                   Games                                          ...  0.090909   \n",
       "                                                   Internet_and_Telecom/Web_Hosting               ...  0.090909   \n",
       "                                                   News_and_Media/Sports_News                     ...  0.090909   \n",
       "                                                   Shopping                                       ...  0.090909   \n",
       "\n",
       "                                                                                                           site  \\\n",
       "country_name                                       category                                                       \n",
       "Canada                                             Adult                                          ...  0.307692   \n",
       "                                                   Arts_and_Entertainment                         ...  0.076923   \n",
       "                                                   Autos_and_Vehicles                             ...  0.076923   \n",
       "                                                   Business_and_Industry                          ...  0.076923   \n",
       "                                                   Career_and_Education/Education                 ...  0.153846   \n",
       "                                                   Games                                          ...  0.076923   \n",
       "                                                   Internet_and_Telecom/Web_Hosting               ...  0.076923   \n",
       "                                                   News_and_Media                                 ...  0.076923   \n",
       "                                                   News_and_Media/Sports_News                     ...  0.076923   \n",
       "Germany                                            Adult                                          ...  0.363636   \n",
       "                                                   Business_and_Industry/Marketing_and_Advertising...  0.090909   \n",
       "                                                   Career_and_Education/Education                 ...  0.090909   \n",
       "                                                   Internet_and_Telecom                           ...  0.090909   \n",
       "                                                   Internet_and_Telecom/Search_Engine             ...  0.090909   \n",
       "                                                   Internet_and_Telecom/Web_Hosting               ...  0.090909   \n",
       "                                                   News_and_Media/Sports_News                     ...  0.090909   \n",
       "                                                   Sports                                         ...  0.090909   \n",
       "Russian Federation                                 Adult                                          ...  0.333333   \n",
       "                                                   Career_and_Education/Education                 ...  0.166667   \n",
       "                                                   Finance/Banking                                ...  0.083333   \n",
       "                                                   Games                                          ...  0.166667   \n",
       "                                                   Internet_and_Telecom/Email                     ...  0.083333   \n",
       "                                                   Internet_and_Telecom/Web_Hosting               ...  0.083333   \n",
       "                                                   News_and_Media/Sports_News                     ...  0.083333   \n",
       "United Kingdom of Great Britain and Northern Ir... Adult                                          ...  0.285714   \n",
       "                                                   Arts_and_Entertainment                         ...  0.214286   \n",
       "                                                   Career_and_Education/Education                 ...  0.142857   \n",
       "                                                   Computer_and_Electronics/Software              ...  0.071429   \n",
       "                                                   Finance/Financial_Management                   ...  0.071429   \n",
       "                                                   Internet_and_Telecom/Search_Engine             ...  0.071429   \n",
       "                                                   Internet_and_Telecom/Web_Hosting               ...  0.071429   \n",
       "                                                   News_and_Media/Sports_News                     ...  0.071429   \n",
       "United States of America                           Adult                                          ...  0.181818   \n",
       "                                                   Arts_and_Entertainment                         ...  0.090909   \n",
       "                                                   Career_and_Education/Education                 ...  0.363636   \n",
       "                                                   Games                                          ...  0.090909   \n",
       "                                                   Internet_and_Telecom/Web_Hosting               ...  0.090909   \n",
       "                                                   News_and_Media/Sports_News                     ...  0.090909   \n",
       "                                                   Shopping                                       ...  0.090909   \n",
       "\n",
       "                                                                                                       prev_q_visits  \\\n",
       "country_name                                       category                                                            \n",
       "Canada                                             Adult                                          ...       0.307692   \n",
       "                                                   Arts_and_Entertainment                         ...       0.076923   \n",
       "                                                   Autos_and_Vehicles                             ...       0.076923   \n",
       "                                                   Business_and_Industry                          ...       0.076923   \n",
       "                                                   Career_and_Education/Education                 ...       0.153846   \n",
       "                                                   Games                                          ...       0.076923   \n",
       "                                                   Internet_and_Telecom/Web_Hosting               ...       0.076923   \n",
       "                                                   News_and_Media                                 ...       0.076923   \n",
       "                                                   News_and_Media/Sports_News                     ...       0.076923   \n",
       "Germany                                            Adult                                          ...       0.363636   \n",
       "                                                   Business_and_Industry/Marketing_and_Advertising...       0.090909   \n",
       "                                                   Career_and_Education/Education                 ...       0.090909   \n",
       "                                                   Internet_and_Telecom                           ...       0.090909   \n",
       "                                                   Internet_and_Telecom/Search_Engine             ...       0.090909   \n",
       "                                                   Internet_and_Telecom/Web_Hosting               ...       0.090909   \n",
       "                                                   News_and_Media/Sports_News                     ...       0.090909   \n",
       "                                                   Sports                                         ...       0.090909   \n",
       "Russian Federation                                 Adult                                          ...       0.333333   \n",
       "                                                   Career_and_Education/Education                 ...       0.166667   \n",
       "                                                   Finance/Banking                                ...       0.083333   \n",
       "                                                   Games                                          ...       0.166667   \n",
       "                                                   Internet_and_Telecom/Email                     ...       0.083333   \n",
       "                                                   Internet_and_Telecom/Web_Hosting               ...       0.083333   \n",
       "                                                   News_and_Media/Sports_News                     ...       0.083333   \n",
       "United Kingdom of Great Britain and Northern Ir... Adult                                          ...       0.285714   \n",
       "                                                   Arts_and_Entertainment                         ...       0.214286   \n",
       "                                                   Career_and_Education/Education                 ...       0.142857   \n",
       "                                                   Computer_and_Electronics/Software              ...       0.071429   \n",
       "                                                   Finance/Financial_Management                   ...       0.071429   \n",
       "                                                   Internet_and_Telecom/Search_Engine             ...       0.071429   \n",
       "                                                   Internet_and_Telecom/Web_Hosting               ...       0.071429   \n",
       "                                                   News_and_Media/Sports_News                     ...       0.071429   \n",
       "United States of America                           Adult                                          ...       0.181818   \n",
       "                                                   Arts_and_Entertainment                         ...       0.090909   \n",
       "                                                   Career_and_Education/Education                 ...       0.363636   \n",
       "                                                   Games                                          ...       0.090909   \n",
       "                                                   Internet_and_Telecom/Web_Hosting               ...       0.090909   \n",
       "                                                   News_and_Media/Sports_News                     ...       0.090909   \n",
       "                                                   Shopping                                       ...       0.090909   \n",
       "\n",
       "                                                                                                       next_q_visits  \\\n",
       "country_name                                       category                                                            \n",
       "Canada                                             Adult                                          ...       0.307692   \n",
       "                                                   Arts_and_Entertainment                         ...       0.076923   \n",
       "                                                   Autos_and_Vehicles                             ...       0.076923   \n",
       "                                                   Business_and_Industry                          ...       0.076923   \n",
       "                                                   Career_and_Education/Education                 ...       0.153846   \n",
       "                                                   Games                                          ...       0.076923   \n",
       "                                                   Internet_and_Telecom/Web_Hosting               ...       0.076923   \n",
       "                                                   News_and_Media                                 ...       0.076923   \n",
       "                                                   News_and_Media/Sports_News                     ...       0.076923   \n",
       "Germany                                            Adult                                          ...       0.363636   \n",
       "                                                   Business_and_Industry/Marketing_and_Advertising...       0.090909   \n",
       "                                                   Career_and_Education/Education                 ...       0.090909   \n",
       "                                                   Internet_and_Telecom                           ...       0.090909   \n",
       "                                                   Internet_and_Telecom/Search_Engine             ...       0.090909   \n",
       "                                                   Internet_and_Telecom/Web_Hosting               ...       0.090909   \n",
       "                                                   News_and_Media/Sports_News                     ...       0.090909   \n",
       "                                                   Sports                                         ...       0.090909   \n",
       "Russian Federation                                 Adult                                          ...       0.333333   \n",
       "                                                   Career_and_Education/Education                 ...       0.166667   \n",
       "                                                   Finance/Banking                                ...       0.083333   \n",
       "                                                   Games                                          ...       0.166667   \n",
       "                                                   Internet_and_Telecom/Email                     ...       0.083333   \n",
       "                                                   Internet_and_Telecom/Web_Hosting               ...       0.083333   \n",
       "                                                   News_and_Media/Sports_News                     ...       0.083333   \n",
       "United Kingdom of Great Britain and Northern Ir... Adult                                          ...       0.285714   \n",
       "                                                   Arts_and_Entertainment                         ...       0.214286   \n",
       "                                                   Career_and_Education/Education                 ...       0.142857   \n",
       "                                                   Computer_and_Electronics/Software              ...       0.071429   \n",
       "                                                   Finance/Financial_Management                   ...       0.071429   \n",
       "                                                   Internet_and_Telecom/Search_Engine             ...       0.071429   \n",
       "                                                   Internet_and_Telecom/Web_Hosting               ...       0.071429   \n",
       "                                                   News_and_Media/Sports_News                     ...       0.071429   \n",
       "United States of America                           Adult                                          ...       0.181818   \n",
       "                                                   Arts_and_Entertainment                         ...       0.090909   \n",
       "                                                   Career_and_Education/Education                 ...       0.363636   \n",
       "                                                   Games                                          ...       0.090909   \n",
       "                                                   Internet_and_Telecom/Web_Hosting               ...       0.090909   \n",
       "                                                   News_and_Media/Sports_News                     ...       0.090909   \n",
       "                                                   Shopping                                       ...       0.090909   \n",
       "\n",
       "                                                                                                       qoq_visits_change  \n",
       "country_name                                       category                                                               \n",
       "Canada                                             Adult                                          ...           0.307692  \n",
       "                                                   Arts_and_Entertainment                         ...           0.076923  \n",
       "                                                   Autos_and_Vehicles                             ...           0.076923  \n",
       "                                                   Business_and_Industry                          ...           0.076923  \n",
       "                                                   Career_and_Education/Education                 ...           0.153846  \n",
       "                                                   Games                                          ...           0.076923  \n",
       "                                                   Internet_and_Telecom/Web_Hosting               ...           0.076923  \n",
       "                                                   News_and_Media                                 ...           0.076923  \n",
       "                                                   News_and_Media/Sports_News                     ...           0.076923  \n",
       "Germany                                            Adult                                          ...           0.363636  \n",
       "                                                   Business_and_Industry/Marketing_and_Advertising...           0.090909  \n",
       "                                                   Career_and_Education/Education                 ...           0.090909  \n",
       "                                                   Internet_and_Telecom                           ...           0.090909  \n",
       "                                                   Internet_and_Telecom/Search_Engine             ...           0.090909  \n",
       "                                                   Internet_and_Telecom/Web_Hosting               ...           0.090909  \n",
       "                                                   News_and_Media/Sports_News                     ...           0.090909  \n",
       "                                                   Sports                                         ...           0.090909  \n",
       "Russian Federation                                 Adult                                          ...           0.333333  \n",
       "                                                   Career_and_Education/Education                 ...           0.166667  \n",
       "                                                   Finance/Banking                                ...           0.083333  \n",
       "                                                   Games                                          ...           0.166667  \n",
       "                                                   Internet_and_Telecom/Email                     ...           0.083333  \n",
       "                                                   Internet_and_Telecom/Web_Hosting               ...           0.083333  \n",
       "                                                   News_and_Media/Sports_News                     ...           0.083333  \n",
       "United Kingdom of Great Britain and Northern Ir... Adult                                          ...           0.285714  \n",
       "                                                   Arts_and_Entertainment                         ...           0.214286  \n",
       "                                                   Career_and_Education/Education                 ...           0.142857  \n",
       "                                                   Computer_and_Electronics/Software              ...           0.071429  \n",
       "                                                   Finance/Financial_Management                   ...           0.071429  \n",
       "                                                   Internet_and_Telecom/Search_Engine             ...           0.071429  \n",
       "                                                   Internet_and_Telecom/Web_Hosting               ...           0.071429  \n",
       "                                                   News_and_Media/Sports_News                     ...           0.071429  \n",
       "United States of America                           Adult                                          ...           0.181818  \n",
       "                                                   Arts_and_Entertainment                         ...           0.090909  \n",
       "                                                   Career_and_Education/Education                 ...           0.363636  \n",
       "                                                   Games                                          ...           0.090909  \n",
       "                                                   Internet_and_Telecom/Web_Hosting               ...           0.090909  \n",
       "                                                   News_and_Media/Sports_News                     ...           0.090909  \n",
       "                                                   Shopping                                       ...           0.090909  "
      ]
     },
     "execution_count": 635,
     "metadata": {},
     "output_type": "execute_result"
    }
   ],
   "source": [
    "df_gb_country_category = df_qoq[~df_qoq[\"quater\"].isnull()].groupby(['country_name', 'category']).count()\n",
    "df_gb_country_category= df_gb_country_category / df_gb_country_category.groupby(level=0).sum()\n",
    "df_gb_country_category"
   ]
  },
  {
   "cell_type": "code",
   "execution_count": 941,
   "metadata": {},
   "outputs": [
    {
     "data": {
      "application/vnd.plotly.v1+json": {
       "config": {
        "plotlyServerURL": "https://plot.ly"
       },
       "data": [
        {
         "alignmentgroup": "True",
         "hovertemplate": "category=Adult                                                                                                                                                                                                   <br>Country Name=%{x}<br>Percent=%{y}<extra></extra>",
         "legendgroup": "Adult                                                                                                                                                                                                   ",
         "marker": {
          "color": "#636efa",
          "pattern": {
           "shape": ""
          }
         },
         "name": "Adult                                                                                                                                                                                                   ",
         "offsetgroup": "Adult                                                                                                                                                                                                   ",
         "orientation": "v",
         "showlegend": true,
         "textposition": "auto",
         "type": "bar",
         "x": [
          "Canada",
          "Germany",
          "Russian Federation",
          "United Kingdom of Great Britain and Northern Ireland",
          "United States of America"
         ],
         "xaxis": "x",
         "y": [
          0.3076923076923077,
          0.36363636363636365,
          0.3333333333333333,
          0.2857142857142857,
          0.18181818181818182
         ],
         "yaxis": "y"
        },
        {
         "alignmentgroup": "True",
         "hovertemplate": "category=Arts_and_Entertainment                                                                                                                                                                                  <br>Country Name=%{x}<br>Percent=%{y}<extra></extra>",
         "legendgroup": "Arts_and_Entertainment                                                                                                                                                                                  ",
         "marker": {
          "color": "#EF553B",
          "pattern": {
           "shape": ""
          }
         },
         "name": "Arts_and_Entertainment                                                                                                                                                                                  ",
         "offsetgroup": "Arts_and_Entertainment                                                                                                                                                                                  ",
         "orientation": "v",
         "showlegend": true,
         "textposition": "auto",
         "type": "bar",
         "x": [
          "Canada",
          "United Kingdom of Great Britain and Northern Ireland",
          "United States of America"
         ],
         "xaxis": "x",
         "y": [
          0.07692307692307693,
          0.21428571428571427,
          0.09090909090909091
         ],
         "yaxis": "y"
        },
        {
         "alignmentgroup": "True",
         "hovertemplate": "category=Autos_and_Vehicles                                                                                                                                                                                      <br>Country Name=%{x}<br>Percent=%{y}<extra></extra>",
         "legendgroup": "Autos_and_Vehicles                                                                                                                                                                                      ",
         "marker": {
          "color": "#00cc96",
          "pattern": {
           "shape": ""
          }
         },
         "name": "Autos_and_Vehicles                                                                                                                                                                                      ",
         "offsetgroup": "Autos_and_Vehicles                                                                                                                                                                                      ",
         "orientation": "v",
         "showlegend": true,
         "textposition": "auto",
         "type": "bar",
         "x": [
          "Canada"
         ],
         "xaxis": "x",
         "y": [
          0.07692307692307693
         ],
         "yaxis": "y"
        },
        {
         "alignmentgroup": "True",
         "hovertemplate": "category=Business_and_Industry                                                                                                                                                                                   <br>Country Name=%{x}<br>Percent=%{y}<extra></extra>",
         "legendgroup": "Business_and_Industry                                                                                                                                                                                   ",
         "marker": {
          "color": "#ab63fa",
          "pattern": {
           "shape": ""
          }
         },
         "name": "Business_and_Industry                                                                                                                                                                                   ",
         "offsetgroup": "Business_and_Industry                                                                                                                                                                                   ",
         "orientation": "v",
         "showlegend": true,
         "textposition": "auto",
         "type": "bar",
         "x": [
          "Canada"
         ],
         "xaxis": "x",
         "y": [
          0.07692307692307693
         ],
         "yaxis": "y"
        },
        {
         "alignmentgroup": "True",
         "hovertemplate": "category=Career_and_Education/Education                                                                                                                                                                          <br>Country Name=%{x}<br>Percent=%{y}<extra></extra>",
         "legendgroup": "Career_and_Education/Education                                                                                                                                                                          ",
         "marker": {
          "color": "#FFA15A",
          "pattern": {
           "shape": ""
          }
         },
         "name": "Career_and_Education/Education                                                                                                                                                                          ",
         "offsetgroup": "Career_and_Education/Education                                                                                                                                                                          ",
         "orientation": "v",
         "showlegend": true,
         "textposition": "auto",
         "type": "bar",
         "x": [
          "Canada",
          "Germany",
          "Russian Federation",
          "United Kingdom of Great Britain and Northern Ireland",
          "United States of America"
         ],
         "xaxis": "x",
         "y": [
          0.15384615384615385,
          0.09090909090909091,
          0.16666666666666666,
          0.14285714285714285,
          0.36363636363636365
         ],
         "yaxis": "y"
        },
        {
         "alignmentgroup": "True",
         "hovertemplate": "category=Games                                                                                                                                                                                                   <br>Country Name=%{x}<br>Percent=%{y}<extra></extra>",
         "legendgroup": "Games                                                                                                                                                                                                   ",
         "marker": {
          "color": "#19d3f3",
          "pattern": {
           "shape": ""
          }
         },
         "name": "Games                                                                                                                                                                                                   ",
         "offsetgroup": "Games                                                                                                                                                                                                   ",
         "orientation": "v",
         "showlegend": true,
         "textposition": "auto",
         "type": "bar",
         "x": [
          "Canada",
          "Russian Federation",
          "United States of America"
         ],
         "xaxis": "x",
         "y": [
          0.07692307692307693,
          0.16666666666666666,
          0.09090909090909091
         ],
         "yaxis": "y"
        },
        {
         "alignmentgroup": "True",
         "hovertemplate": "category=Internet_and_Telecom/Web_Hosting                                                                                                                                                                        <br>Country Name=%{x}<br>Percent=%{y}<extra></extra>",
         "legendgroup": "Internet_and_Telecom/Web_Hosting                                                                                                                                                                        ",
         "marker": {
          "color": "#FF6692",
          "pattern": {
           "shape": ""
          }
         },
         "name": "Internet_and_Telecom/Web_Hosting                                                                                                                                                                        ",
         "offsetgroup": "Internet_and_Telecom/Web_Hosting                                                                                                                                                                        ",
         "orientation": "v",
         "showlegend": true,
         "textposition": "auto",
         "type": "bar",
         "x": [
          "Canada",
          "Germany",
          "Russian Federation",
          "United Kingdom of Great Britain and Northern Ireland",
          "United States of America"
         ],
         "xaxis": "x",
         "y": [
          0.07692307692307693,
          0.09090909090909091,
          0.08333333333333333,
          0.07142857142857142,
          0.09090909090909091
         ],
         "yaxis": "y"
        },
        {
         "alignmentgroup": "True",
         "hovertemplate": "category=News_and_Media                                                                                                                                                                                          <br>Country Name=%{x}<br>Percent=%{y}<extra></extra>",
         "legendgroup": "News_and_Media                                                                                                                                                                                          ",
         "marker": {
          "color": "#B6E880",
          "pattern": {
           "shape": ""
          }
         },
         "name": "News_and_Media                                                                                                                                                                                          ",
         "offsetgroup": "News_and_Media                                                                                                                                                                                          ",
         "orientation": "v",
         "showlegend": true,
         "textposition": "auto",
         "type": "bar",
         "x": [
          "Canada"
         ],
         "xaxis": "x",
         "y": [
          0.07692307692307693
         ],
         "yaxis": "y"
        },
        {
         "alignmentgroup": "True",
         "hovertemplate": "category=News_and_Media/Sports_News                                                                                                                                                                              <br>Country Name=%{x}<br>Percent=%{y}<extra></extra>",
         "legendgroup": "News_and_Media/Sports_News                                                                                                                                                                              ",
         "marker": {
          "color": "#FF97FF",
          "pattern": {
           "shape": ""
          }
         },
         "name": "News_and_Media/Sports_News                                                                                                                                                                              ",
         "offsetgroup": "News_and_Media/Sports_News                                                                                                                                                                              ",
         "orientation": "v",
         "showlegend": true,
         "textposition": "auto",
         "type": "bar",
         "x": [
          "Canada",
          "Germany",
          "Russian Federation",
          "United Kingdom of Great Britain and Northern Ireland",
          "United States of America"
         ],
         "xaxis": "x",
         "y": [
          0.07692307692307693,
          0.09090909090909091,
          0.08333333333333333,
          0.07142857142857142,
          0.09090909090909091
         ],
         "yaxis": "y"
        },
        {
         "alignmentgroup": "True",
         "hovertemplate": "category=Business_and_Industry/Marketing_and_Advertising                                                                                                                                                         <br>Country Name=%{x}<br>Percent=%{y}<extra></extra>",
         "legendgroup": "Business_and_Industry/Marketing_and_Advertising                                                                                                                                                         ",
         "marker": {
          "color": "#FECB52",
          "pattern": {
           "shape": ""
          }
         },
         "name": "Business_and_Industry/Marketing_and_Advertising                                                                                                                                                         ",
         "offsetgroup": "Business_and_Industry/Marketing_and_Advertising                                                                                                                                                         ",
         "orientation": "v",
         "showlegend": true,
         "textposition": "auto",
         "type": "bar",
         "x": [
          "Germany"
         ],
         "xaxis": "x",
         "y": [
          0.09090909090909091
         ],
         "yaxis": "y"
        },
        {
         "alignmentgroup": "True",
         "hovertemplate": "category=Internet_and_Telecom                                                                                                                                                                                    <br>Country Name=%{x}<br>Percent=%{y}<extra></extra>",
         "legendgroup": "Internet_and_Telecom                                                                                                                                                                                    ",
         "marker": {
          "color": "#636efa",
          "pattern": {
           "shape": ""
          }
         },
         "name": "Internet_and_Telecom                                                                                                                                                                                    ",
         "offsetgroup": "Internet_and_Telecom                                                                                                                                                                                    ",
         "orientation": "v",
         "showlegend": true,
         "textposition": "auto",
         "type": "bar",
         "x": [
          "Germany"
         ],
         "xaxis": "x",
         "y": [
          0.09090909090909091
         ],
         "yaxis": "y"
        },
        {
         "alignmentgroup": "True",
         "hovertemplate": "category=Internet_and_Telecom/Search_Engine                                                                                                                                                                      <br>Country Name=%{x}<br>Percent=%{y}<extra></extra>",
         "legendgroup": "Internet_and_Telecom/Search_Engine                                                                                                                                                                      ",
         "marker": {
          "color": "#EF553B",
          "pattern": {
           "shape": ""
          }
         },
         "name": "Internet_and_Telecom/Search_Engine                                                                                                                                                                      ",
         "offsetgroup": "Internet_and_Telecom/Search_Engine                                                                                                                                                                      ",
         "orientation": "v",
         "showlegend": true,
         "textposition": "auto",
         "type": "bar",
         "x": [
          "Germany",
          "United Kingdom of Great Britain and Northern Ireland"
         ],
         "xaxis": "x",
         "y": [
          0.09090909090909091,
          0.07142857142857142
         ],
         "yaxis": "y"
        },
        {
         "alignmentgroup": "True",
         "hovertemplate": "category=Sports                                                                                                                                                                                                  <br>Country Name=%{x}<br>Percent=%{y}<extra></extra>",
         "legendgroup": "Sports                                                                                                                                                                                                  ",
         "marker": {
          "color": "#00cc96",
          "pattern": {
           "shape": ""
          }
         },
         "name": "Sports                                                                                                                                                                                                  ",
         "offsetgroup": "Sports                                                                                                                                                                                                  ",
         "orientation": "v",
         "showlegend": true,
         "textposition": "auto",
         "type": "bar",
         "x": [
          "Germany"
         ],
         "xaxis": "x",
         "y": [
          0.09090909090909091
         ],
         "yaxis": "y"
        },
        {
         "alignmentgroup": "True",
         "hovertemplate": "category=Finance/Banking                                                                                                                                                                                         <br>Country Name=%{x}<br>Percent=%{y}<extra></extra>",
         "legendgroup": "Finance/Banking                                                                                                                                                                                         ",
         "marker": {
          "color": "#ab63fa",
          "pattern": {
           "shape": ""
          }
         },
         "name": "Finance/Banking                                                                                                                                                                                         ",
         "offsetgroup": "Finance/Banking                                                                                                                                                                                         ",
         "orientation": "v",
         "showlegend": true,
         "textposition": "auto",
         "type": "bar",
         "x": [
          "Russian Federation"
         ],
         "xaxis": "x",
         "y": [
          0.08333333333333333
         ],
         "yaxis": "y"
        },
        {
         "alignmentgroup": "True",
         "hovertemplate": "category=Internet_and_Telecom/Email                                                                                                                                                                              <br>Country Name=%{x}<br>Percent=%{y}<extra></extra>",
         "legendgroup": "Internet_and_Telecom/Email                                                                                                                                                                              ",
         "marker": {
          "color": "#FFA15A",
          "pattern": {
           "shape": ""
          }
         },
         "name": "Internet_and_Telecom/Email                                                                                                                                                                              ",
         "offsetgroup": "Internet_and_Telecom/Email                                                                                                                                                                              ",
         "orientation": "v",
         "showlegend": true,
         "textposition": "auto",
         "type": "bar",
         "x": [
          "Russian Federation"
         ],
         "xaxis": "x",
         "y": [
          0.08333333333333333
         ],
         "yaxis": "y"
        },
        {
         "alignmentgroup": "True",
         "hovertemplate": "category=Computer_and_Electronics/Software                                                                                                                                                                       <br>Country Name=%{x}<br>Percent=%{y}<extra></extra>",
         "legendgroup": "Computer_and_Electronics/Software                                                                                                                                                                       ",
         "marker": {
          "color": "#19d3f3",
          "pattern": {
           "shape": ""
          }
         },
         "name": "Computer_and_Electronics/Software                                                                                                                                                                       ",
         "offsetgroup": "Computer_and_Electronics/Software                                                                                                                                                                       ",
         "orientation": "v",
         "showlegend": true,
         "textposition": "auto",
         "type": "bar",
         "x": [
          "United Kingdom of Great Britain and Northern Ireland"
         ],
         "xaxis": "x",
         "y": [
          0.07142857142857142
         ],
         "yaxis": "y"
        },
        {
         "alignmentgroup": "True",
         "hovertemplate": "category=Finance/Financial_Management                                                                                                                                                                            <br>Country Name=%{x}<br>Percent=%{y}<extra></extra>",
         "legendgroup": "Finance/Financial_Management                                                                                                                                                                            ",
         "marker": {
          "color": "#FF6692",
          "pattern": {
           "shape": ""
          }
         },
         "name": "Finance/Financial_Management                                                                                                                                                                            ",
         "offsetgroup": "Finance/Financial_Management                                                                                                                                                                            ",
         "orientation": "v",
         "showlegend": true,
         "textposition": "auto",
         "type": "bar",
         "x": [
          "United Kingdom of Great Britain and Northern Ireland"
         ],
         "xaxis": "x",
         "y": [
          0.07142857142857142
         ],
         "yaxis": "y"
        },
        {
         "alignmentgroup": "True",
         "hovertemplate": "category=Shopping                                                                                                                                                                                                <br>Country Name=%{x}<br>Percent=%{y}<extra></extra>",
         "legendgroup": "Shopping                                                                                                                                                                                                ",
         "marker": {
          "color": "#B6E880",
          "pattern": {
           "shape": ""
          }
         },
         "name": "Shopping                                                                                                                                                                                                ",
         "offsetgroup": "Shopping                                                                                                                                                                                                ",
         "orientation": "v",
         "showlegend": true,
         "textposition": "auto",
         "type": "bar",
         "x": [
          "United States of America"
         ],
         "xaxis": "x",
         "y": [
          0.09090909090909091
         ],
         "yaxis": "y"
        }
       ],
       "layout": {
        "barmode": "group",
        "height": 700,
        "legend": {
         "title": {
          "text": "category"
         },
         "tracegroupgap": 0
        },
        "template": {
         "data": {
          "bar": [
           {
            "error_x": {
             "color": "#2a3f5f"
            },
            "error_y": {
             "color": "#2a3f5f"
            },
            "marker": {
             "line": {
              "color": "#E5ECF6",
              "width": 0.5
             },
             "pattern": {
              "fillmode": "overlay",
              "size": 10,
              "solidity": 0.2
             }
            },
            "type": "bar"
           }
          ],
          "barpolar": [
           {
            "marker": {
             "line": {
              "color": "#E5ECF6",
              "width": 0.5
             },
             "pattern": {
              "fillmode": "overlay",
              "size": 10,
              "solidity": 0.2
             }
            },
            "type": "barpolar"
           }
          ],
          "carpet": [
           {
            "aaxis": {
             "endlinecolor": "#2a3f5f",
             "gridcolor": "white",
             "linecolor": "white",
             "minorgridcolor": "white",
             "startlinecolor": "#2a3f5f"
            },
            "baxis": {
             "endlinecolor": "#2a3f5f",
             "gridcolor": "white",
             "linecolor": "white",
             "minorgridcolor": "white",
             "startlinecolor": "#2a3f5f"
            },
            "type": "carpet"
           }
          ],
          "choropleth": [
           {
            "colorbar": {
             "outlinewidth": 0,
             "ticks": ""
            },
            "type": "choropleth"
           }
          ],
          "contour": [
           {
            "colorbar": {
             "outlinewidth": 0,
             "ticks": ""
            },
            "colorscale": [
             [
              0,
              "#0d0887"
             ],
             [
              0.1111111111111111,
              "#46039f"
             ],
             [
              0.2222222222222222,
              "#7201a8"
             ],
             [
              0.3333333333333333,
              "#9c179e"
             ],
             [
              0.4444444444444444,
              "#bd3786"
             ],
             [
              0.5555555555555556,
              "#d8576b"
             ],
             [
              0.6666666666666666,
              "#ed7953"
             ],
             [
              0.7777777777777778,
              "#fb9f3a"
             ],
             [
              0.8888888888888888,
              "#fdca26"
             ],
             [
              1,
              "#f0f921"
             ]
            ],
            "type": "contour"
           }
          ],
          "contourcarpet": [
           {
            "colorbar": {
             "outlinewidth": 0,
             "ticks": ""
            },
            "type": "contourcarpet"
           }
          ],
          "heatmap": [
           {
            "colorbar": {
             "outlinewidth": 0,
             "ticks": ""
            },
            "colorscale": [
             [
              0,
              "#0d0887"
             ],
             [
              0.1111111111111111,
              "#46039f"
             ],
             [
              0.2222222222222222,
              "#7201a8"
             ],
             [
              0.3333333333333333,
              "#9c179e"
             ],
             [
              0.4444444444444444,
              "#bd3786"
             ],
             [
              0.5555555555555556,
              "#d8576b"
             ],
             [
              0.6666666666666666,
              "#ed7953"
             ],
             [
              0.7777777777777778,
              "#fb9f3a"
             ],
             [
              0.8888888888888888,
              "#fdca26"
             ],
             [
              1,
              "#f0f921"
             ]
            ],
            "type": "heatmap"
           }
          ],
          "heatmapgl": [
           {
            "colorbar": {
             "outlinewidth": 0,
             "ticks": ""
            },
            "colorscale": [
             [
              0,
              "#0d0887"
             ],
             [
              0.1111111111111111,
              "#46039f"
             ],
             [
              0.2222222222222222,
              "#7201a8"
             ],
             [
              0.3333333333333333,
              "#9c179e"
             ],
             [
              0.4444444444444444,
              "#bd3786"
             ],
             [
              0.5555555555555556,
              "#d8576b"
             ],
             [
              0.6666666666666666,
              "#ed7953"
             ],
             [
              0.7777777777777778,
              "#fb9f3a"
             ],
             [
              0.8888888888888888,
              "#fdca26"
             ],
             [
              1,
              "#f0f921"
             ]
            ],
            "type": "heatmapgl"
           }
          ],
          "histogram": [
           {
            "marker": {
             "pattern": {
              "fillmode": "overlay",
              "size": 10,
              "solidity": 0.2
             }
            },
            "type": "histogram"
           }
          ],
          "histogram2d": [
           {
            "colorbar": {
             "outlinewidth": 0,
             "ticks": ""
            },
            "colorscale": [
             [
              0,
              "#0d0887"
             ],
             [
              0.1111111111111111,
              "#46039f"
             ],
             [
              0.2222222222222222,
              "#7201a8"
             ],
             [
              0.3333333333333333,
              "#9c179e"
             ],
             [
              0.4444444444444444,
              "#bd3786"
             ],
             [
              0.5555555555555556,
              "#d8576b"
             ],
             [
              0.6666666666666666,
              "#ed7953"
             ],
             [
              0.7777777777777778,
              "#fb9f3a"
             ],
             [
              0.8888888888888888,
              "#fdca26"
             ],
             [
              1,
              "#f0f921"
             ]
            ],
            "type": "histogram2d"
           }
          ],
          "histogram2dcontour": [
           {
            "colorbar": {
             "outlinewidth": 0,
             "ticks": ""
            },
            "colorscale": [
             [
              0,
              "#0d0887"
             ],
             [
              0.1111111111111111,
              "#46039f"
             ],
             [
              0.2222222222222222,
              "#7201a8"
             ],
             [
              0.3333333333333333,
              "#9c179e"
             ],
             [
              0.4444444444444444,
              "#bd3786"
             ],
             [
              0.5555555555555556,
              "#d8576b"
             ],
             [
              0.6666666666666666,
              "#ed7953"
             ],
             [
              0.7777777777777778,
              "#fb9f3a"
             ],
             [
              0.8888888888888888,
              "#fdca26"
             ],
             [
              1,
              "#f0f921"
             ]
            ],
            "type": "histogram2dcontour"
           }
          ],
          "mesh3d": [
           {
            "colorbar": {
             "outlinewidth": 0,
             "ticks": ""
            },
            "type": "mesh3d"
           }
          ],
          "parcoords": [
           {
            "line": {
             "colorbar": {
              "outlinewidth": 0,
              "ticks": ""
             }
            },
            "type": "parcoords"
           }
          ],
          "pie": [
           {
            "automargin": true,
            "type": "pie"
           }
          ],
          "scatter": [
           {
            "marker": {
             "colorbar": {
              "outlinewidth": 0,
              "ticks": ""
             }
            },
            "type": "scatter"
           }
          ],
          "scatter3d": [
           {
            "line": {
             "colorbar": {
              "outlinewidth": 0,
              "ticks": ""
             }
            },
            "marker": {
             "colorbar": {
              "outlinewidth": 0,
              "ticks": ""
             }
            },
            "type": "scatter3d"
           }
          ],
          "scattercarpet": [
           {
            "marker": {
             "colorbar": {
              "outlinewidth": 0,
              "ticks": ""
             }
            },
            "type": "scattercarpet"
           }
          ],
          "scattergeo": [
           {
            "marker": {
             "colorbar": {
              "outlinewidth": 0,
              "ticks": ""
             }
            },
            "type": "scattergeo"
           }
          ],
          "scattergl": [
           {
            "marker": {
             "colorbar": {
              "outlinewidth": 0,
              "ticks": ""
             }
            },
            "type": "scattergl"
           }
          ],
          "scattermapbox": [
           {
            "marker": {
             "colorbar": {
              "outlinewidth": 0,
              "ticks": ""
             }
            },
            "type": "scattermapbox"
           }
          ],
          "scatterpolar": [
           {
            "marker": {
             "colorbar": {
              "outlinewidth": 0,
              "ticks": ""
             }
            },
            "type": "scatterpolar"
           }
          ],
          "scatterpolargl": [
           {
            "marker": {
             "colorbar": {
              "outlinewidth": 0,
              "ticks": ""
             }
            },
            "type": "scatterpolargl"
           }
          ],
          "scatterternary": [
           {
            "marker": {
             "colorbar": {
              "outlinewidth": 0,
              "ticks": ""
             }
            },
            "type": "scatterternary"
           }
          ],
          "surface": [
           {
            "colorbar": {
             "outlinewidth": 0,
             "ticks": ""
            },
            "colorscale": [
             [
              0,
              "#0d0887"
             ],
             [
              0.1111111111111111,
              "#46039f"
             ],
             [
              0.2222222222222222,
              "#7201a8"
             ],
             [
              0.3333333333333333,
              "#9c179e"
             ],
             [
              0.4444444444444444,
              "#bd3786"
             ],
             [
              0.5555555555555556,
              "#d8576b"
             ],
             [
              0.6666666666666666,
              "#ed7953"
             ],
             [
              0.7777777777777778,
              "#fb9f3a"
             ],
             [
              0.8888888888888888,
              "#fdca26"
             ],
             [
              1,
              "#f0f921"
             ]
            ],
            "type": "surface"
           }
          ],
          "table": [
           {
            "cells": {
             "fill": {
              "color": "#EBF0F8"
             },
             "line": {
              "color": "white"
             }
            },
            "header": {
             "fill": {
              "color": "#C8D4E3"
             },
             "line": {
              "color": "white"
             }
            },
            "type": "table"
           }
          ]
         },
         "layout": {
          "annotationdefaults": {
           "arrowcolor": "#2a3f5f",
           "arrowhead": 0,
           "arrowwidth": 1
          },
          "autotypenumbers": "strict",
          "coloraxis": {
           "colorbar": {
            "outlinewidth": 0,
            "ticks": ""
           }
          },
          "colorscale": {
           "diverging": [
            [
             0,
             "#8e0152"
            ],
            [
             0.1,
             "#c51b7d"
            ],
            [
             0.2,
             "#de77ae"
            ],
            [
             0.3,
             "#f1b6da"
            ],
            [
             0.4,
             "#fde0ef"
            ],
            [
             0.5,
             "#f7f7f7"
            ],
            [
             0.6,
             "#e6f5d0"
            ],
            [
             0.7,
             "#b8e186"
            ],
            [
             0.8,
             "#7fbc41"
            ],
            [
             0.9,
             "#4d9221"
            ],
            [
             1,
             "#276419"
            ]
           ],
           "sequential": [
            [
             0,
             "#0d0887"
            ],
            [
             0.1111111111111111,
             "#46039f"
            ],
            [
             0.2222222222222222,
             "#7201a8"
            ],
            [
             0.3333333333333333,
             "#9c179e"
            ],
            [
             0.4444444444444444,
             "#bd3786"
            ],
            [
             0.5555555555555556,
             "#d8576b"
            ],
            [
             0.6666666666666666,
             "#ed7953"
            ],
            [
             0.7777777777777778,
             "#fb9f3a"
            ],
            [
             0.8888888888888888,
             "#fdca26"
            ],
            [
             1,
             "#f0f921"
            ]
           ],
           "sequentialminus": [
            [
             0,
             "#0d0887"
            ],
            [
             0.1111111111111111,
             "#46039f"
            ],
            [
             0.2222222222222222,
             "#7201a8"
            ],
            [
             0.3333333333333333,
             "#9c179e"
            ],
            [
             0.4444444444444444,
             "#bd3786"
            ],
            [
             0.5555555555555556,
             "#d8576b"
            ],
            [
             0.6666666666666666,
             "#ed7953"
            ],
            [
             0.7777777777777778,
             "#fb9f3a"
            ],
            [
             0.8888888888888888,
             "#fdca26"
            ],
            [
             1,
             "#f0f921"
            ]
           ]
          },
          "colorway": [
           "#636efa",
           "#EF553B",
           "#00cc96",
           "#ab63fa",
           "#FFA15A",
           "#19d3f3",
           "#FF6692",
           "#B6E880",
           "#FF97FF",
           "#FECB52"
          ],
          "font": {
           "color": "#2a3f5f"
          },
          "geo": {
           "bgcolor": "white",
           "lakecolor": "white",
           "landcolor": "#E5ECF6",
           "showlakes": true,
           "showland": true,
           "subunitcolor": "white"
          },
          "hoverlabel": {
           "align": "left"
          },
          "hovermode": "closest",
          "mapbox": {
           "style": "light"
          },
          "paper_bgcolor": "white",
          "plot_bgcolor": "#E5ECF6",
          "polar": {
           "angularaxis": {
            "gridcolor": "white",
            "linecolor": "white",
            "ticks": ""
           },
           "bgcolor": "#E5ECF6",
           "radialaxis": {
            "gridcolor": "white",
            "linecolor": "white",
            "ticks": ""
           }
          },
          "scene": {
           "xaxis": {
            "backgroundcolor": "#E5ECF6",
            "gridcolor": "white",
            "gridwidth": 2,
            "linecolor": "white",
            "showbackground": true,
            "ticks": "",
            "zerolinecolor": "white"
           },
           "yaxis": {
            "backgroundcolor": "#E5ECF6",
            "gridcolor": "white",
            "gridwidth": 2,
            "linecolor": "white",
            "showbackground": true,
            "ticks": "",
            "zerolinecolor": "white"
           },
           "zaxis": {
            "backgroundcolor": "#E5ECF6",
            "gridcolor": "white",
            "gridwidth": 2,
            "linecolor": "white",
            "showbackground": true,
            "ticks": "",
            "zerolinecolor": "white"
           }
          },
          "shapedefaults": {
           "line": {
            "color": "#2a3f5f"
           }
          },
          "ternary": {
           "aaxis": {
            "gridcolor": "white",
            "linecolor": "white",
            "ticks": ""
           },
           "baxis": {
            "gridcolor": "white",
            "linecolor": "white",
            "ticks": ""
           },
           "bgcolor": "#E5ECF6",
           "caxis": {
            "gridcolor": "white",
            "linecolor": "white",
            "ticks": ""
           }
          },
          "title": {
           "x": 0.05
          },
          "xaxis": {
           "automargin": true,
           "gridcolor": "white",
           "linecolor": "white",
           "ticks": "",
           "title": {
            "standoff": 15
           },
           "zerolinecolor": "white",
           "zerolinewidth": 2
          },
          "yaxis": {
           "automargin": true,
           "gridcolor": "white",
           "linecolor": "white",
           "ticks": "",
           "title": {
            "standoff": 15
           },
           "zerolinecolor": "white",
           "zerolinewidth": 2
          }
         }
        },
        "title": {
         "text": "Most Common Category Per Country"
        },
        "width": 1500,
        "xaxis": {
         "anchor": "y",
         "domain": [
          0,
          1
         ],
         "title": {
          "text": "Country Name"
         }
        },
        "yaxis": {
         "anchor": "x",
         "domain": [
          0,
          1
         ],
         "title": {
          "text": "Percent"
         }
        }
       }
      },
      "text/html": [
       "<div>                            <div id=\"9d3f3a02-cb7a-4436-8b84-5286473ff1d9\" class=\"plotly-graph-div\" style=\"height:700px; width:1500px;\"></div>            <script type=\"text/javascript\">                require([\"plotly\"], function(Plotly) {                    window.PLOTLYENV=window.PLOTLYENV || {};                                    if (document.getElementById(\"9d3f3a02-cb7a-4436-8b84-5286473ff1d9\")) {                    Plotly.newPlot(                        \"9d3f3a02-cb7a-4436-8b84-5286473ff1d9\",                        [{\"alignmentgroup\":\"True\",\"hovertemplate\":\"category=Adult                                                                                                                                                                                                   <br>Country Name=%{x}<br>Percent=%{y}<extra></extra>\",\"legendgroup\":\"Adult                                                                                                                                                                                                   \",\"marker\":{\"color\":\"#636efa\",\"pattern\":{\"shape\":\"\"}},\"name\":\"Adult                                                                                                                                                                                                   \",\"offsetgroup\":\"Adult                                                                                                                                                                                                   \",\"orientation\":\"v\",\"showlegend\":true,\"textposition\":\"auto\",\"type\":\"bar\",\"x\":[\"Canada\",\"Germany\",\"Russian Federation\",\"United Kingdom of Great Britain and Northern Ireland\",\"United States of America\"],\"xaxis\":\"x\",\"y\":[0.3076923076923077,0.36363636363636365,0.3333333333333333,0.2857142857142857,0.18181818181818182],\"yaxis\":\"y\"},{\"alignmentgroup\":\"True\",\"hovertemplate\":\"category=Arts_and_Entertainment                                                                                                                                                                                  <br>Country Name=%{x}<br>Percent=%{y}<extra></extra>\",\"legendgroup\":\"Arts_and_Entertainment                                                                                                                                                                                  \",\"marker\":{\"color\":\"#EF553B\",\"pattern\":{\"shape\":\"\"}},\"name\":\"Arts_and_Entertainment                                                                                                                                                                                  \",\"offsetgroup\":\"Arts_and_Entertainment                                                                                                                                                                                  \",\"orientation\":\"v\",\"showlegend\":true,\"textposition\":\"auto\",\"type\":\"bar\",\"x\":[\"Canada\",\"United Kingdom of Great Britain and Northern Ireland\",\"United States of America\"],\"xaxis\":\"x\",\"y\":[0.07692307692307693,0.21428571428571427,0.09090909090909091],\"yaxis\":\"y\"},{\"alignmentgroup\":\"True\",\"hovertemplate\":\"category=Autos_and_Vehicles                                                                                                                                                                                      <br>Country Name=%{x}<br>Percent=%{y}<extra></extra>\",\"legendgroup\":\"Autos_and_Vehicles                                                                                                                                                                                      \",\"marker\":{\"color\":\"#00cc96\",\"pattern\":{\"shape\":\"\"}},\"name\":\"Autos_and_Vehicles                                                                                                                                                                                      \",\"offsetgroup\":\"Autos_and_Vehicles                                                                                                                                                                                      \",\"orientation\":\"v\",\"showlegend\":true,\"textposition\":\"auto\",\"type\":\"bar\",\"x\":[\"Canada\"],\"xaxis\":\"x\",\"y\":[0.07692307692307693],\"yaxis\":\"y\"},{\"alignmentgroup\":\"True\",\"hovertemplate\":\"category=Business_and_Industry                                                                                                                                                                                   <br>Country Name=%{x}<br>Percent=%{y}<extra></extra>\",\"legendgroup\":\"Business_and_Industry                                                                                                                                                                                   \",\"marker\":{\"color\":\"#ab63fa\",\"pattern\":{\"shape\":\"\"}},\"name\":\"Business_and_Industry                                                                                                                                                                                   \",\"offsetgroup\":\"Business_and_Industry                                                                                                                                                                                   \",\"orientation\":\"v\",\"showlegend\":true,\"textposition\":\"auto\",\"type\":\"bar\",\"x\":[\"Canada\"],\"xaxis\":\"x\",\"y\":[0.07692307692307693],\"yaxis\":\"y\"},{\"alignmentgroup\":\"True\",\"hovertemplate\":\"category=Career_and_Education/Education                                                                                                                                                                          <br>Country Name=%{x}<br>Percent=%{y}<extra></extra>\",\"legendgroup\":\"Career_and_Education/Education                                                                                                                                                                          \",\"marker\":{\"color\":\"#FFA15A\",\"pattern\":{\"shape\":\"\"}},\"name\":\"Career_and_Education/Education                                                                                                                                                                          \",\"offsetgroup\":\"Career_and_Education/Education                                                                                                                                                                          \",\"orientation\":\"v\",\"showlegend\":true,\"textposition\":\"auto\",\"type\":\"bar\",\"x\":[\"Canada\",\"Germany\",\"Russian Federation\",\"United Kingdom of Great Britain and Northern Ireland\",\"United States of America\"],\"xaxis\":\"x\",\"y\":[0.15384615384615385,0.09090909090909091,0.16666666666666666,0.14285714285714285,0.36363636363636365],\"yaxis\":\"y\"},{\"alignmentgroup\":\"True\",\"hovertemplate\":\"category=Games                                                                                                                                                                                                   <br>Country Name=%{x}<br>Percent=%{y}<extra></extra>\",\"legendgroup\":\"Games                                                                                                                                                                                                   \",\"marker\":{\"color\":\"#19d3f3\",\"pattern\":{\"shape\":\"\"}},\"name\":\"Games                                                                                                                                                                                                   \",\"offsetgroup\":\"Games                                                                                                                                                                                                   \",\"orientation\":\"v\",\"showlegend\":true,\"textposition\":\"auto\",\"type\":\"bar\",\"x\":[\"Canada\",\"Russian Federation\",\"United States of America\"],\"xaxis\":\"x\",\"y\":[0.07692307692307693,0.16666666666666666,0.09090909090909091],\"yaxis\":\"y\"},{\"alignmentgroup\":\"True\",\"hovertemplate\":\"category=Internet_and_Telecom/Web_Hosting                                                                                                                                                                        <br>Country Name=%{x}<br>Percent=%{y}<extra></extra>\",\"legendgroup\":\"Internet_and_Telecom/Web_Hosting                                                                                                                                                                        \",\"marker\":{\"color\":\"#FF6692\",\"pattern\":{\"shape\":\"\"}},\"name\":\"Internet_and_Telecom/Web_Hosting                                                                                                                                                                        \",\"offsetgroup\":\"Internet_and_Telecom/Web_Hosting                                                                                                                                                                        \",\"orientation\":\"v\",\"showlegend\":true,\"textposition\":\"auto\",\"type\":\"bar\",\"x\":[\"Canada\",\"Germany\",\"Russian Federation\",\"United Kingdom of Great Britain and Northern Ireland\",\"United States of America\"],\"xaxis\":\"x\",\"y\":[0.07692307692307693,0.09090909090909091,0.08333333333333333,0.07142857142857142,0.09090909090909091],\"yaxis\":\"y\"},{\"alignmentgroup\":\"True\",\"hovertemplate\":\"category=News_and_Media                                                                                                                                                                                          <br>Country Name=%{x}<br>Percent=%{y}<extra></extra>\",\"legendgroup\":\"News_and_Media                                                                                                                                                                                          \",\"marker\":{\"color\":\"#B6E880\",\"pattern\":{\"shape\":\"\"}},\"name\":\"News_and_Media                                                                                                                                                                                          \",\"offsetgroup\":\"News_and_Media                                                                                                                                                                                          \",\"orientation\":\"v\",\"showlegend\":true,\"textposition\":\"auto\",\"type\":\"bar\",\"x\":[\"Canada\"],\"xaxis\":\"x\",\"y\":[0.07692307692307693],\"yaxis\":\"y\"},{\"alignmentgroup\":\"True\",\"hovertemplate\":\"category=News_and_Media/Sports_News                                                                                                                                                                              <br>Country Name=%{x}<br>Percent=%{y}<extra></extra>\",\"legendgroup\":\"News_and_Media/Sports_News                                                                                                                                                                              \",\"marker\":{\"color\":\"#FF97FF\",\"pattern\":{\"shape\":\"\"}},\"name\":\"News_and_Media/Sports_News                                                                                                                                                                              \",\"offsetgroup\":\"News_and_Media/Sports_News                                                                                                                                                                              \",\"orientation\":\"v\",\"showlegend\":true,\"textposition\":\"auto\",\"type\":\"bar\",\"x\":[\"Canada\",\"Germany\",\"Russian Federation\",\"United Kingdom of Great Britain and Northern Ireland\",\"United States of America\"],\"xaxis\":\"x\",\"y\":[0.07692307692307693,0.09090909090909091,0.08333333333333333,0.07142857142857142,0.09090909090909091],\"yaxis\":\"y\"},{\"alignmentgroup\":\"True\",\"hovertemplate\":\"category=Business_and_Industry/Marketing_and_Advertising                                                                                                                                                         <br>Country Name=%{x}<br>Percent=%{y}<extra></extra>\",\"legendgroup\":\"Business_and_Industry/Marketing_and_Advertising                                                                                                                                                         \",\"marker\":{\"color\":\"#FECB52\",\"pattern\":{\"shape\":\"\"}},\"name\":\"Business_and_Industry/Marketing_and_Advertising                                                                                                                                                         \",\"offsetgroup\":\"Business_and_Industry/Marketing_and_Advertising                                                                                                                                                         \",\"orientation\":\"v\",\"showlegend\":true,\"textposition\":\"auto\",\"type\":\"bar\",\"x\":[\"Germany\"],\"xaxis\":\"x\",\"y\":[0.09090909090909091],\"yaxis\":\"y\"},{\"alignmentgroup\":\"True\",\"hovertemplate\":\"category=Internet_and_Telecom                                                                                                                                                                                    <br>Country Name=%{x}<br>Percent=%{y}<extra></extra>\",\"legendgroup\":\"Internet_and_Telecom                                                                                                                                                                                    \",\"marker\":{\"color\":\"#636efa\",\"pattern\":{\"shape\":\"\"}},\"name\":\"Internet_and_Telecom                                                                                                                                                                                    \",\"offsetgroup\":\"Internet_and_Telecom                                                                                                                                                                                    \",\"orientation\":\"v\",\"showlegend\":true,\"textposition\":\"auto\",\"type\":\"bar\",\"x\":[\"Germany\"],\"xaxis\":\"x\",\"y\":[0.09090909090909091],\"yaxis\":\"y\"},{\"alignmentgroup\":\"True\",\"hovertemplate\":\"category=Internet_and_Telecom/Search_Engine                                                                                                                                                                      <br>Country Name=%{x}<br>Percent=%{y}<extra></extra>\",\"legendgroup\":\"Internet_and_Telecom/Search_Engine                                                                                                                                                                      \",\"marker\":{\"color\":\"#EF553B\",\"pattern\":{\"shape\":\"\"}},\"name\":\"Internet_and_Telecom/Search_Engine                                                                                                                                                                      \",\"offsetgroup\":\"Internet_and_Telecom/Search_Engine                                                                                                                                                                      \",\"orientation\":\"v\",\"showlegend\":true,\"textposition\":\"auto\",\"type\":\"bar\",\"x\":[\"Germany\",\"United Kingdom of Great Britain and Northern Ireland\"],\"xaxis\":\"x\",\"y\":[0.09090909090909091,0.07142857142857142],\"yaxis\":\"y\"},{\"alignmentgroup\":\"True\",\"hovertemplate\":\"category=Sports                                                                                                                                                                                                  <br>Country Name=%{x}<br>Percent=%{y}<extra></extra>\",\"legendgroup\":\"Sports                                                                                                                                                                                                  \",\"marker\":{\"color\":\"#00cc96\",\"pattern\":{\"shape\":\"\"}},\"name\":\"Sports                                                                                                                                                                                                  \",\"offsetgroup\":\"Sports                                                                                                                                                                                                  \",\"orientation\":\"v\",\"showlegend\":true,\"textposition\":\"auto\",\"type\":\"bar\",\"x\":[\"Germany\"],\"xaxis\":\"x\",\"y\":[0.09090909090909091],\"yaxis\":\"y\"},{\"alignmentgroup\":\"True\",\"hovertemplate\":\"category=Finance/Banking                                                                                                                                                                                         <br>Country Name=%{x}<br>Percent=%{y}<extra></extra>\",\"legendgroup\":\"Finance/Banking                                                                                                                                                                                         \",\"marker\":{\"color\":\"#ab63fa\",\"pattern\":{\"shape\":\"\"}},\"name\":\"Finance/Banking                                                                                                                                                                                         \",\"offsetgroup\":\"Finance/Banking                                                                                                                                                                                         \",\"orientation\":\"v\",\"showlegend\":true,\"textposition\":\"auto\",\"type\":\"bar\",\"x\":[\"Russian Federation\"],\"xaxis\":\"x\",\"y\":[0.08333333333333333],\"yaxis\":\"y\"},{\"alignmentgroup\":\"True\",\"hovertemplate\":\"category=Internet_and_Telecom/Email                                                                                                                                                                              <br>Country Name=%{x}<br>Percent=%{y}<extra></extra>\",\"legendgroup\":\"Internet_and_Telecom/Email                                                                                                                                                                              \",\"marker\":{\"color\":\"#FFA15A\",\"pattern\":{\"shape\":\"\"}},\"name\":\"Internet_and_Telecom/Email                                                                                                                                                                              \",\"offsetgroup\":\"Internet_and_Telecom/Email                                                                                                                                                                              \",\"orientation\":\"v\",\"showlegend\":true,\"textposition\":\"auto\",\"type\":\"bar\",\"x\":[\"Russian Federation\"],\"xaxis\":\"x\",\"y\":[0.08333333333333333],\"yaxis\":\"y\"},{\"alignmentgroup\":\"True\",\"hovertemplate\":\"category=Computer_and_Electronics/Software                                                                                                                                                                       <br>Country Name=%{x}<br>Percent=%{y}<extra></extra>\",\"legendgroup\":\"Computer_and_Electronics/Software                                                                                                                                                                       \",\"marker\":{\"color\":\"#19d3f3\",\"pattern\":{\"shape\":\"\"}},\"name\":\"Computer_and_Electronics/Software                                                                                                                                                                       \",\"offsetgroup\":\"Computer_and_Electronics/Software                                                                                                                                                                       \",\"orientation\":\"v\",\"showlegend\":true,\"textposition\":\"auto\",\"type\":\"bar\",\"x\":[\"United Kingdom of Great Britain and Northern Ireland\"],\"xaxis\":\"x\",\"y\":[0.07142857142857142],\"yaxis\":\"y\"},{\"alignmentgroup\":\"True\",\"hovertemplate\":\"category=Finance/Financial_Management                                                                                                                                                                            <br>Country Name=%{x}<br>Percent=%{y}<extra></extra>\",\"legendgroup\":\"Finance/Financial_Management                                                                                                                                                                            \",\"marker\":{\"color\":\"#FF6692\",\"pattern\":{\"shape\":\"\"}},\"name\":\"Finance/Financial_Management                                                                                                                                                                            \",\"offsetgroup\":\"Finance/Financial_Management                                                                                                                                                                            \",\"orientation\":\"v\",\"showlegend\":true,\"textposition\":\"auto\",\"type\":\"bar\",\"x\":[\"United Kingdom of Great Britain and Northern Ireland\"],\"xaxis\":\"x\",\"y\":[0.07142857142857142],\"yaxis\":\"y\"},{\"alignmentgroup\":\"True\",\"hovertemplate\":\"category=Shopping                                                                                                                                                                                                <br>Country Name=%{x}<br>Percent=%{y}<extra></extra>\",\"legendgroup\":\"Shopping                                                                                                                                                                                                \",\"marker\":{\"color\":\"#B6E880\",\"pattern\":{\"shape\":\"\"}},\"name\":\"Shopping                                                                                                                                                                                                \",\"offsetgroup\":\"Shopping                                                                                                                                                                                                \",\"orientation\":\"v\",\"showlegend\":true,\"textposition\":\"auto\",\"type\":\"bar\",\"x\":[\"United States of America\"],\"xaxis\":\"x\",\"y\":[0.09090909090909091],\"yaxis\":\"y\"}],                        {\"barmode\":\"group\",\"height\":700,\"legend\":{\"title\":{\"text\":\"category\"},\"tracegroupgap\":0},\"template\":{\"data\":{\"bar\":[{\"error_x\":{\"color\":\"#2a3f5f\"},\"error_y\":{\"color\":\"#2a3f5f\"},\"marker\":{\"line\":{\"color\":\"#E5ECF6\",\"width\":0.5},\"pattern\":{\"fillmode\":\"overlay\",\"size\":10,\"solidity\":0.2}},\"type\":\"bar\"}],\"barpolar\":[{\"marker\":{\"line\":{\"color\":\"#E5ECF6\",\"width\":0.5},\"pattern\":{\"fillmode\":\"overlay\",\"size\":10,\"solidity\":0.2}},\"type\":\"barpolar\"}],\"carpet\":[{\"aaxis\":{\"endlinecolor\":\"#2a3f5f\",\"gridcolor\":\"white\",\"linecolor\":\"white\",\"minorgridcolor\":\"white\",\"startlinecolor\":\"#2a3f5f\"},\"baxis\":{\"endlinecolor\":\"#2a3f5f\",\"gridcolor\":\"white\",\"linecolor\":\"white\",\"minorgridcolor\":\"white\",\"startlinecolor\":\"#2a3f5f\"},\"type\":\"carpet\"}],\"choropleth\":[{\"colorbar\":{\"outlinewidth\":0,\"ticks\":\"\"},\"type\":\"choropleth\"}],\"contour\":[{\"colorbar\":{\"outlinewidth\":0,\"ticks\":\"\"},\"colorscale\":[[0.0,\"#0d0887\"],[0.1111111111111111,\"#46039f\"],[0.2222222222222222,\"#7201a8\"],[0.3333333333333333,\"#9c179e\"],[0.4444444444444444,\"#bd3786\"],[0.5555555555555556,\"#d8576b\"],[0.6666666666666666,\"#ed7953\"],[0.7777777777777778,\"#fb9f3a\"],[0.8888888888888888,\"#fdca26\"],[1.0,\"#f0f921\"]],\"type\":\"contour\"}],\"contourcarpet\":[{\"colorbar\":{\"outlinewidth\":0,\"ticks\":\"\"},\"type\":\"contourcarpet\"}],\"heatmap\":[{\"colorbar\":{\"outlinewidth\":0,\"ticks\":\"\"},\"colorscale\":[[0.0,\"#0d0887\"],[0.1111111111111111,\"#46039f\"],[0.2222222222222222,\"#7201a8\"],[0.3333333333333333,\"#9c179e\"],[0.4444444444444444,\"#bd3786\"],[0.5555555555555556,\"#d8576b\"],[0.6666666666666666,\"#ed7953\"],[0.7777777777777778,\"#fb9f3a\"],[0.8888888888888888,\"#fdca26\"],[1.0,\"#f0f921\"]],\"type\":\"heatmap\"}],\"heatmapgl\":[{\"colorbar\":{\"outlinewidth\":0,\"ticks\":\"\"},\"colorscale\":[[0.0,\"#0d0887\"],[0.1111111111111111,\"#46039f\"],[0.2222222222222222,\"#7201a8\"],[0.3333333333333333,\"#9c179e\"],[0.4444444444444444,\"#bd3786\"],[0.5555555555555556,\"#d8576b\"],[0.6666666666666666,\"#ed7953\"],[0.7777777777777778,\"#fb9f3a\"],[0.8888888888888888,\"#fdca26\"],[1.0,\"#f0f921\"]],\"type\":\"heatmapgl\"}],\"histogram\":[{\"marker\":{\"pattern\":{\"fillmode\":\"overlay\",\"size\":10,\"solidity\":0.2}},\"type\":\"histogram\"}],\"histogram2d\":[{\"colorbar\":{\"outlinewidth\":0,\"ticks\":\"\"},\"colorscale\":[[0.0,\"#0d0887\"],[0.1111111111111111,\"#46039f\"],[0.2222222222222222,\"#7201a8\"],[0.3333333333333333,\"#9c179e\"],[0.4444444444444444,\"#bd3786\"],[0.5555555555555556,\"#d8576b\"],[0.6666666666666666,\"#ed7953\"],[0.7777777777777778,\"#fb9f3a\"],[0.8888888888888888,\"#fdca26\"],[1.0,\"#f0f921\"]],\"type\":\"histogram2d\"}],\"histogram2dcontour\":[{\"colorbar\":{\"outlinewidth\":0,\"ticks\":\"\"},\"colorscale\":[[0.0,\"#0d0887\"],[0.1111111111111111,\"#46039f\"],[0.2222222222222222,\"#7201a8\"],[0.3333333333333333,\"#9c179e\"],[0.4444444444444444,\"#bd3786\"],[0.5555555555555556,\"#d8576b\"],[0.6666666666666666,\"#ed7953\"],[0.7777777777777778,\"#fb9f3a\"],[0.8888888888888888,\"#fdca26\"],[1.0,\"#f0f921\"]],\"type\":\"histogram2dcontour\"}],\"mesh3d\":[{\"colorbar\":{\"outlinewidth\":0,\"ticks\":\"\"},\"type\":\"mesh3d\"}],\"parcoords\":[{\"line\":{\"colorbar\":{\"outlinewidth\":0,\"ticks\":\"\"}},\"type\":\"parcoords\"}],\"pie\":[{\"automargin\":true,\"type\":\"pie\"}],\"scatter\":[{\"marker\":{\"colorbar\":{\"outlinewidth\":0,\"ticks\":\"\"}},\"type\":\"scatter\"}],\"scatter3d\":[{\"line\":{\"colorbar\":{\"outlinewidth\":0,\"ticks\":\"\"}},\"marker\":{\"colorbar\":{\"outlinewidth\":0,\"ticks\":\"\"}},\"type\":\"scatter3d\"}],\"scattercarpet\":[{\"marker\":{\"colorbar\":{\"outlinewidth\":0,\"ticks\":\"\"}},\"type\":\"scattercarpet\"}],\"scattergeo\":[{\"marker\":{\"colorbar\":{\"outlinewidth\":0,\"ticks\":\"\"}},\"type\":\"scattergeo\"}],\"scattergl\":[{\"marker\":{\"colorbar\":{\"outlinewidth\":0,\"ticks\":\"\"}},\"type\":\"scattergl\"}],\"scattermapbox\":[{\"marker\":{\"colorbar\":{\"outlinewidth\":0,\"ticks\":\"\"}},\"type\":\"scattermapbox\"}],\"scatterpolar\":[{\"marker\":{\"colorbar\":{\"outlinewidth\":0,\"ticks\":\"\"}},\"type\":\"scatterpolar\"}],\"scatterpolargl\":[{\"marker\":{\"colorbar\":{\"outlinewidth\":0,\"ticks\":\"\"}},\"type\":\"scatterpolargl\"}],\"scatterternary\":[{\"marker\":{\"colorbar\":{\"outlinewidth\":0,\"ticks\":\"\"}},\"type\":\"scatterternary\"}],\"surface\":[{\"colorbar\":{\"outlinewidth\":0,\"ticks\":\"\"},\"colorscale\":[[0.0,\"#0d0887\"],[0.1111111111111111,\"#46039f\"],[0.2222222222222222,\"#7201a8\"],[0.3333333333333333,\"#9c179e\"],[0.4444444444444444,\"#bd3786\"],[0.5555555555555556,\"#d8576b\"],[0.6666666666666666,\"#ed7953\"],[0.7777777777777778,\"#fb9f3a\"],[0.8888888888888888,\"#fdca26\"],[1.0,\"#f0f921\"]],\"type\":\"surface\"}],\"table\":[{\"cells\":{\"fill\":{\"color\":\"#EBF0F8\"},\"line\":{\"color\":\"white\"}},\"header\":{\"fill\":{\"color\":\"#C8D4E3\"},\"line\":{\"color\":\"white\"}},\"type\":\"table\"}]},\"layout\":{\"annotationdefaults\":{\"arrowcolor\":\"#2a3f5f\",\"arrowhead\":0,\"arrowwidth\":1},\"autotypenumbers\":\"strict\",\"coloraxis\":{\"colorbar\":{\"outlinewidth\":0,\"ticks\":\"\"}},\"colorscale\":{\"diverging\":[[0,\"#8e0152\"],[0.1,\"#c51b7d\"],[0.2,\"#de77ae\"],[0.3,\"#f1b6da\"],[0.4,\"#fde0ef\"],[0.5,\"#f7f7f7\"],[0.6,\"#e6f5d0\"],[0.7,\"#b8e186\"],[0.8,\"#7fbc41\"],[0.9,\"#4d9221\"],[1,\"#276419\"]],\"sequential\":[[0.0,\"#0d0887\"],[0.1111111111111111,\"#46039f\"],[0.2222222222222222,\"#7201a8\"],[0.3333333333333333,\"#9c179e\"],[0.4444444444444444,\"#bd3786\"],[0.5555555555555556,\"#d8576b\"],[0.6666666666666666,\"#ed7953\"],[0.7777777777777778,\"#fb9f3a\"],[0.8888888888888888,\"#fdca26\"],[1.0,\"#f0f921\"]],\"sequentialminus\":[[0.0,\"#0d0887\"],[0.1111111111111111,\"#46039f\"],[0.2222222222222222,\"#7201a8\"],[0.3333333333333333,\"#9c179e\"],[0.4444444444444444,\"#bd3786\"],[0.5555555555555556,\"#d8576b\"],[0.6666666666666666,\"#ed7953\"],[0.7777777777777778,\"#fb9f3a\"],[0.8888888888888888,\"#fdca26\"],[1.0,\"#f0f921\"]]},\"colorway\":[\"#636efa\",\"#EF553B\",\"#00cc96\",\"#ab63fa\",\"#FFA15A\",\"#19d3f3\",\"#FF6692\",\"#B6E880\",\"#FF97FF\",\"#FECB52\"],\"font\":{\"color\":\"#2a3f5f\"},\"geo\":{\"bgcolor\":\"white\",\"lakecolor\":\"white\",\"landcolor\":\"#E5ECF6\",\"showlakes\":true,\"showland\":true,\"subunitcolor\":\"white\"},\"hoverlabel\":{\"align\":\"left\"},\"hovermode\":\"closest\",\"mapbox\":{\"style\":\"light\"},\"paper_bgcolor\":\"white\",\"plot_bgcolor\":\"#E5ECF6\",\"polar\":{\"angularaxis\":{\"gridcolor\":\"white\",\"linecolor\":\"white\",\"ticks\":\"\"},\"bgcolor\":\"#E5ECF6\",\"radialaxis\":{\"gridcolor\":\"white\",\"linecolor\":\"white\",\"ticks\":\"\"}},\"scene\":{\"xaxis\":{\"backgroundcolor\":\"#E5ECF6\",\"gridcolor\":\"white\",\"gridwidth\":2,\"linecolor\":\"white\",\"showbackground\":true,\"ticks\":\"\",\"zerolinecolor\":\"white\"},\"yaxis\":{\"backgroundcolor\":\"#E5ECF6\",\"gridcolor\":\"white\",\"gridwidth\":2,\"linecolor\":\"white\",\"showbackground\":true,\"ticks\":\"\",\"zerolinecolor\":\"white\"},\"zaxis\":{\"backgroundcolor\":\"#E5ECF6\",\"gridcolor\":\"white\",\"gridwidth\":2,\"linecolor\":\"white\",\"showbackground\":true,\"ticks\":\"\",\"zerolinecolor\":\"white\"}},\"shapedefaults\":{\"line\":{\"color\":\"#2a3f5f\"}},\"ternary\":{\"aaxis\":{\"gridcolor\":\"white\",\"linecolor\":\"white\",\"ticks\":\"\"},\"baxis\":{\"gridcolor\":\"white\",\"linecolor\":\"white\",\"ticks\":\"\"},\"bgcolor\":\"#E5ECF6\",\"caxis\":{\"gridcolor\":\"white\",\"linecolor\":\"white\",\"ticks\":\"\"}},\"title\":{\"x\":0.05},\"xaxis\":{\"automargin\":true,\"gridcolor\":\"white\",\"linecolor\":\"white\",\"ticks\":\"\",\"title\":{\"standoff\":15},\"zerolinecolor\":\"white\",\"zerolinewidth\":2},\"yaxis\":{\"automargin\":true,\"gridcolor\":\"white\",\"linecolor\":\"white\",\"ticks\":\"\",\"title\":{\"standoff\":15},\"zerolinecolor\":\"white\",\"zerolinewidth\":2}}},\"title\":{\"text\":\"Most Common Category Per Country\"},\"width\":1500,\"xaxis\":{\"anchor\":\"y\",\"domain\":[0.0,1.0],\"title\":{\"text\":\"Country Name\"}},\"yaxis\":{\"anchor\":\"x\",\"domain\":[0.0,1.0],\"title\":{\"text\":\"Percent\"}}},                        {\"responsive\": true}                    ).then(function(){\n",
       "                            \n",
       "var gd = document.getElementById('9d3f3a02-cb7a-4436-8b84-5286473ff1d9');\n",
       "var x = new MutationObserver(function (mutations, observer) {{\n",
       "        var display = window.getComputedStyle(gd).display;\n",
       "        if (!display || display === 'none') {{\n",
       "            console.log([gd, 'removed!']);\n",
       "            Plotly.purge(gd);\n",
       "            observer.disconnect();\n",
       "        }}\n",
       "}});\n",
       "\n",
       "// Listen for the removal of the full notebook cells\n",
       "var notebookContainer = gd.closest('#notebook-container');\n",
       "if (notebookContainer) {{\n",
       "    x.observe(notebookContainer, {childList: true});\n",
       "}}\n",
       "\n",
       "// Listen for the clearing of the current output cell\n",
       "var outputEl = gd.closest('.output');\n",
       "if (outputEl) {{\n",
       "    x.observe(outputEl, {childList: true});\n",
       "}}\n",
       "\n",
       "                        })                };                });            </script>        </div>"
      ]
     },
     "metadata": {},
     "output_type": "display_data"
    }
   ],
   "source": [
    "fig = px.bar(df_gb_country_category.reset_index(), x=\"country_name\", color=\"category\",\n",
    "             y='year',\n",
    "             title=\"Most Common Category Per Country\",\n",
    "             barmode='group',\n",
    "             labels={'year':'Percent', 'country_name':'Country Name'},\n",
    "             height=700,\n",
    "             width=1500\n",
    "            )\n",
    "fig.show()"
   ]
  },
  {
   "cell_type": "code",
   "execution_count": 912,
   "metadata": {},
   "outputs": [
    {
     "data": {
      "text/html": [
       "<div>\n",
       "<style scoped>\n",
       "    .dataframe tbody tr th:only-of-type {\n",
       "        vertical-align: middle;\n",
       "    }\n",
       "\n",
       "    .dataframe tbody tr th {\n",
       "        vertical-align: top;\n",
       "    }\n",
       "\n",
       "    .dataframe thead th {\n",
       "        text-align: right;\n",
       "    }\n",
       "</style>\n",
       "<table border=\"1\" class=\"dataframe\">\n",
       "  <thead>\n",
       "    <tr style=\"text-align: right;\">\n",
       "      <th></th>\n",
       "      <th></th>\n",
       "      <th></th>\n",
       "      <th>country</th>\n",
       "      <th>country_name</th>\n",
       "      <th>site</th>\n",
       "      <th>prev_q_visits</th>\n",
       "      <th>next_q_visits</th>\n",
       "      <th>qoq_visits_change</th>\n",
       "    </tr>\n",
       "    <tr>\n",
       "      <th>year</th>\n",
       "      <th>quater</th>\n",
       "      <th>category</th>\n",
       "      <th></th>\n",
       "      <th></th>\n",
       "      <th></th>\n",
       "      <th></th>\n",
       "      <th></th>\n",
       "      <th></th>\n",
       "    </tr>\n",
       "  </thead>\n",
       "  <tbody>\n",
       "    <tr>\n",
       "      <th rowspan=\"22\" valign=\"top\">16.0</th>\n",
       "      <th rowspan=\"11\" valign=\"top\">3.0</th>\n",
       "      <th>Adult</th>\n",
       "      <td>13</td>\n",
       "      <td>13</td>\n",
       "      <td>13</td>\n",
       "      <td>13</td>\n",
       "      <td>13</td>\n",
       "      <td>13</td>\n",
       "    </tr>\n",
       "    <tr>\n",
       "      <th>Arts_and_Entertainment</th>\n",
       "      <td>2</td>\n",
       "      <td>2</td>\n",
       "      <td>2</td>\n",
       "      <td>2</td>\n",
       "      <td>2</td>\n",
       "      <td>2</td>\n",
       "    </tr>\n",
       "    <tr>\n",
       "      <th>Business_and_Industry</th>\n",
       "      <td>1</td>\n",
       "      <td>1</td>\n",
       "      <td>1</td>\n",
       "      <td>1</td>\n",
       "      <td>1</td>\n",
       "      <td>1</td>\n",
       "    </tr>\n",
       "    <tr>\n",
       "      <th>Business_and_Industry/Marketing_and_Advertising</th>\n",
       "      <td>1</td>\n",
       "      <td>1</td>\n",
       "      <td>1</td>\n",
       "      <td>1</td>\n",
       "      <td>1</td>\n",
       "      <td>1</td>\n",
       "    </tr>\n",
       "    <tr>\n",
       "      <th>Career_and_Education/Education</th>\n",
       "      <td>2</td>\n",
       "      <td>2</td>\n",
       "      <td>2</td>\n",
       "      <td>2</td>\n",
       "      <td>2</td>\n",
       "      <td>2</td>\n",
       "    </tr>\n",
       "    <tr>\n",
       "      <th>Computer_and_Electronics/Software</th>\n",
       "      <td>1</td>\n",
       "      <td>1</td>\n",
       "      <td>1</td>\n",
       "      <td>1</td>\n",
       "      <td>1</td>\n",
       "      <td>1</td>\n",
       "    </tr>\n",
       "    <tr>\n",
       "      <th>Internet_and_Telecom</th>\n",
       "      <td>1</td>\n",
       "      <td>1</td>\n",
       "      <td>1</td>\n",
       "      <td>1</td>\n",
       "      <td>1</td>\n",
       "      <td>1</td>\n",
       "    </tr>\n",
       "    <tr>\n",
       "      <th>Internet_and_Telecom/Email</th>\n",
       "      <td>1</td>\n",
       "      <td>1</td>\n",
       "      <td>1</td>\n",
       "      <td>1</td>\n",
       "      <td>1</td>\n",
       "      <td>1</td>\n",
       "    </tr>\n",
       "    <tr>\n",
       "      <th>Internet_and_Telecom/Search_Engine</th>\n",
       "      <td>1</td>\n",
       "      <td>1</td>\n",
       "      <td>1</td>\n",
       "      <td>1</td>\n",
       "      <td>1</td>\n",
       "      <td>1</td>\n",
       "    </tr>\n",
       "    <tr>\n",
       "      <th>Internet_and_Telecom/Web_Hosting</th>\n",
       "      <td>5</td>\n",
       "      <td>5</td>\n",
       "      <td>5</td>\n",
       "      <td>5</td>\n",
       "      <td>5</td>\n",
       "      <td>5</td>\n",
       "    </tr>\n",
       "    <tr>\n",
       "      <th>News_and_Media/Sports_News</th>\n",
       "      <td>5</td>\n",
       "      <td>5</td>\n",
       "      <td>5</td>\n",
       "      <td>5</td>\n",
       "      <td>5</td>\n",
       "      <td>5</td>\n",
       "    </tr>\n",
       "    <tr>\n",
       "      <th rowspan=\"11\" valign=\"top\">4.0</th>\n",
       "      <th>Adult</th>\n",
       "      <td>5</td>\n",
       "      <td>5</td>\n",
       "      <td>5</td>\n",
       "      <td>5</td>\n",
       "      <td>5</td>\n",
       "      <td>5</td>\n",
       "    </tr>\n",
       "    <tr>\n",
       "      <th>Arts_and_Entertainment</th>\n",
       "      <td>3</td>\n",
       "      <td>3</td>\n",
       "      <td>3</td>\n",
       "      <td>3</td>\n",
       "      <td>3</td>\n",
       "      <td>3</td>\n",
       "    </tr>\n",
       "    <tr>\n",
       "      <th>Autos_and_Vehicles</th>\n",
       "      <td>1</td>\n",
       "      <td>1</td>\n",
       "      <td>1</td>\n",
       "      <td>1</td>\n",
       "      <td>1</td>\n",
       "      <td>1</td>\n",
       "    </tr>\n",
       "    <tr>\n",
       "      <th>Career_and_Education/Education</th>\n",
       "      <td>9</td>\n",
       "      <td>9</td>\n",
       "      <td>9</td>\n",
       "      <td>9</td>\n",
       "      <td>9</td>\n",
       "      <td>9</td>\n",
       "    </tr>\n",
       "    <tr>\n",
       "      <th>Finance/Banking</th>\n",
       "      <td>1</td>\n",
       "      <td>1</td>\n",
       "      <td>1</td>\n",
       "      <td>1</td>\n",
       "      <td>1</td>\n",
       "      <td>1</td>\n",
       "    </tr>\n",
       "    <tr>\n",
       "      <th>Finance/Financial_Management</th>\n",
       "      <td>1</td>\n",
       "      <td>1</td>\n",
       "      <td>1</td>\n",
       "      <td>1</td>\n",
       "      <td>1</td>\n",
       "      <td>1</td>\n",
       "    </tr>\n",
       "    <tr>\n",
       "      <th>Games</th>\n",
       "      <td>4</td>\n",
       "      <td>4</td>\n",
       "      <td>4</td>\n",
       "      <td>4</td>\n",
       "      <td>4</td>\n",
       "      <td>4</td>\n",
       "    </tr>\n",
       "    <tr>\n",
       "      <th>Internet_and_Telecom/Search_Engine</th>\n",
       "      <td>1</td>\n",
       "      <td>1</td>\n",
       "      <td>1</td>\n",
       "      <td>1</td>\n",
       "      <td>1</td>\n",
       "      <td>1</td>\n",
       "    </tr>\n",
       "    <tr>\n",
       "      <th>News_and_Media</th>\n",
       "      <td>1</td>\n",
       "      <td>1</td>\n",
       "      <td>1</td>\n",
       "      <td>1</td>\n",
       "      <td>1</td>\n",
       "      <td>1</td>\n",
       "    </tr>\n",
       "    <tr>\n",
       "      <th>Shopping</th>\n",
       "      <td>1</td>\n",
       "      <td>1</td>\n",
       "      <td>1</td>\n",
       "      <td>1</td>\n",
       "      <td>1</td>\n",
       "      <td>1</td>\n",
       "    </tr>\n",
       "    <tr>\n",
       "      <th>Sports</th>\n",
       "      <td>1</td>\n",
       "      <td>1</td>\n",
       "      <td>1</td>\n",
       "      <td>1</td>\n",
       "      <td>1</td>\n",
       "      <td>1</td>\n",
       "    </tr>\n",
       "  </tbody>\n",
       "</table>\n",
       "</div>"
      ],
      "text/plain": [
       "                                                                country  \\\n",
       "year quater category                                                      \n",
       "16.0 3.0    Adult                                          ...       13   \n",
       "            Arts_and_Entertainment                         ...        2   \n",
       "            Business_and_Industry                          ...        1   \n",
       "            Business_and_Industry/Marketing_and_Advertising...        1   \n",
       "            Career_and_Education/Education                 ...        2   \n",
       "            Computer_and_Electronics/Software              ...        1   \n",
       "            Internet_and_Telecom                           ...        1   \n",
       "            Internet_and_Telecom/Email                     ...        1   \n",
       "            Internet_and_Telecom/Search_Engine             ...        1   \n",
       "            Internet_and_Telecom/Web_Hosting               ...        5   \n",
       "            News_and_Media/Sports_News                     ...        5   \n",
       "     4.0    Adult                                          ...        5   \n",
       "            Arts_and_Entertainment                         ...        3   \n",
       "            Autos_and_Vehicles                             ...        1   \n",
       "            Career_and_Education/Education                 ...        9   \n",
       "            Finance/Banking                                ...        1   \n",
       "            Finance/Financial_Management                   ...        1   \n",
       "            Games                                          ...        4   \n",
       "            Internet_and_Telecom/Search_Engine             ...        1   \n",
       "            News_and_Media                                 ...        1   \n",
       "            Shopping                                       ...        1   \n",
       "            Sports                                         ...        1   \n",
       "\n",
       "                                                                country_name  \\\n",
       "year quater category                                                           \n",
       "16.0 3.0    Adult                                          ...            13   \n",
       "            Arts_and_Entertainment                         ...             2   \n",
       "            Business_and_Industry                          ...             1   \n",
       "            Business_and_Industry/Marketing_and_Advertising...             1   \n",
       "            Career_and_Education/Education                 ...             2   \n",
       "            Computer_and_Electronics/Software              ...             1   \n",
       "            Internet_and_Telecom                           ...             1   \n",
       "            Internet_and_Telecom/Email                     ...             1   \n",
       "            Internet_and_Telecom/Search_Engine             ...             1   \n",
       "            Internet_and_Telecom/Web_Hosting               ...             5   \n",
       "            News_and_Media/Sports_News                     ...             5   \n",
       "     4.0    Adult                                          ...             5   \n",
       "            Arts_and_Entertainment                         ...             3   \n",
       "            Autos_and_Vehicles                             ...             1   \n",
       "            Career_and_Education/Education                 ...             9   \n",
       "            Finance/Banking                                ...             1   \n",
       "            Finance/Financial_Management                   ...             1   \n",
       "            Games                                          ...             4   \n",
       "            Internet_and_Telecom/Search_Engine             ...             1   \n",
       "            News_and_Media                                 ...             1   \n",
       "            Shopping                                       ...             1   \n",
       "            Sports                                         ...             1   \n",
       "\n",
       "                                                                site  \\\n",
       "year quater category                                                   \n",
       "16.0 3.0    Adult                                          ...    13   \n",
       "            Arts_and_Entertainment                         ...     2   \n",
       "            Business_and_Industry                          ...     1   \n",
       "            Business_and_Industry/Marketing_and_Advertising...     1   \n",
       "            Career_and_Education/Education                 ...     2   \n",
       "            Computer_and_Electronics/Software              ...     1   \n",
       "            Internet_and_Telecom                           ...     1   \n",
       "            Internet_and_Telecom/Email                     ...     1   \n",
       "            Internet_and_Telecom/Search_Engine             ...     1   \n",
       "            Internet_and_Telecom/Web_Hosting               ...     5   \n",
       "            News_and_Media/Sports_News                     ...     5   \n",
       "     4.0    Adult                                          ...     5   \n",
       "            Arts_and_Entertainment                         ...     3   \n",
       "            Autos_and_Vehicles                             ...     1   \n",
       "            Career_and_Education/Education                 ...     9   \n",
       "            Finance/Banking                                ...     1   \n",
       "            Finance/Financial_Management                   ...     1   \n",
       "            Games                                          ...     4   \n",
       "            Internet_and_Telecom/Search_Engine             ...     1   \n",
       "            News_and_Media                                 ...     1   \n",
       "            Shopping                                       ...     1   \n",
       "            Sports                                         ...     1   \n",
       "\n",
       "                                                                prev_q_visits  \\\n",
       "year quater category                                                            \n",
       "16.0 3.0    Adult                                          ...             13   \n",
       "            Arts_and_Entertainment                         ...              2   \n",
       "            Business_and_Industry                          ...              1   \n",
       "            Business_and_Industry/Marketing_and_Advertising...              1   \n",
       "            Career_and_Education/Education                 ...              2   \n",
       "            Computer_and_Electronics/Software              ...              1   \n",
       "            Internet_and_Telecom                           ...              1   \n",
       "            Internet_and_Telecom/Email                     ...              1   \n",
       "            Internet_and_Telecom/Search_Engine             ...              1   \n",
       "            Internet_and_Telecom/Web_Hosting               ...              5   \n",
       "            News_and_Media/Sports_News                     ...              5   \n",
       "     4.0    Adult                                          ...              5   \n",
       "            Arts_and_Entertainment                         ...              3   \n",
       "            Autos_and_Vehicles                             ...              1   \n",
       "            Career_and_Education/Education                 ...              9   \n",
       "            Finance/Banking                                ...              1   \n",
       "            Finance/Financial_Management                   ...              1   \n",
       "            Games                                          ...              4   \n",
       "            Internet_and_Telecom/Search_Engine             ...              1   \n",
       "            News_and_Media                                 ...              1   \n",
       "            Shopping                                       ...              1   \n",
       "            Sports                                         ...              1   \n",
       "\n",
       "                                                                next_q_visits  \\\n",
       "year quater category                                                            \n",
       "16.0 3.0    Adult                                          ...             13   \n",
       "            Arts_and_Entertainment                         ...              2   \n",
       "            Business_and_Industry                          ...              1   \n",
       "            Business_and_Industry/Marketing_and_Advertising...              1   \n",
       "            Career_and_Education/Education                 ...              2   \n",
       "            Computer_and_Electronics/Software              ...              1   \n",
       "            Internet_and_Telecom                           ...              1   \n",
       "            Internet_and_Telecom/Email                     ...              1   \n",
       "            Internet_and_Telecom/Search_Engine             ...              1   \n",
       "            Internet_and_Telecom/Web_Hosting               ...              5   \n",
       "            News_and_Media/Sports_News                     ...              5   \n",
       "     4.0    Adult                                          ...              5   \n",
       "            Arts_and_Entertainment                         ...              3   \n",
       "            Autos_and_Vehicles                             ...              1   \n",
       "            Career_and_Education/Education                 ...              9   \n",
       "            Finance/Banking                                ...              1   \n",
       "            Finance/Financial_Management                   ...              1   \n",
       "            Games                                          ...              4   \n",
       "            Internet_and_Telecom/Search_Engine             ...              1   \n",
       "            News_and_Media                                 ...              1   \n",
       "            Shopping                                       ...              1   \n",
       "            Sports                                         ...              1   \n",
       "\n",
       "                                                                qoq_visits_change  \n",
       "year quater category                                                               \n",
       "16.0 3.0    Adult                                          ...                 13  \n",
       "            Arts_and_Entertainment                         ...                  2  \n",
       "            Business_and_Industry                          ...                  1  \n",
       "            Business_and_Industry/Marketing_and_Advertising...                  1  \n",
       "            Career_and_Education/Education                 ...                  2  \n",
       "            Computer_and_Electronics/Software              ...                  1  \n",
       "            Internet_and_Telecom                           ...                  1  \n",
       "            Internet_and_Telecom/Email                     ...                  1  \n",
       "            Internet_and_Telecom/Search_Engine             ...                  1  \n",
       "            Internet_and_Telecom/Web_Hosting               ...                  5  \n",
       "            News_and_Media/Sports_News                     ...                  5  \n",
       "     4.0    Adult                                          ...                  5  \n",
       "            Arts_and_Entertainment                         ...                  3  \n",
       "            Autos_and_Vehicles                             ...                  1  \n",
       "            Career_and_Education/Education                 ...                  9  \n",
       "            Finance/Banking                                ...                  1  \n",
       "            Finance/Financial_Management                   ...                  1  \n",
       "            Games                                          ...                  4  \n",
       "            Internet_and_Telecom/Search_Engine             ...                  1  \n",
       "            News_and_Media                                 ...                  1  \n",
       "            Shopping                                       ...                  1  \n",
       "            Sports                                         ...                  1  "
      ]
     },
     "execution_count": 912,
     "metadata": {},
     "output_type": "execute_result"
    }
   ],
   "source": [
    "df_gb_q_category = df_qoq[~df_qoq[\"quater\"].isnull()].groupby(['year','quater','category']).count()\n",
    "df_gb_q_category"
   ]
  },
  {
   "cell_type": "code",
   "execution_count": 918,
   "metadata": {},
   "outputs": [
    {
     "data": {
      "application/vnd.plotly.v1+json": {
       "config": {
        "plotlyServerURL": "https://plot.ly"
       },
       "data": [
        {
         "alignmentgroup": "True",
         "hovertemplate": "category=Adult                                                                                                                                                                                                   <br>Quater=%{x}<br>Ammount=%{y}<extra></extra>",
         "legendgroup": "Adult                                                                                                                                                                                                   ",
         "marker": {
          "color": "#636efa",
          "pattern": {
           "shape": ""
          }
         },
         "name": "Adult                                                                                                                                                                                                   ",
         "offsetgroup": "Adult                                                                                                                                                                                                   ",
         "orientation": "v",
         "showlegend": true,
         "textposition": "auto",
         "type": "bar",
         "x": [
          3,
          4
         ],
         "xaxis": "x",
         "y": [
          13,
          5
         ],
         "yaxis": "y"
        },
        {
         "alignmentgroup": "True",
         "hovertemplate": "category=Arts_and_Entertainment                                                                                                                                                                                  <br>Quater=%{x}<br>Ammount=%{y}<extra></extra>",
         "legendgroup": "Arts_and_Entertainment                                                                                                                                                                                  ",
         "marker": {
          "color": "#EF553B",
          "pattern": {
           "shape": ""
          }
         },
         "name": "Arts_and_Entertainment                                                                                                                                                                                  ",
         "offsetgroup": "Arts_and_Entertainment                                                                                                                                                                                  ",
         "orientation": "v",
         "showlegend": true,
         "textposition": "auto",
         "type": "bar",
         "x": [
          3,
          4
         ],
         "xaxis": "x",
         "y": [
          2,
          3
         ],
         "yaxis": "y"
        },
        {
         "alignmentgroup": "True",
         "hovertemplate": "category=Business_and_Industry                                                                                                                                                                                   <br>Quater=%{x}<br>Ammount=%{y}<extra></extra>",
         "legendgroup": "Business_and_Industry                                                                                                                                                                                   ",
         "marker": {
          "color": "#00cc96",
          "pattern": {
           "shape": ""
          }
         },
         "name": "Business_and_Industry                                                                                                                                                                                   ",
         "offsetgroup": "Business_and_Industry                                                                                                                                                                                   ",
         "orientation": "v",
         "showlegend": true,
         "textposition": "auto",
         "type": "bar",
         "x": [
          3
         ],
         "xaxis": "x",
         "y": [
          1
         ],
         "yaxis": "y"
        },
        {
         "alignmentgroup": "True",
         "hovertemplate": "category=Business_and_Industry/Marketing_and_Advertising                                                                                                                                                         <br>Quater=%{x}<br>Ammount=%{y}<extra></extra>",
         "legendgroup": "Business_and_Industry/Marketing_and_Advertising                                                                                                                                                         ",
         "marker": {
          "color": "#ab63fa",
          "pattern": {
           "shape": ""
          }
         },
         "name": "Business_and_Industry/Marketing_and_Advertising                                                                                                                                                         ",
         "offsetgroup": "Business_and_Industry/Marketing_and_Advertising                                                                                                                                                         ",
         "orientation": "v",
         "showlegend": true,
         "textposition": "auto",
         "type": "bar",
         "x": [
          3
         ],
         "xaxis": "x",
         "y": [
          1
         ],
         "yaxis": "y"
        },
        {
         "alignmentgroup": "True",
         "hovertemplate": "category=Career_and_Education/Education                                                                                                                                                                          <br>Quater=%{x}<br>Ammount=%{y}<extra></extra>",
         "legendgroup": "Career_and_Education/Education                                                                                                                                                                          ",
         "marker": {
          "color": "#FFA15A",
          "pattern": {
           "shape": ""
          }
         },
         "name": "Career_and_Education/Education                                                                                                                                                                          ",
         "offsetgroup": "Career_and_Education/Education                                                                                                                                                                          ",
         "orientation": "v",
         "showlegend": true,
         "textposition": "auto",
         "type": "bar",
         "x": [
          3,
          4
         ],
         "xaxis": "x",
         "y": [
          2,
          9
         ],
         "yaxis": "y"
        },
        {
         "alignmentgroup": "True",
         "hovertemplate": "category=Computer_and_Electronics/Software                                                                                                                                                                       <br>Quater=%{x}<br>Ammount=%{y}<extra></extra>",
         "legendgroup": "Computer_and_Electronics/Software                                                                                                                                                                       ",
         "marker": {
          "color": "#19d3f3",
          "pattern": {
           "shape": ""
          }
         },
         "name": "Computer_and_Electronics/Software                                                                                                                                                                       ",
         "offsetgroup": "Computer_and_Electronics/Software                                                                                                                                                                       ",
         "orientation": "v",
         "showlegend": true,
         "textposition": "auto",
         "type": "bar",
         "x": [
          3
         ],
         "xaxis": "x",
         "y": [
          1
         ],
         "yaxis": "y"
        },
        {
         "alignmentgroup": "True",
         "hovertemplate": "category=Internet_and_Telecom                                                                                                                                                                                    <br>Quater=%{x}<br>Ammount=%{y}<extra></extra>",
         "legendgroup": "Internet_and_Telecom                                                                                                                                                                                    ",
         "marker": {
          "color": "#FF6692",
          "pattern": {
           "shape": ""
          }
         },
         "name": "Internet_and_Telecom                                                                                                                                                                                    ",
         "offsetgroup": "Internet_and_Telecom                                                                                                                                                                                    ",
         "orientation": "v",
         "showlegend": true,
         "textposition": "auto",
         "type": "bar",
         "x": [
          3
         ],
         "xaxis": "x",
         "y": [
          1
         ],
         "yaxis": "y"
        },
        {
         "alignmentgroup": "True",
         "hovertemplate": "category=Internet_and_Telecom/Email                                                                                                                                                                              <br>Quater=%{x}<br>Ammount=%{y}<extra></extra>",
         "legendgroup": "Internet_and_Telecom/Email                                                                                                                                                                              ",
         "marker": {
          "color": "#B6E880",
          "pattern": {
           "shape": ""
          }
         },
         "name": "Internet_and_Telecom/Email                                                                                                                                                                              ",
         "offsetgroup": "Internet_and_Telecom/Email                                                                                                                                                                              ",
         "orientation": "v",
         "showlegend": true,
         "textposition": "auto",
         "type": "bar",
         "x": [
          3
         ],
         "xaxis": "x",
         "y": [
          1
         ],
         "yaxis": "y"
        },
        {
         "alignmentgroup": "True",
         "hovertemplate": "category=Internet_and_Telecom/Search_Engine                                                                                                                                                                      <br>Quater=%{x}<br>Ammount=%{y}<extra></extra>",
         "legendgroup": "Internet_and_Telecom/Search_Engine                                                                                                                                                                      ",
         "marker": {
          "color": "#FF97FF",
          "pattern": {
           "shape": ""
          }
         },
         "name": "Internet_and_Telecom/Search_Engine                                                                                                                                                                      ",
         "offsetgroup": "Internet_and_Telecom/Search_Engine                                                                                                                                                                      ",
         "orientation": "v",
         "showlegend": true,
         "textposition": "auto",
         "type": "bar",
         "x": [
          3,
          4
         ],
         "xaxis": "x",
         "y": [
          1,
          1
         ],
         "yaxis": "y"
        },
        {
         "alignmentgroup": "True",
         "hovertemplate": "category=Internet_and_Telecom/Web_Hosting                                                                                                                                                                        <br>Quater=%{x}<br>Ammount=%{y}<extra></extra>",
         "legendgroup": "Internet_and_Telecom/Web_Hosting                                                                                                                                                                        ",
         "marker": {
          "color": "#FECB52",
          "pattern": {
           "shape": ""
          }
         },
         "name": "Internet_and_Telecom/Web_Hosting                                                                                                                                                                        ",
         "offsetgroup": "Internet_and_Telecom/Web_Hosting                                                                                                                                                                        ",
         "orientation": "v",
         "showlegend": true,
         "textposition": "auto",
         "type": "bar",
         "x": [
          3
         ],
         "xaxis": "x",
         "y": [
          5
         ],
         "yaxis": "y"
        },
        {
         "alignmentgroup": "True",
         "hovertemplate": "category=News_and_Media/Sports_News                                                                                                                                                                              <br>Quater=%{x}<br>Ammount=%{y}<extra></extra>",
         "legendgroup": "News_and_Media/Sports_News                                                                                                                                                                              ",
         "marker": {
          "color": "#636efa",
          "pattern": {
           "shape": ""
          }
         },
         "name": "News_and_Media/Sports_News                                                                                                                                                                              ",
         "offsetgroup": "News_and_Media/Sports_News                                                                                                                                                                              ",
         "orientation": "v",
         "showlegend": true,
         "textposition": "auto",
         "type": "bar",
         "x": [
          3
         ],
         "xaxis": "x",
         "y": [
          5
         ],
         "yaxis": "y"
        },
        {
         "alignmentgroup": "True",
         "hovertemplate": "category=Autos_and_Vehicles                                                                                                                                                                                      <br>Quater=%{x}<br>Ammount=%{y}<extra></extra>",
         "legendgroup": "Autos_and_Vehicles                                                                                                                                                                                      ",
         "marker": {
          "color": "#EF553B",
          "pattern": {
           "shape": ""
          }
         },
         "name": "Autos_and_Vehicles                                                                                                                                                                                      ",
         "offsetgroup": "Autos_and_Vehicles                                                                                                                                                                                      ",
         "orientation": "v",
         "showlegend": true,
         "textposition": "auto",
         "type": "bar",
         "x": [
          4
         ],
         "xaxis": "x",
         "y": [
          1
         ],
         "yaxis": "y"
        },
        {
         "alignmentgroup": "True",
         "hovertemplate": "category=Finance/Banking                                                                                                                                                                                         <br>Quater=%{x}<br>Ammount=%{y}<extra></extra>",
         "legendgroup": "Finance/Banking                                                                                                                                                                                         ",
         "marker": {
          "color": "#00cc96",
          "pattern": {
           "shape": ""
          }
         },
         "name": "Finance/Banking                                                                                                                                                                                         ",
         "offsetgroup": "Finance/Banking                                                                                                                                                                                         ",
         "orientation": "v",
         "showlegend": true,
         "textposition": "auto",
         "type": "bar",
         "x": [
          4
         ],
         "xaxis": "x",
         "y": [
          1
         ],
         "yaxis": "y"
        },
        {
         "alignmentgroup": "True",
         "hovertemplate": "category=Finance/Financial_Management                                                                                                                                                                            <br>Quater=%{x}<br>Ammount=%{y}<extra></extra>",
         "legendgroup": "Finance/Financial_Management                                                                                                                                                                            ",
         "marker": {
          "color": "#ab63fa",
          "pattern": {
           "shape": ""
          }
         },
         "name": "Finance/Financial_Management                                                                                                                                                                            ",
         "offsetgroup": "Finance/Financial_Management                                                                                                                                                                            ",
         "orientation": "v",
         "showlegend": true,
         "textposition": "auto",
         "type": "bar",
         "x": [
          4
         ],
         "xaxis": "x",
         "y": [
          1
         ],
         "yaxis": "y"
        },
        {
         "alignmentgroup": "True",
         "hovertemplate": "category=Games                                                                                                                                                                                                   <br>Quater=%{x}<br>Ammount=%{y}<extra></extra>",
         "legendgroup": "Games                                                                                                                                                                                                   ",
         "marker": {
          "color": "#FFA15A",
          "pattern": {
           "shape": ""
          }
         },
         "name": "Games                                                                                                                                                                                                   ",
         "offsetgroup": "Games                                                                                                                                                                                                   ",
         "orientation": "v",
         "showlegend": true,
         "textposition": "auto",
         "type": "bar",
         "x": [
          4
         ],
         "xaxis": "x",
         "y": [
          4
         ],
         "yaxis": "y"
        },
        {
         "alignmentgroup": "True",
         "hovertemplate": "category=News_and_Media                                                                                                                                                                                          <br>Quater=%{x}<br>Ammount=%{y}<extra></extra>",
         "legendgroup": "News_and_Media                                                                                                                                                                                          ",
         "marker": {
          "color": "#19d3f3",
          "pattern": {
           "shape": ""
          }
         },
         "name": "News_and_Media                                                                                                                                                                                          ",
         "offsetgroup": "News_and_Media                                                                                                                                                                                          ",
         "orientation": "v",
         "showlegend": true,
         "textposition": "auto",
         "type": "bar",
         "x": [
          4
         ],
         "xaxis": "x",
         "y": [
          1
         ],
         "yaxis": "y"
        },
        {
         "alignmentgroup": "True",
         "hovertemplate": "category=Shopping                                                                                                                                                                                                <br>Quater=%{x}<br>Ammount=%{y}<extra></extra>",
         "legendgroup": "Shopping                                                                                                                                                                                                ",
         "marker": {
          "color": "#FF6692",
          "pattern": {
           "shape": ""
          }
         },
         "name": "Shopping                                                                                                                                                                                                ",
         "offsetgroup": "Shopping                                                                                                                                                                                                ",
         "orientation": "v",
         "showlegend": true,
         "textposition": "auto",
         "type": "bar",
         "x": [
          4
         ],
         "xaxis": "x",
         "y": [
          1
         ],
         "yaxis": "y"
        },
        {
         "alignmentgroup": "True",
         "hovertemplate": "category=Sports                                                                                                                                                                                                  <br>Quater=%{x}<br>Ammount=%{y}<extra></extra>",
         "legendgroup": "Sports                                                                                                                                                                                                  ",
         "marker": {
          "color": "#B6E880",
          "pattern": {
           "shape": ""
          }
         },
         "name": "Sports                                                                                                                                                                                                  ",
         "offsetgroup": "Sports                                                                                                                                                                                                  ",
         "orientation": "v",
         "showlegend": true,
         "textposition": "auto",
         "type": "bar",
         "x": [
          4
         ],
         "xaxis": "x",
         "y": [
          1
         ],
         "yaxis": "y"
        }
       ],
       "layout": {
        "barmode": "group",
        "height": 600,
        "legend": {
         "title": {
          "text": "category"
         },
         "tracegroupgap": 0
        },
        "template": {
         "data": {
          "bar": [
           {
            "error_x": {
             "color": "#2a3f5f"
            },
            "error_y": {
             "color": "#2a3f5f"
            },
            "marker": {
             "line": {
              "color": "#E5ECF6",
              "width": 0.5
             },
             "pattern": {
              "fillmode": "overlay",
              "size": 10,
              "solidity": 0.2
             }
            },
            "type": "bar"
           }
          ],
          "barpolar": [
           {
            "marker": {
             "line": {
              "color": "#E5ECF6",
              "width": 0.5
             },
             "pattern": {
              "fillmode": "overlay",
              "size": 10,
              "solidity": 0.2
             }
            },
            "type": "barpolar"
           }
          ],
          "carpet": [
           {
            "aaxis": {
             "endlinecolor": "#2a3f5f",
             "gridcolor": "white",
             "linecolor": "white",
             "minorgridcolor": "white",
             "startlinecolor": "#2a3f5f"
            },
            "baxis": {
             "endlinecolor": "#2a3f5f",
             "gridcolor": "white",
             "linecolor": "white",
             "minorgridcolor": "white",
             "startlinecolor": "#2a3f5f"
            },
            "type": "carpet"
           }
          ],
          "choropleth": [
           {
            "colorbar": {
             "outlinewidth": 0,
             "ticks": ""
            },
            "type": "choropleth"
           }
          ],
          "contour": [
           {
            "colorbar": {
             "outlinewidth": 0,
             "ticks": ""
            },
            "colorscale": [
             [
              0,
              "#0d0887"
             ],
             [
              0.1111111111111111,
              "#46039f"
             ],
             [
              0.2222222222222222,
              "#7201a8"
             ],
             [
              0.3333333333333333,
              "#9c179e"
             ],
             [
              0.4444444444444444,
              "#bd3786"
             ],
             [
              0.5555555555555556,
              "#d8576b"
             ],
             [
              0.6666666666666666,
              "#ed7953"
             ],
             [
              0.7777777777777778,
              "#fb9f3a"
             ],
             [
              0.8888888888888888,
              "#fdca26"
             ],
             [
              1,
              "#f0f921"
             ]
            ],
            "type": "contour"
           }
          ],
          "contourcarpet": [
           {
            "colorbar": {
             "outlinewidth": 0,
             "ticks": ""
            },
            "type": "contourcarpet"
           }
          ],
          "heatmap": [
           {
            "colorbar": {
             "outlinewidth": 0,
             "ticks": ""
            },
            "colorscale": [
             [
              0,
              "#0d0887"
             ],
             [
              0.1111111111111111,
              "#46039f"
             ],
             [
              0.2222222222222222,
              "#7201a8"
             ],
             [
              0.3333333333333333,
              "#9c179e"
             ],
             [
              0.4444444444444444,
              "#bd3786"
             ],
             [
              0.5555555555555556,
              "#d8576b"
             ],
             [
              0.6666666666666666,
              "#ed7953"
             ],
             [
              0.7777777777777778,
              "#fb9f3a"
             ],
             [
              0.8888888888888888,
              "#fdca26"
             ],
             [
              1,
              "#f0f921"
             ]
            ],
            "type": "heatmap"
           }
          ],
          "heatmapgl": [
           {
            "colorbar": {
             "outlinewidth": 0,
             "ticks": ""
            },
            "colorscale": [
             [
              0,
              "#0d0887"
             ],
             [
              0.1111111111111111,
              "#46039f"
             ],
             [
              0.2222222222222222,
              "#7201a8"
             ],
             [
              0.3333333333333333,
              "#9c179e"
             ],
             [
              0.4444444444444444,
              "#bd3786"
             ],
             [
              0.5555555555555556,
              "#d8576b"
             ],
             [
              0.6666666666666666,
              "#ed7953"
             ],
             [
              0.7777777777777778,
              "#fb9f3a"
             ],
             [
              0.8888888888888888,
              "#fdca26"
             ],
             [
              1,
              "#f0f921"
             ]
            ],
            "type": "heatmapgl"
           }
          ],
          "histogram": [
           {
            "marker": {
             "pattern": {
              "fillmode": "overlay",
              "size": 10,
              "solidity": 0.2
             }
            },
            "type": "histogram"
           }
          ],
          "histogram2d": [
           {
            "colorbar": {
             "outlinewidth": 0,
             "ticks": ""
            },
            "colorscale": [
             [
              0,
              "#0d0887"
             ],
             [
              0.1111111111111111,
              "#46039f"
             ],
             [
              0.2222222222222222,
              "#7201a8"
             ],
             [
              0.3333333333333333,
              "#9c179e"
             ],
             [
              0.4444444444444444,
              "#bd3786"
             ],
             [
              0.5555555555555556,
              "#d8576b"
             ],
             [
              0.6666666666666666,
              "#ed7953"
             ],
             [
              0.7777777777777778,
              "#fb9f3a"
             ],
             [
              0.8888888888888888,
              "#fdca26"
             ],
             [
              1,
              "#f0f921"
             ]
            ],
            "type": "histogram2d"
           }
          ],
          "histogram2dcontour": [
           {
            "colorbar": {
             "outlinewidth": 0,
             "ticks": ""
            },
            "colorscale": [
             [
              0,
              "#0d0887"
             ],
             [
              0.1111111111111111,
              "#46039f"
             ],
             [
              0.2222222222222222,
              "#7201a8"
             ],
             [
              0.3333333333333333,
              "#9c179e"
             ],
             [
              0.4444444444444444,
              "#bd3786"
             ],
             [
              0.5555555555555556,
              "#d8576b"
             ],
             [
              0.6666666666666666,
              "#ed7953"
             ],
             [
              0.7777777777777778,
              "#fb9f3a"
             ],
             [
              0.8888888888888888,
              "#fdca26"
             ],
             [
              1,
              "#f0f921"
             ]
            ],
            "type": "histogram2dcontour"
           }
          ],
          "mesh3d": [
           {
            "colorbar": {
             "outlinewidth": 0,
             "ticks": ""
            },
            "type": "mesh3d"
           }
          ],
          "parcoords": [
           {
            "line": {
             "colorbar": {
              "outlinewidth": 0,
              "ticks": ""
             }
            },
            "type": "parcoords"
           }
          ],
          "pie": [
           {
            "automargin": true,
            "type": "pie"
           }
          ],
          "scatter": [
           {
            "marker": {
             "colorbar": {
              "outlinewidth": 0,
              "ticks": ""
             }
            },
            "type": "scatter"
           }
          ],
          "scatter3d": [
           {
            "line": {
             "colorbar": {
              "outlinewidth": 0,
              "ticks": ""
             }
            },
            "marker": {
             "colorbar": {
              "outlinewidth": 0,
              "ticks": ""
             }
            },
            "type": "scatter3d"
           }
          ],
          "scattercarpet": [
           {
            "marker": {
             "colorbar": {
              "outlinewidth": 0,
              "ticks": ""
             }
            },
            "type": "scattercarpet"
           }
          ],
          "scattergeo": [
           {
            "marker": {
             "colorbar": {
              "outlinewidth": 0,
              "ticks": ""
             }
            },
            "type": "scattergeo"
           }
          ],
          "scattergl": [
           {
            "marker": {
             "colorbar": {
              "outlinewidth": 0,
              "ticks": ""
             }
            },
            "type": "scattergl"
           }
          ],
          "scattermapbox": [
           {
            "marker": {
             "colorbar": {
              "outlinewidth": 0,
              "ticks": ""
             }
            },
            "type": "scattermapbox"
           }
          ],
          "scatterpolar": [
           {
            "marker": {
             "colorbar": {
              "outlinewidth": 0,
              "ticks": ""
             }
            },
            "type": "scatterpolar"
           }
          ],
          "scatterpolargl": [
           {
            "marker": {
             "colorbar": {
              "outlinewidth": 0,
              "ticks": ""
             }
            },
            "type": "scatterpolargl"
           }
          ],
          "scatterternary": [
           {
            "marker": {
             "colorbar": {
              "outlinewidth": 0,
              "ticks": ""
             }
            },
            "type": "scatterternary"
           }
          ],
          "surface": [
           {
            "colorbar": {
             "outlinewidth": 0,
             "ticks": ""
            },
            "colorscale": [
             [
              0,
              "#0d0887"
             ],
             [
              0.1111111111111111,
              "#46039f"
             ],
             [
              0.2222222222222222,
              "#7201a8"
             ],
             [
              0.3333333333333333,
              "#9c179e"
             ],
             [
              0.4444444444444444,
              "#bd3786"
             ],
             [
              0.5555555555555556,
              "#d8576b"
             ],
             [
              0.6666666666666666,
              "#ed7953"
             ],
             [
              0.7777777777777778,
              "#fb9f3a"
             ],
             [
              0.8888888888888888,
              "#fdca26"
             ],
             [
              1,
              "#f0f921"
             ]
            ],
            "type": "surface"
           }
          ],
          "table": [
           {
            "cells": {
             "fill": {
              "color": "#EBF0F8"
             },
             "line": {
              "color": "white"
             }
            },
            "header": {
             "fill": {
              "color": "#C8D4E3"
             },
             "line": {
              "color": "white"
             }
            },
            "type": "table"
           }
          ]
         },
         "layout": {
          "annotationdefaults": {
           "arrowcolor": "#2a3f5f",
           "arrowhead": 0,
           "arrowwidth": 1
          },
          "autotypenumbers": "strict",
          "coloraxis": {
           "colorbar": {
            "outlinewidth": 0,
            "ticks": ""
           }
          },
          "colorscale": {
           "diverging": [
            [
             0,
             "#8e0152"
            ],
            [
             0.1,
             "#c51b7d"
            ],
            [
             0.2,
             "#de77ae"
            ],
            [
             0.3,
             "#f1b6da"
            ],
            [
             0.4,
             "#fde0ef"
            ],
            [
             0.5,
             "#f7f7f7"
            ],
            [
             0.6,
             "#e6f5d0"
            ],
            [
             0.7,
             "#b8e186"
            ],
            [
             0.8,
             "#7fbc41"
            ],
            [
             0.9,
             "#4d9221"
            ],
            [
             1,
             "#276419"
            ]
           ],
           "sequential": [
            [
             0,
             "#0d0887"
            ],
            [
             0.1111111111111111,
             "#46039f"
            ],
            [
             0.2222222222222222,
             "#7201a8"
            ],
            [
             0.3333333333333333,
             "#9c179e"
            ],
            [
             0.4444444444444444,
             "#bd3786"
            ],
            [
             0.5555555555555556,
             "#d8576b"
            ],
            [
             0.6666666666666666,
             "#ed7953"
            ],
            [
             0.7777777777777778,
             "#fb9f3a"
            ],
            [
             0.8888888888888888,
             "#fdca26"
            ],
            [
             1,
             "#f0f921"
            ]
           ],
           "sequentialminus": [
            [
             0,
             "#0d0887"
            ],
            [
             0.1111111111111111,
             "#46039f"
            ],
            [
             0.2222222222222222,
             "#7201a8"
            ],
            [
             0.3333333333333333,
             "#9c179e"
            ],
            [
             0.4444444444444444,
             "#bd3786"
            ],
            [
             0.5555555555555556,
             "#d8576b"
            ],
            [
             0.6666666666666666,
             "#ed7953"
            ],
            [
             0.7777777777777778,
             "#fb9f3a"
            ],
            [
             0.8888888888888888,
             "#fdca26"
            ],
            [
             1,
             "#f0f921"
            ]
           ]
          },
          "colorway": [
           "#636efa",
           "#EF553B",
           "#00cc96",
           "#ab63fa",
           "#FFA15A",
           "#19d3f3",
           "#FF6692",
           "#B6E880",
           "#FF97FF",
           "#FECB52"
          ],
          "font": {
           "color": "#2a3f5f"
          },
          "geo": {
           "bgcolor": "white",
           "lakecolor": "white",
           "landcolor": "#E5ECF6",
           "showlakes": true,
           "showland": true,
           "subunitcolor": "white"
          },
          "hoverlabel": {
           "align": "left"
          },
          "hovermode": "closest",
          "mapbox": {
           "style": "light"
          },
          "paper_bgcolor": "white",
          "plot_bgcolor": "#E5ECF6",
          "polar": {
           "angularaxis": {
            "gridcolor": "white",
            "linecolor": "white",
            "ticks": ""
           },
           "bgcolor": "#E5ECF6",
           "radialaxis": {
            "gridcolor": "white",
            "linecolor": "white",
            "ticks": ""
           }
          },
          "scene": {
           "xaxis": {
            "backgroundcolor": "#E5ECF6",
            "gridcolor": "white",
            "gridwidth": 2,
            "linecolor": "white",
            "showbackground": true,
            "ticks": "",
            "zerolinecolor": "white"
           },
           "yaxis": {
            "backgroundcolor": "#E5ECF6",
            "gridcolor": "white",
            "gridwidth": 2,
            "linecolor": "white",
            "showbackground": true,
            "ticks": "",
            "zerolinecolor": "white"
           },
           "zaxis": {
            "backgroundcolor": "#E5ECF6",
            "gridcolor": "white",
            "gridwidth": 2,
            "linecolor": "white",
            "showbackground": true,
            "ticks": "",
            "zerolinecolor": "white"
           }
          },
          "shapedefaults": {
           "line": {
            "color": "#2a3f5f"
           }
          },
          "ternary": {
           "aaxis": {
            "gridcolor": "white",
            "linecolor": "white",
            "ticks": ""
           },
           "baxis": {
            "gridcolor": "white",
            "linecolor": "white",
            "ticks": ""
           },
           "bgcolor": "#E5ECF6",
           "caxis": {
            "gridcolor": "white",
            "linecolor": "white",
            "ticks": ""
           }
          },
          "title": {
           "x": 0.05
          },
          "xaxis": {
           "automargin": true,
           "gridcolor": "white",
           "linecolor": "white",
           "ticks": "",
           "title": {
            "standoff": 15
           },
           "zerolinecolor": "white",
           "zerolinewidth": 2
          },
          "yaxis": {
           "automargin": true,
           "gridcolor": "white",
           "linecolor": "white",
           "ticks": "",
           "title": {
            "standoff": 15
           },
           "zerolinecolor": "white",
           "zerolinewidth": 2
          }
         }
        },
        "title": {
         "text": "Most Common Category Per Quater"
        },
        "width": 1500,
        "xaxis": {
         "anchor": "y",
         "domain": [
          0,
          1
         ],
         "title": {
          "text": "Quater"
         }
        },
        "yaxis": {
         "anchor": "x",
         "domain": [
          0,
          1
         ],
         "title": {
          "text": "Ammount"
         }
        }
       }
      },
      "text/html": [
       "<div>                            <div id=\"ce16a345-6fa0-4847-b0fa-221d3d904341\" class=\"plotly-graph-div\" style=\"height:600px; width:1500px;\"></div>            <script type=\"text/javascript\">                require([\"plotly\"], function(Plotly) {                    window.PLOTLYENV=window.PLOTLYENV || {};                                    if (document.getElementById(\"ce16a345-6fa0-4847-b0fa-221d3d904341\")) {                    Plotly.newPlot(                        \"ce16a345-6fa0-4847-b0fa-221d3d904341\",                        [{\"alignmentgroup\":\"True\",\"hovertemplate\":\"category=Adult                                                                                                                                                                                                   <br>Quater=%{x}<br>Ammount=%{y}<extra></extra>\",\"legendgroup\":\"Adult                                                                                                                                                                                                   \",\"marker\":{\"color\":\"#636efa\",\"pattern\":{\"shape\":\"\"}},\"name\":\"Adult                                                                                                                                                                                                   \",\"offsetgroup\":\"Adult                                                                                                                                                                                                   \",\"orientation\":\"v\",\"showlegend\":true,\"textposition\":\"auto\",\"type\":\"bar\",\"x\":[3.0,4.0],\"xaxis\":\"x\",\"y\":[13,5],\"yaxis\":\"y\"},{\"alignmentgroup\":\"True\",\"hovertemplate\":\"category=Arts_and_Entertainment                                                                                                                                                                                  <br>Quater=%{x}<br>Ammount=%{y}<extra></extra>\",\"legendgroup\":\"Arts_and_Entertainment                                                                                                                                                                                  \",\"marker\":{\"color\":\"#EF553B\",\"pattern\":{\"shape\":\"\"}},\"name\":\"Arts_and_Entertainment                                                                                                                                                                                  \",\"offsetgroup\":\"Arts_and_Entertainment                                                                                                                                                                                  \",\"orientation\":\"v\",\"showlegend\":true,\"textposition\":\"auto\",\"type\":\"bar\",\"x\":[3.0,4.0],\"xaxis\":\"x\",\"y\":[2,3],\"yaxis\":\"y\"},{\"alignmentgroup\":\"True\",\"hovertemplate\":\"category=Business_and_Industry                                                                                                                                                                                   <br>Quater=%{x}<br>Ammount=%{y}<extra></extra>\",\"legendgroup\":\"Business_and_Industry                                                                                                                                                                                   \",\"marker\":{\"color\":\"#00cc96\",\"pattern\":{\"shape\":\"\"}},\"name\":\"Business_and_Industry                                                                                                                                                                                   \",\"offsetgroup\":\"Business_and_Industry                                                                                                                                                                                   \",\"orientation\":\"v\",\"showlegend\":true,\"textposition\":\"auto\",\"type\":\"bar\",\"x\":[3.0],\"xaxis\":\"x\",\"y\":[1],\"yaxis\":\"y\"},{\"alignmentgroup\":\"True\",\"hovertemplate\":\"category=Business_and_Industry/Marketing_and_Advertising                                                                                                                                                         <br>Quater=%{x}<br>Ammount=%{y}<extra></extra>\",\"legendgroup\":\"Business_and_Industry/Marketing_and_Advertising                                                                                                                                                         \",\"marker\":{\"color\":\"#ab63fa\",\"pattern\":{\"shape\":\"\"}},\"name\":\"Business_and_Industry/Marketing_and_Advertising                                                                                                                                                         \",\"offsetgroup\":\"Business_and_Industry/Marketing_and_Advertising                                                                                                                                                         \",\"orientation\":\"v\",\"showlegend\":true,\"textposition\":\"auto\",\"type\":\"bar\",\"x\":[3.0],\"xaxis\":\"x\",\"y\":[1],\"yaxis\":\"y\"},{\"alignmentgroup\":\"True\",\"hovertemplate\":\"category=Career_and_Education/Education                                                                                                                                                                          <br>Quater=%{x}<br>Ammount=%{y}<extra></extra>\",\"legendgroup\":\"Career_and_Education/Education                                                                                                                                                                          \",\"marker\":{\"color\":\"#FFA15A\",\"pattern\":{\"shape\":\"\"}},\"name\":\"Career_and_Education/Education                                                                                                                                                                          \",\"offsetgroup\":\"Career_and_Education/Education                                                                                                                                                                          \",\"orientation\":\"v\",\"showlegend\":true,\"textposition\":\"auto\",\"type\":\"bar\",\"x\":[3.0,4.0],\"xaxis\":\"x\",\"y\":[2,9],\"yaxis\":\"y\"},{\"alignmentgroup\":\"True\",\"hovertemplate\":\"category=Computer_and_Electronics/Software                                                                                                                                                                       <br>Quater=%{x}<br>Ammount=%{y}<extra></extra>\",\"legendgroup\":\"Computer_and_Electronics/Software                                                                                                                                                                       \",\"marker\":{\"color\":\"#19d3f3\",\"pattern\":{\"shape\":\"\"}},\"name\":\"Computer_and_Electronics/Software                                                                                                                                                                       \",\"offsetgroup\":\"Computer_and_Electronics/Software                                                                                                                                                                       \",\"orientation\":\"v\",\"showlegend\":true,\"textposition\":\"auto\",\"type\":\"bar\",\"x\":[3.0],\"xaxis\":\"x\",\"y\":[1],\"yaxis\":\"y\"},{\"alignmentgroup\":\"True\",\"hovertemplate\":\"category=Internet_and_Telecom                                                                                                                                                                                    <br>Quater=%{x}<br>Ammount=%{y}<extra></extra>\",\"legendgroup\":\"Internet_and_Telecom                                                                                                                                                                                    \",\"marker\":{\"color\":\"#FF6692\",\"pattern\":{\"shape\":\"\"}},\"name\":\"Internet_and_Telecom                                                                                                                                                                                    \",\"offsetgroup\":\"Internet_and_Telecom                                                                                                                                                                                    \",\"orientation\":\"v\",\"showlegend\":true,\"textposition\":\"auto\",\"type\":\"bar\",\"x\":[3.0],\"xaxis\":\"x\",\"y\":[1],\"yaxis\":\"y\"},{\"alignmentgroup\":\"True\",\"hovertemplate\":\"category=Internet_and_Telecom/Email                                                                                                                                                                              <br>Quater=%{x}<br>Ammount=%{y}<extra></extra>\",\"legendgroup\":\"Internet_and_Telecom/Email                                                                                                                                                                              \",\"marker\":{\"color\":\"#B6E880\",\"pattern\":{\"shape\":\"\"}},\"name\":\"Internet_and_Telecom/Email                                                                                                                                                                              \",\"offsetgroup\":\"Internet_and_Telecom/Email                                                                                                                                                                              \",\"orientation\":\"v\",\"showlegend\":true,\"textposition\":\"auto\",\"type\":\"bar\",\"x\":[3.0],\"xaxis\":\"x\",\"y\":[1],\"yaxis\":\"y\"},{\"alignmentgroup\":\"True\",\"hovertemplate\":\"category=Internet_and_Telecom/Search_Engine                                                                                                                                                                      <br>Quater=%{x}<br>Ammount=%{y}<extra></extra>\",\"legendgroup\":\"Internet_and_Telecom/Search_Engine                                                                                                                                                                      \",\"marker\":{\"color\":\"#FF97FF\",\"pattern\":{\"shape\":\"\"}},\"name\":\"Internet_and_Telecom/Search_Engine                                                                                                                                                                      \",\"offsetgroup\":\"Internet_and_Telecom/Search_Engine                                                                                                                                                                      \",\"orientation\":\"v\",\"showlegend\":true,\"textposition\":\"auto\",\"type\":\"bar\",\"x\":[3.0,4.0],\"xaxis\":\"x\",\"y\":[1,1],\"yaxis\":\"y\"},{\"alignmentgroup\":\"True\",\"hovertemplate\":\"category=Internet_and_Telecom/Web_Hosting                                                                                                                                                                        <br>Quater=%{x}<br>Ammount=%{y}<extra></extra>\",\"legendgroup\":\"Internet_and_Telecom/Web_Hosting                                                                                                                                                                        \",\"marker\":{\"color\":\"#FECB52\",\"pattern\":{\"shape\":\"\"}},\"name\":\"Internet_and_Telecom/Web_Hosting                                                                                                                                                                        \",\"offsetgroup\":\"Internet_and_Telecom/Web_Hosting                                                                                                                                                                        \",\"orientation\":\"v\",\"showlegend\":true,\"textposition\":\"auto\",\"type\":\"bar\",\"x\":[3.0],\"xaxis\":\"x\",\"y\":[5],\"yaxis\":\"y\"},{\"alignmentgroup\":\"True\",\"hovertemplate\":\"category=News_and_Media/Sports_News                                                                                                                                                                              <br>Quater=%{x}<br>Ammount=%{y}<extra></extra>\",\"legendgroup\":\"News_and_Media/Sports_News                                                                                                                                                                              \",\"marker\":{\"color\":\"#636efa\",\"pattern\":{\"shape\":\"\"}},\"name\":\"News_and_Media/Sports_News                                                                                                                                                                              \",\"offsetgroup\":\"News_and_Media/Sports_News                                                                                                                                                                              \",\"orientation\":\"v\",\"showlegend\":true,\"textposition\":\"auto\",\"type\":\"bar\",\"x\":[3.0],\"xaxis\":\"x\",\"y\":[5],\"yaxis\":\"y\"},{\"alignmentgroup\":\"True\",\"hovertemplate\":\"category=Autos_and_Vehicles                                                                                                                                                                                      <br>Quater=%{x}<br>Ammount=%{y}<extra></extra>\",\"legendgroup\":\"Autos_and_Vehicles                                                                                                                                                                                      \",\"marker\":{\"color\":\"#EF553B\",\"pattern\":{\"shape\":\"\"}},\"name\":\"Autos_and_Vehicles                                                                                                                                                                                      \",\"offsetgroup\":\"Autos_and_Vehicles                                                                                                                                                                                      \",\"orientation\":\"v\",\"showlegend\":true,\"textposition\":\"auto\",\"type\":\"bar\",\"x\":[4.0],\"xaxis\":\"x\",\"y\":[1],\"yaxis\":\"y\"},{\"alignmentgroup\":\"True\",\"hovertemplate\":\"category=Finance/Banking                                                                                                                                                                                         <br>Quater=%{x}<br>Ammount=%{y}<extra></extra>\",\"legendgroup\":\"Finance/Banking                                                                                                                                                                                         \",\"marker\":{\"color\":\"#00cc96\",\"pattern\":{\"shape\":\"\"}},\"name\":\"Finance/Banking                                                                                                                                                                                         \",\"offsetgroup\":\"Finance/Banking                                                                                                                                                                                         \",\"orientation\":\"v\",\"showlegend\":true,\"textposition\":\"auto\",\"type\":\"bar\",\"x\":[4.0],\"xaxis\":\"x\",\"y\":[1],\"yaxis\":\"y\"},{\"alignmentgroup\":\"True\",\"hovertemplate\":\"category=Finance/Financial_Management                                                                                                                                                                            <br>Quater=%{x}<br>Ammount=%{y}<extra></extra>\",\"legendgroup\":\"Finance/Financial_Management                                                                                                                                                                            \",\"marker\":{\"color\":\"#ab63fa\",\"pattern\":{\"shape\":\"\"}},\"name\":\"Finance/Financial_Management                                                                                                                                                                            \",\"offsetgroup\":\"Finance/Financial_Management                                                                                                                                                                            \",\"orientation\":\"v\",\"showlegend\":true,\"textposition\":\"auto\",\"type\":\"bar\",\"x\":[4.0],\"xaxis\":\"x\",\"y\":[1],\"yaxis\":\"y\"},{\"alignmentgroup\":\"True\",\"hovertemplate\":\"category=Games                                                                                                                                                                                                   <br>Quater=%{x}<br>Ammount=%{y}<extra></extra>\",\"legendgroup\":\"Games                                                                                                                                                                                                   \",\"marker\":{\"color\":\"#FFA15A\",\"pattern\":{\"shape\":\"\"}},\"name\":\"Games                                                                                                                                                                                                   \",\"offsetgroup\":\"Games                                                                                                                                                                                                   \",\"orientation\":\"v\",\"showlegend\":true,\"textposition\":\"auto\",\"type\":\"bar\",\"x\":[4.0],\"xaxis\":\"x\",\"y\":[4],\"yaxis\":\"y\"},{\"alignmentgroup\":\"True\",\"hovertemplate\":\"category=News_and_Media                                                                                                                                                                                          <br>Quater=%{x}<br>Ammount=%{y}<extra></extra>\",\"legendgroup\":\"News_and_Media                                                                                                                                                                                          \",\"marker\":{\"color\":\"#19d3f3\",\"pattern\":{\"shape\":\"\"}},\"name\":\"News_and_Media                                                                                                                                                                                          \",\"offsetgroup\":\"News_and_Media                                                                                                                                                                                          \",\"orientation\":\"v\",\"showlegend\":true,\"textposition\":\"auto\",\"type\":\"bar\",\"x\":[4.0],\"xaxis\":\"x\",\"y\":[1],\"yaxis\":\"y\"},{\"alignmentgroup\":\"True\",\"hovertemplate\":\"category=Shopping                                                                                                                                                                                                <br>Quater=%{x}<br>Ammount=%{y}<extra></extra>\",\"legendgroup\":\"Shopping                                                                                                                                                                                                \",\"marker\":{\"color\":\"#FF6692\",\"pattern\":{\"shape\":\"\"}},\"name\":\"Shopping                                                                                                                                                                                                \",\"offsetgroup\":\"Shopping                                                                                                                                                                                                \",\"orientation\":\"v\",\"showlegend\":true,\"textposition\":\"auto\",\"type\":\"bar\",\"x\":[4.0],\"xaxis\":\"x\",\"y\":[1],\"yaxis\":\"y\"},{\"alignmentgroup\":\"True\",\"hovertemplate\":\"category=Sports                                                                                                                                                                                                  <br>Quater=%{x}<br>Ammount=%{y}<extra></extra>\",\"legendgroup\":\"Sports                                                                                                                                                                                                  \",\"marker\":{\"color\":\"#B6E880\",\"pattern\":{\"shape\":\"\"}},\"name\":\"Sports                                                                                                                                                                                                  \",\"offsetgroup\":\"Sports                                                                                                                                                                                                  \",\"orientation\":\"v\",\"showlegend\":true,\"textposition\":\"auto\",\"type\":\"bar\",\"x\":[4.0],\"xaxis\":\"x\",\"y\":[1],\"yaxis\":\"y\"}],                        {\"barmode\":\"group\",\"height\":600,\"legend\":{\"title\":{\"text\":\"category\"},\"tracegroupgap\":0},\"template\":{\"data\":{\"bar\":[{\"error_x\":{\"color\":\"#2a3f5f\"},\"error_y\":{\"color\":\"#2a3f5f\"},\"marker\":{\"line\":{\"color\":\"#E5ECF6\",\"width\":0.5},\"pattern\":{\"fillmode\":\"overlay\",\"size\":10,\"solidity\":0.2}},\"type\":\"bar\"}],\"barpolar\":[{\"marker\":{\"line\":{\"color\":\"#E5ECF6\",\"width\":0.5},\"pattern\":{\"fillmode\":\"overlay\",\"size\":10,\"solidity\":0.2}},\"type\":\"barpolar\"}],\"carpet\":[{\"aaxis\":{\"endlinecolor\":\"#2a3f5f\",\"gridcolor\":\"white\",\"linecolor\":\"white\",\"minorgridcolor\":\"white\",\"startlinecolor\":\"#2a3f5f\"},\"baxis\":{\"endlinecolor\":\"#2a3f5f\",\"gridcolor\":\"white\",\"linecolor\":\"white\",\"minorgridcolor\":\"white\",\"startlinecolor\":\"#2a3f5f\"},\"type\":\"carpet\"}],\"choropleth\":[{\"colorbar\":{\"outlinewidth\":0,\"ticks\":\"\"},\"type\":\"choropleth\"}],\"contour\":[{\"colorbar\":{\"outlinewidth\":0,\"ticks\":\"\"},\"colorscale\":[[0.0,\"#0d0887\"],[0.1111111111111111,\"#46039f\"],[0.2222222222222222,\"#7201a8\"],[0.3333333333333333,\"#9c179e\"],[0.4444444444444444,\"#bd3786\"],[0.5555555555555556,\"#d8576b\"],[0.6666666666666666,\"#ed7953\"],[0.7777777777777778,\"#fb9f3a\"],[0.8888888888888888,\"#fdca26\"],[1.0,\"#f0f921\"]],\"type\":\"contour\"}],\"contourcarpet\":[{\"colorbar\":{\"outlinewidth\":0,\"ticks\":\"\"},\"type\":\"contourcarpet\"}],\"heatmap\":[{\"colorbar\":{\"outlinewidth\":0,\"ticks\":\"\"},\"colorscale\":[[0.0,\"#0d0887\"],[0.1111111111111111,\"#46039f\"],[0.2222222222222222,\"#7201a8\"],[0.3333333333333333,\"#9c179e\"],[0.4444444444444444,\"#bd3786\"],[0.5555555555555556,\"#d8576b\"],[0.6666666666666666,\"#ed7953\"],[0.7777777777777778,\"#fb9f3a\"],[0.8888888888888888,\"#fdca26\"],[1.0,\"#f0f921\"]],\"type\":\"heatmap\"}],\"heatmapgl\":[{\"colorbar\":{\"outlinewidth\":0,\"ticks\":\"\"},\"colorscale\":[[0.0,\"#0d0887\"],[0.1111111111111111,\"#46039f\"],[0.2222222222222222,\"#7201a8\"],[0.3333333333333333,\"#9c179e\"],[0.4444444444444444,\"#bd3786\"],[0.5555555555555556,\"#d8576b\"],[0.6666666666666666,\"#ed7953\"],[0.7777777777777778,\"#fb9f3a\"],[0.8888888888888888,\"#fdca26\"],[1.0,\"#f0f921\"]],\"type\":\"heatmapgl\"}],\"histogram\":[{\"marker\":{\"pattern\":{\"fillmode\":\"overlay\",\"size\":10,\"solidity\":0.2}},\"type\":\"histogram\"}],\"histogram2d\":[{\"colorbar\":{\"outlinewidth\":0,\"ticks\":\"\"},\"colorscale\":[[0.0,\"#0d0887\"],[0.1111111111111111,\"#46039f\"],[0.2222222222222222,\"#7201a8\"],[0.3333333333333333,\"#9c179e\"],[0.4444444444444444,\"#bd3786\"],[0.5555555555555556,\"#d8576b\"],[0.6666666666666666,\"#ed7953\"],[0.7777777777777778,\"#fb9f3a\"],[0.8888888888888888,\"#fdca26\"],[1.0,\"#f0f921\"]],\"type\":\"histogram2d\"}],\"histogram2dcontour\":[{\"colorbar\":{\"outlinewidth\":0,\"ticks\":\"\"},\"colorscale\":[[0.0,\"#0d0887\"],[0.1111111111111111,\"#46039f\"],[0.2222222222222222,\"#7201a8\"],[0.3333333333333333,\"#9c179e\"],[0.4444444444444444,\"#bd3786\"],[0.5555555555555556,\"#d8576b\"],[0.6666666666666666,\"#ed7953\"],[0.7777777777777778,\"#fb9f3a\"],[0.8888888888888888,\"#fdca26\"],[1.0,\"#f0f921\"]],\"type\":\"histogram2dcontour\"}],\"mesh3d\":[{\"colorbar\":{\"outlinewidth\":0,\"ticks\":\"\"},\"type\":\"mesh3d\"}],\"parcoords\":[{\"line\":{\"colorbar\":{\"outlinewidth\":0,\"ticks\":\"\"}},\"type\":\"parcoords\"}],\"pie\":[{\"automargin\":true,\"type\":\"pie\"}],\"scatter\":[{\"marker\":{\"colorbar\":{\"outlinewidth\":0,\"ticks\":\"\"}},\"type\":\"scatter\"}],\"scatter3d\":[{\"line\":{\"colorbar\":{\"outlinewidth\":0,\"ticks\":\"\"}},\"marker\":{\"colorbar\":{\"outlinewidth\":0,\"ticks\":\"\"}},\"type\":\"scatter3d\"}],\"scattercarpet\":[{\"marker\":{\"colorbar\":{\"outlinewidth\":0,\"ticks\":\"\"}},\"type\":\"scattercarpet\"}],\"scattergeo\":[{\"marker\":{\"colorbar\":{\"outlinewidth\":0,\"ticks\":\"\"}},\"type\":\"scattergeo\"}],\"scattergl\":[{\"marker\":{\"colorbar\":{\"outlinewidth\":0,\"ticks\":\"\"}},\"type\":\"scattergl\"}],\"scattermapbox\":[{\"marker\":{\"colorbar\":{\"outlinewidth\":0,\"ticks\":\"\"}},\"type\":\"scattermapbox\"}],\"scatterpolar\":[{\"marker\":{\"colorbar\":{\"outlinewidth\":0,\"ticks\":\"\"}},\"type\":\"scatterpolar\"}],\"scatterpolargl\":[{\"marker\":{\"colorbar\":{\"outlinewidth\":0,\"ticks\":\"\"}},\"type\":\"scatterpolargl\"}],\"scatterternary\":[{\"marker\":{\"colorbar\":{\"outlinewidth\":0,\"ticks\":\"\"}},\"type\":\"scatterternary\"}],\"surface\":[{\"colorbar\":{\"outlinewidth\":0,\"ticks\":\"\"},\"colorscale\":[[0.0,\"#0d0887\"],[0.1111111111111111,\"#46039f\"],[0.2222222222222222,\"#7201a8\"],[0.3333333333333333,\"#9c179e\"],[0.4444444444444444,\"#bd3786\"],[0.5555555555555556,\"#d8576b\"],[0.6666666666666666,\"#ed7953\"],[0.7777777777777778,\"#fb9f3a\"],[0.8888888888888888,\"#fdca26\"],[1.0,\"#f0f921\"]],\"type\":\"surface\"}],\"table\":[{\"cells\":{\"fill\":{\"color\":\"#EBF0F8\"},\"line\":{\"color\":\"white\"}},\"header\":{\"fill\":{\"color\":\"#C8D4E3\"},\"line\":{\"color\":\"white\"}},\"type\":\"table\"}]},\"layout\":{\"annotationdefaults\":{\"arrowcolor\":\"#2a3f5f\",\"arrowhead\":0,\"arrowwidth\":1},\"autotypenumbers\":\"strict\",\"coloraxis\":{\"colorbar\":{\"outlinewidth\":0,\"ticks\":\"\"}},\"colorscale\":{\"diverging\":[[0,\"#8e0152\"],[0.1,\"#c51b7d\"],[0.2,\"#de77ae\"],[0.3,\"#f1b6da\"],[0.4,\"#fde0ef\"],[0.5,\"#f7f7f7\"],[0.6,\"#e6f5d0\"],[0.7,\"#b8e186\"],[0.8,\"#7fbc41\"],[0.9,\"#4d9221\"],[1,\"#276419\"]],\"sequential\":[[0.0,\"#0d0887\"],[0.1111111111111111,\"#46039f\"],[0.2222222222222222,\"#7201a8\"],[0.3333333333333333,\"#9c179e\"],[0.4444444444444444,\"#bd3786\"],[0.5555555555555556,\"#d8576b\"],[0.6666666666666666,\"#ed7953\"],[0.7777777777777778,\"#fb9f3a\"],[0.8888888888888888,\"#fdca26\"],[1.0,\"#f0f921\"]],\"sequentialminus\":[[0.0,\"#0d0887\"],[0.1111111111111111,\"#46039f\"],[0.2222222222222222,\"#7201a8\"],[0.3333333333333333,\"#9c179e\"],[0.4444444444444444,\"#bd3786\"],[0.5555555555555556,\"#d8576b\"],[0.6666666666666666,\"#ed7953\"],[0.7777777777777778,\"#fb9f3a\"],[0.8888888888888888,\"#fdca26\"],[1.0,\"#f0f921\"]]},\"colorway\":[\"#636efa\",\"#EF553B\",\"#00cc96\",\"#ab63fa\",\"#FFA15A\",\"#19d3f3\",\"#FF6692\",\"#B6E880\",\"#FF97FF\",\"#FECB52\"],\"font\":{\"color\":\"#2a3f5f\"},\"geo\":{\"bgcolor\":\"white\",\"lakecolor\":\"white\",\"landcolor\":\"#E5ECF6\",\"showlakes\":true,\"showland\":true,\"subunitcolor\":\"white\"},\"hoverlabel\":{\"align\":\"left\"},\"hovermode\":\"closest\",\"mapbox\":{\"style\":\"light\"},\"paper_bgcolor\":\"white\",\"plot_bgcolor\":\"#E5ECF6\",\"polar\":{\"angularaxis\":{\"gridcolor\":\"white\",\"linecolor\":\"white\",\"ticks\":\"\"},\"bgcolor\":\"#E5ECF6\",\"radialaxis\":{\"gridcolor\":\"white\",\"linecolor\":\"white\",\"ticks\":\"\"}},\"scene\":{\"xaxis\":{\"backgroundcolor\":\"#E5ECF6\",\"gridcolor\":\"white\",\"gridwidth\":2,\"linecolor\":\"white\",\"showbackground\":true,\"ticks\":\"\",\"zerolinecolor\":\"white\"},\"yaxis\":{\"backgroundcolor\":\"#E5ECF6\",\"gridcolor\":\"white\",\"gridwidth\":2,\"linecolor\":\"white\",\"showbackground\":true,\"ticks\":\"\",\"zerolinecolor\":\"white\"},\"zaxis\":{\"backgroundcolor\":\"#E5ECF6\",\"gridcolor\":\"white\",\"gridwidth\":2,\"linecolor\":\"white\",\"showbackground\":true,\"ticks\":\"\",\"zerolinecolor\":\"white\"}},\"shapedefaults\":{\"line\":{\"color\":\"#2a3f5f\"}},\"ternary\":{\"aaxis\":{\"gridcolor\":\"white\",\"linecolor\":\"white\",\"ticks\":\"\"},\"baxis\":{\"gridcolor\":\"white\",\"linecolor\":\"white\",\"ticks\":\"\"},\"bgcolor\":\"#E5ECF6\",\"caxis\":{\"gridcolor\":\"white\",\"linecolor\":\"white\",\"ticks\":\"\"}},\"title\":{\"x\":0.05},\"xaxis\":{\"automargin\":true,\"gridcolor\":\"white\",\"linecolor\":\"white\",\"ticks\":\"\",\"title\":{\"standoff\":15},\"zerolinecolor\":\"white\",\"zerolinewidth\":2},\"yaxis\":{\"automargin\":true,\"gridcolor\":\"white\",\"linecolor\":\"white\",\"ticks\":\"\",\"title\":{\"standoff\":15},\"zerolinecolor\":\"white\",\"zerolinewidth\":2}}},\"title\":{\"text\":\"Most Common Category Per Quater\"},\"width\":1500,\"xaxis\":{\"anchor\":\"y\",\"domain\":[0.0,1.0],\"title\":{\"text\":\"Quater\"}},\"yaxis\":{\"anchor\":\"x\",\"domain\":[0.0,1.0],\"title\":{\"text\":\"Ammount\"}}},                        {\"responsive\": true}                    ).then(function(){\n",
       "                            \n",
       "var gd = document.getElementById('ce16a345-6fa0-4847-b0fa-221d3d904341');\n",
       "var x = new MutationObserver(function (mutations, observer) {{\n",
       "        var display = window.getComputedStyle(gd).display;\n",
       "        if (!display || display === 'none') {{\n",
       "            console.log([gd, 'removed!']);\n",
       "            Plotly.purge(gd);\n",
       "            observer.disconnect();\n",
       "        }}\n",
       "}});\n",
       "\n",
       "// Listen for the removal of the full notebook cells\n",
       "var notebookContainer = gd.closest('#notebook-container');\n",
       "if (notebookContainer) {{\n",
       "    x.observe(notebookContainer, {childList: true});\n",
       "}}\n",
       "\n",
       "// Listen for the clearing of the current output cell\n",
       "var outputEl = gd.closest('.output');\n",
       "if (outputEl) {{\n",
       "    x.observe(outputEl, {childList: true});\n",
       "}}\n",
       "\n",
       "                        })                };                });            </script>        </div>"
      ]
     },
     "metadata": {},
     "output_type": "display_data"
    }
   ],
   "source": [
    "fig = px.bar(df_gb_q_category.reset_index(), x=\"quater\", color=\"category\",\n",
    "             y='site',\n",
    "             title=\"Most Common Category Per Quater\",\n",
    "             barmode='group',\n",
    "             labels={'site':'Ammount', 'quater':'Quater'},\n",
    "             height=600,\n",
    "             width=1500\n",
    "            )\n",
    "fig.show()"
   ]
  },
  {
   "cell_type": "markdown",
   "metadata": {},
   "source": [
    "### Analysis of all data"
   ]
  },
  {
   "cell_type": "code",
   "execution_count": 944,
   "metadata": {},
   "outputs": [
    {
     "data": {
      "text/html": [
       "<div>\n",
       "<style scoped>\n",
       "    .dataframe tbody tr th:only-of-type {\n",
       "        vertical-align: middle;\n",
       "    }\n",
       "\n",
       "    .dataframe tbody tr th {\n",
       "        vertical-align: top;\n",
       "    }\n",
       "\n",
       "    .dataframe thead th {\n",
       "        text-align: right;\n",
       "    }\n",
       "</style>\n",
       "<table border=\"1\" class=\"dataframe\">\n",
       "  <thead>\n",
       "    <tr style=\"text-align: right;\">\n",
       "      <th></th>\n",
       "      <th>site</th>\n",
       "      <th>country</th>\n",
       "      <th>year</th>\n",
       "      <th>month</th>\n",
       "      <th>visits</th>\n",
       "    </tr>\n",
       "  </thead>\n",
       "  <tbody>\n",
       "    <tr>\n",
       "      <th>0</th>\n",
       "      <td>hp.com</td>\n",
       "      <td>276</td>\n",
       "      <td>16</td>\n",
       "      <td>6</td>\n",
       "      <td>1.247095e+06</td>\n",
       "    </tr>\n",
       "    <tr>\n",
       "      <th>1</th>\n",
       "      <td>hp.com</td>\n",
       "      <td>840</td>\n",
       "      <td>16</td>\n",
       "      <td>6</td>\n",
       "      <td>9.181335e+06</td>\n",
       "    </tr>\n",
       "    <tr>\n",
       "      <th>2</th>\n",
       "      <td>hp.com</td>\n",
       "      <td>276</td>\n",
       "      <td>16</td>\n",
       "      <td>12</td>\n",
       "      <td>1.101527e+06</td>\n",
       "    </tr>\n",
       "    <tr>\n",
       "      <th>3</th>\n",
       "      <td>hp.com</td>\n",
       "      <td>826</td>\n",
       "      <td>16</td>\n",
       "      <td>6</td>\n",
       "      <td>1.490688e+06</td>\n",
       "    </tr>\n",
       "    <tr>\n",
       "      <th>4</th>\n",
       "      <td>hp.com</td>\n",
       "      <td>643</td>\n",
       "      <td>16</td>\n",
       "      <td>6</td>\n",
       "      <td>9.441161e+05</td>\n",
       "    </tr>\n",
       "    <tr>\n",
       "      <th>...</th>\n",
       "      <td>...</td>\n",
       "      <td>...</td>\n",
       "      <td>...</td>\n",
       "      <td>...</td>\n",
       "      <td>...</td>\n",
       "    </tr>\n",
       "    <tr>\n",
       "      <th>26880</th>\n",
       "      <td>spankbang.com</td>\n",
       "      <td>840</td>\n",
       "      <td>16</td>\n",
       "      <td>6</td>\n",
       "      <td>8.839860e+06</td>\n",
       "    </tr>\n",
       "    <tr>\n",
       "      <th>26881</th>\n",
       "      <td>spankbang.com</td>\n",
       "      <td>124</td>\n",
       "      <td>16</td>\n",
       "      <td>6</td>\n",
       "      <td>1.197933e+06</td>\n",
       "    </tr>\n",
       "    <tr>\n",
       "      <th>26882</th>\n",
       "      <td>spankbang.com</td>\n",
       "      <td>643</td>\n",
       "      <td>16</td>\n",
       "      <td>9</td>\n",
       "      <td>4.850187e+05</td>\n",
       "    </tr>\n",
       "    <tr>\n",
       "      <th>26883</th>\n",
       "      <td>spankbang.com</td>\n",
       "      <td>276</td>\n",
       "      <td>16</td>\n",
       "      <td>6</td>\n",
       "      <td>4.093033e+05</td>\n",
       "    </tr>\n",
       "    <tr>\n",
       "      <th>26884</th>\n",
       "      <td>spankbang.com</td>\n",
       "      <td>643</td>\n",
       "      <td>16</td>\n",
       "      <td>6</td>\n",
       "      <td>5.314457e+05</td>\n",
       "    </tr>\n",
       "  </tbody>\n",
       "</table>\n",
       "<p>26885 rows × 5 columns</p>\n",
       "</div>"
      ],
      "text/plain": [
       "                site  country  year  month        visits\n",
       "0             hp.com      276    16      6  1.247095e+06\n",
       "1             hp.com      840    16      6  9.181335e+06\n",
       "2             hp.com      276    16     12  1.101527e+06\n",
       "3             hp.com      826    16      6  1.490688e+06\n",
       "4             hp.com      643    16      6  9.441161e+05\n",
       "...              ...      ...   ...    ...           ...\n",
       "26880  spankbang.com      840    16      6  8.839860e+06\n",
       "26881  spankbang.com      124    16      6  1.197933e+06\n",
       "26882  spankbang.com      643    16      9  4.850187e+05\n",
       "26883  spankbang.com      276    16      6  4.093033e+05\n",
       "26884  spankbang.com      643    16      6  5.314457e+05\n",
       "\n",
       "[26885 rows x 5 columns]"
      ]
     },
     "execution_count": 944,
     "metadata": {},
     "output_type": "execute_result"
    }
   ],
   "source": [
    "df_site_monthly = pd.read_csv('site_monthly_visits.csv')\n",
    "df_site_monthly"
   ]
  },
  {
   "cell_type": "code",
   "execution_count": 971,
   "metadata": {},
   "outputs": [
    {
     "data": {
      "text/html": [
       "<div>\n",
       "<style scoped>\n",
       "    .dataframe tbody tr th:only-of-type {\n",
       "        vertical-align: middle;\n",
       "    }\n",
       "\n",
       "    .dataframe tbody tr th {\n",
       "        vertical-align: top;\n",
       "    }\n",
       "\n",
       "    .dataframe thead th {\n",
       "        text-align: right;\n",
       "    }\n",
       "</style>\n",
       "<table border=\"1\" class=\"dataframe\">\n",
       "  <thead>\n",
       "    <tr style=\"text-align: right;\">\n",
       "      <th></th>\n",
       "      <th>site</th>\n",
       "      <th>category</th>\n",
       "    </tr>\n",
       "  </thead>\n",
       "  <tbody>\n",
       "    <tr>\n",
       "      <th>0</th>\n",
       "      <td>hp.com</td>\n",
       "      <td>Computer_and_Electronics/Consumer_Electronics</td>\n",
       "    </tr>\n",
       "    <tr>\n",
       "      <th>1</th>\n",
       "      <td>filmweb.pl</td>\n",
       "      <td>Arts_and_Entertainment/Movies</td>\n",
       "    </tr>\n",
       "    <tr>\n",
       "      <th>2</th>\n",
       "      <td>chip.de</td>\n",
       "      <td>Computer_and_Electronics</td>\n",
       "    </tr>\n",
       "    <tr>\n",
       "      <th>3</th>\n",
       "      <td>tracfone.com</td>\n",
       "      <td>Internet_and_Telecom/Telecommunications</td>\n",
       "    </tr>\n",
       "    <tr>\n",
       "      <th>4</th>\n",
       "      <td>gazeta.ru</td>\n",
       "      <td>News_and_Media/Newspapers</td>\n",
       "    </tr>\n",
       "    <tr>\n",
       "      <th>...</th>\n",
       "      <td>...</td>\n",
       "      <td>...</td>\n",
       "    </tr>\n",
       "    <tr>\n",
       "      <th>995</th>\n",
       "      <td>businessinsider.com</td>\n",
       "      <td>News_and_Media/Business_News</td>\n",
       "    </tr>\n",
       "    <tr>\n",
       "      <th>996</th>\n",
       "      <td>nfl.com</td>\n",
       "      <td>Sports/Football</td>\n",
       "    </tr>\n",
       "    <tr>\n",
       "      <th>997</th>\n",
       "      <td>freebasics.com</td>\n",
       "      <td>NaN</td>\n",
       "    </tr>\n",
       "    <tr>\n",
       "      <th>998</th>\n",
       "      <td>37zw.com</td>\n",
       "      <td>NaN</td>\n",
       "    </tr>\n",
       "    <tr>\n",
       "      <th>999</th>\n",
       "      <td>tistory.com</td>\n",
       "      <td>Internet_and_Telecom</td>\n",
       "    </tr>\n",
       "  </tbody>\n",
       "</table>\n",
       "<p>1000 rows × 2 columns</p>\n",
       "</div>"
      ],
      "text/plain": [
       "                    site                                       category\n",
       "0                 hp.com  Computer_and_Electronics/Consumer_Electronics\n",
       "1             filmweb.pl                  Arts_and_Entertainment/Movies\n",
       "2                chip.de                       Computer_and_Electronics\n",
       "3           tracfone.com        Internet_and_Telecom/Telecommunications\n",
       "4              gazeta.ru                      News_and_Media/Newspapers\n",
       "..                   ...                                            ...\n",
       "995  businessinsider.com                   News_and_Media/Business_News\n",
       "996              nfl.com                                Sports/Football\n",
       "997       freebasics.com                                            NaN\n",
       "998             37zw.com                                            NaN\n",
       "999          tistory.com                           Internet_and_Telecom\n",
       "\n",
       "[1000 rows x 2 columns]"
      ]
     },
     "execution_count": 971,
     "metadata": {},
     "output_type": "execute_result"
    }
   ],
   "source": [
    "df_site_category = pd.read_csv('site_category_source.csv')\n",
    "df_site_category"
   ]
  },
  {
   "cell_type": "code",
   "execution_count": 999,
   "metadata": {},
   "outputs": [
    {
     "data": {
      "text/html": [
       "<div>\n",
       "<style scoped>\n",
       "    .dataframe tbody tr th:only-of-type {\n",
       "        vertical-align: middle;\n",
       "    }\n",
       "\n",
       "    .dataframe tbody tr th {\n",
       "        vertical-align: top;\n",
       "    }\n",
       "\n",
       "    .dataframe thead th {\n",
       "        text-align: right;\n",
       "    }\n",
       "</style>\n",
       "<table border=\"1\" class=\"dataframe\">\n",
       "  <thead>\n",
       "    <tr style=\"text-align: right;\">\n",
       "      <th></th>\n",
       "      <th>site</th>\n",
       "      <th>7</th>\n",
       "      <th>8</th>\n",
       "      <th>9</th>\n",
       "      <th>10</th>\n",
       "      <th>11</th>\n",
       "      <th>12</th>\n",
       "      <th>category</th>\n",
       "    </tr>\n",
       "  </thead>\n",
       "  <tbody>\n",
       "    <tr>\n",
       "      <th>0</th>\n",
       "      <td>028nb.com</td>\n",
       "      <td>0.000000</td>\n",
       "      <td>0.710560</td>\n",
       "      <td>0.000000</td>\n",
       "      <td>-0.464568</td>\n",
       "      <td>-0.618323</td>\n",
       "      <td>0.128480</td>\n",
       "      <td>NaN</td>\n",
       "    </tr>\n",
       "    <tr>\n",
       "      <th>1</th>\n",
       "      <td>10010.com</td>\n",
       "      <td>0.039483</td>\n",
       "      <td>0.079943</td>\n",
       "      <td>0.096035</td>\n",
       "      <td>-0.157253</td>\n",
       "      <td>-0.250486</td>\n",
       "      <td>0.113619</td>\n",
       "      <td>Internet_and_Telecom/Telecommunications</td>\n",
       "    </tr>\n",
       "    <tr>\n",
       "      <th>2</th>\n",
       "      <td>10086.cn</td>\n",
       "      <td>0.130660</td>\n",
       "      <td>-0.033005</td>\n",
       "      <td>-0.094632</td>\n",
       "      <td>-0.005187</td>\n",
       "      <td>-0.145957</td>\n",
       "      <td>0.241475</td>\n",
       "      <td>Internet_and_Telecom/Telecommunications</td>\n",
       "    </tr>\n",
       "    <tr>\n",
       "      <th>3</th>\n",
       "      <td>100msh.com</td>\n",
       "      <td>0.000000</td>\n",
       "      <td>2.732586</td>\n",
       "      <td>-0.271273</td>\n",
       "      <td>-0.039227</td>\n",
       "      <td>-0.823096</td>\n",
       "      <td>4.198469</td>\n",
       "      <td>Shopping</td>\n",
       "    </tr>\n",
       "    <tr>\n",
       "      <th>4</th>\n",
       "      <td>11st.co.kr</td>\n",
       "      <td>0.117042</td>\n",
       "      <td>-0.083359</td>\n",
       "      <td>-0.132675</td>\n",
       "      <td>0.075704</td>\n",
       "      <td>0.035074</td>\n",
       "      <td>0.158609</td>\n",
       "      <td>Shopping</td>\n",
       "    </tr>\n",
       "    <tr>\n",
       "      <th>...</th>\n",
       "      <td>...</td>\n",
       "      <td>...</td>\n",
       "      <td>...</td>\n",
       "      <td>...</td>\n",
       "      <td>...</td>\n",
       "      <td>...</td>\n",
       "      <td>...</td>\n",
       "      <td>...</td>\n",
       "    </tr>\n",
       "    <tr>\n",
       "      <th>793</th>\n",
       "      <td>zippyshare.com</td>\n",
       "      <td>0.013523</td>\n",
       "      <td>0.077249</td>\n",
       "      <td>-0.154985</td>\n",
       "      <td>0.107264</td>\n",
       "      <td>-0.161683</td>\n",
       "      <td>-0.060059</td>\n",
       "      <td>Internet_and_Telecom/File_Sharing</td>\n",
       "    </tr>\n",
       "    <tr>\n",
       "      <th>794</th>\n",
       "      <td>zol.com.cn</td>\n",
       "      <td>-0.013935</td>\n",
       "      <td>0.010809</td>\n",
       "      <td>-0.081144</td>\n",
       "      <td>-0.036600</td>\n",
       "      <td>0.043255</td>\n",
       "      <td>-0.147407</td>\n",
       "      <td>News_and_Media/Technology_News</td>\n",
       "    </tr>\n",
       "    <tr>\n",
       "      <th>795</th>\n",
       "      <td>zomato.com</td>\n",
       "      <td>0.048199</td>\n",
       "      <td>-0.020304</td>\n",
       "      <td>-0.117745</td>\n",
       "      <td>0.008794</td>\n",
       "      <td>-0.086698</td>\n",
       "      <td>0.044869</td>\n",
       "      <td>Food_and_Drink/Restaurants_and_Delivery</td>\n",
       "    </tr>\n",
       "    <tr>\n",
       "      <th>796</th>\n",
       "      <td>zozo.jp</td>\n",
       "      <td>0.380287</td>\n",
       "      <td>-0.098394</td>\n",
       "      <td>-0.101989</td>\n",
       "      <td>0.010716</td>\n",
       "      <td>0.036087</td>\n",
       "      <td>0.054756</td>\n",
       "      <td>Shopping/Clothing</td>\n",
       "    </tr>\n",
       "    <tr>\n",
       "      <th>797</th>\n",
       "      <td>zybang.com</td>\n",
       "      <td>-0.067026</td>\n",
       "      <td>0.151070</td>\n",
       "      <td>0.111346</td>\n",
       "      <td>0.089000</td>\n",
       "      <td>-0.043314</td>\n",
       "      <td>-0.154948</td>\n",
       "      <td>News_and_Media</td>\n",
       "    </tr>\n",
       "  </tbody>\n",
       "</table>\n",
       "<p>798 rows × 8 columns</p>\n",
       "</div>"
      ],
      "text/plain": [
       "               site         7         8         9        10        11  \\\n",
       "0         028nb.com  0.000000  0.710560  0.000000 -0.464568 -0.618323   \n",
       "1         10010.com  0.039483  0.079943  0.096035 -0.157253 -0.250486   \n",
       "2          10086.cn  0.130660 -0.033005 -0.094632 -0.005187 -0.145957   \n",
       "3        100msh.com  0.000000  2.732586 -0.271273 -0.039227 -0.823096   \n",
       "4        11st.co.kr  0.117042 -0.083359 -0.132675  0.075704  0.035074   \n",
       "..              ...       ...       ...       ...       ...       ...   \n",
       "793  zippyshare.com  0.013523  0.077249 -0.154985  0.107264 -0.161683   \n",
       "794      zol.com.cn -0.013935  0.010809 -0.081144 -0.036600  0.043255   \n",
       "795      zomato.com  0.048199 -0.020304 -0.117745  0.008794 -0.086698   \n",
       "796         zozo.jp  0.380287 -0.098394 -0.101989  0.010716  0.036087   \n",
       "797      zybang.com -0.067026  0.151070  0.111346  0.089000 -0.043314   \n",
       "\n",
       "           12                                 category  \n",
       "0    0.128480                                      NaN  \n",
       "1    0.113619  Internet_and_Telecom/Telecommunications  \n",
       "2    0.241475  Internet_and_Telecom/Telecommunications  \n",
       "3    4.198469                                 Shopping  \n",
       "4    0.158609                                 Shopping  \n",
       "..        ...                                      ...  \n",
       "793 -0.060059        Internet_and_Telecom/File_Sharing  \n",
       "794 -0.147407           News_and_Media/Technology_News  \n",
       "795  0.044869  Food_and_Drink/Restaurants_and_Delivery  \n",
       "796  0.054756                        Shopping/Clothing  \n",
       "797 -0.154948                           News_and_Media  \n",
       "\n",
       "[798 rows x 8 columns]"
      ]
     },
     "execution_count": 999,
     "metadata": {},
     "output_type": "execute_result"
    }
   ],
   "source": [
    "df_visits = df_site_monthly.groupby(['month','site']).sum()['visits'].unstack()\n",
    "df_pct_change = df_visits.pct_change().reset_index()\n",
    "pivot_df  = df_pct_change.pivot_table(columns = 'month').reset_index()\n",
    "df_change_pct_category = pivot_df.merge(df_site_category, on = 'site')\n",
    "df_change_pct_category"
   ]
  },
  {
   "cell_type": "code",
   "execution_count": 1013,
   "metadata": {},
   "outputs": [
    {
     "data": {
      "text/html": [
       "<div>\n",
       "<style scoped>\n",
       "    .dataframe tbody tr th:only-of-type {\n",
       "        vertical-align: middle;\n",
       "    }\n",
       "\n",
       "    .dataframe tbody tr th {\n",
       "        vertical-align: top;\n",
       "    }\n",
       "\n",
       "    .dataframe thead th {\n",
       "        text-align: right;\n",
       "    }\n",
       "</style>\n",
       "<table border=\"1\" class=\"dataframe\">\n",
       "  <thead>\n",
       "    <tr style=\"text-align: right;\">\n",
       "      <th></th>\n",
       "      <th>category</th>\n",
       "      <th>7</th>\n",
       "      <th>8</th>\n",
       "      <th>9</th>\n",
       "      <th>10</th>\n",
       "      <th>11</th>\n",
       "      <th>12</th>\n",
       "    </tr>\n",
       "  </thead>\n",
       "  <tbody>\n",
       "    <tr>\n",
       "      <th>0</th>\n",
       "      <td>Adult</td>\n",
       "      <td>1.289015</td>\n",
       "      <td>0.010261</td>\n",
       "      <td>0.249567</td>\n",
       "      <td>0.152247</td>\n",
       "      <td>-0.057464</td>\n",
       "      <td>0.031901</td>\n",
       "    </tr>\n",
       "    <tr>\n",
       "      <th>1</th>\n",
       "      <td>Arts_and_Entertainment</td>\n",
       "      <td>0.226946</td>\n",
       "      <td>0.265114</td>\n",
       "      <td>-0.050756</td>\n",
       "      <td>0.353463</td>\n",
       "      <td>0.121359</td>\n",
       "      <td>0.001241</td>\n",
       "    </tr>\n",
       "    <tr>\n",
       "      <th>2</th>\n",
       "      <td>Arts_and_Entertainment/Animation_and_Comics</td>\n",
       "      <td>-0.030140</td>\n",
       "      <td>-0.122689</td>\n",
       "      <td>0.400203</td>\n",
       "      <td>-0.065110</td>\n",
       "      <td>-0.072089</td>\n",
       "      <td>0.014440</td>\n",
       "    </tr>\n",
       "    <tr>\n",
       "      <th>3</th>\n",
       "      <td>Arts_and_Entertainment/Celebrities_and_Enterta...</td>\n",
       "      <td>-0.157767</td>\n",
       "      <td>-0.072843</td>\n",
       "      <td>0.122986</td>\n",
       "      <td>-0.072818</td>\n",
       "      <td>0.030808</td>\n",
       "      <td>0.007766</td>\n",
       "    </tr>\n",
       "    <tr>\n",
       "      <th>4</th>\n",
       "      <td>Arts_and_Entertainment/Humor</td>\n",
       "      <td>-0.002712</td>\n",
       "      <td>0.000589</td>\n",
       "      <td>-0.099729</td>\n",
       "      <td>0.045029</td>\n",
       "      <td>0.031528</td>\n",
       "      <td>0.037481</td>\n",
       "    </tr>\n",
       "    <tr>\n",
       "      <th>...</th>\n",
       "      <td>...</td>\n",
       "      <td>...</td>\n",
       "      <td>...</td>\n",
       "      <td>...</td>\n",
       "      <td>...</td>\n",
       "      <td>...</td>\n",
       "      <td>...</td>\n",
       "    </tr>\n",
       "    <tr>\n",
       "      <th>86</th>\n",
       "      <td>Sports/Football</td>\n",
       "      <td>0.149412</td>\n",
       "      <td>1.605723</td>\n",
       "      <td>0.862430</td>\n",
       "      <td>-0.068382</td>\n",
       "      <td>-0.142159</td>\n",
       "      <td>0.006358</td>\n",
       "    </tr>\n",
       "    <tr>\n",
       "      <th>87</th>\n",
       "      <td>Sports/Soccer</td>\n",
       "      <td>-0.502370</td>\n",
       "      <td>0.438522</td>\n",
       "      <td>0.201522</td>\n",
       "      <td>0.107588</td>\n",
       "      <td>-0.079435</td>\n",
       "      <td>0.059505</td>\n",
       "    </tr>\n",
       "    <tr>\n",
       "      <th>88</th>\n",
       "      <td>Travel</td>\n",
       "      <td>0.089700</td>\n",
       "      <td>-0.002181</td>\n",
       "      <td>-0.138221</td>\n",
       "      <td>-0.060921</td>\n",
       "      <td>0.023838</td>\n",
       "      <td>0.121361</td>\n",
       "    </tr>\n",
       "    <tr>\n",
       "      <th>89</th>\n",
       "      <td>Travel/Accommodation_and_Hotels</td>\n",
       "      <td>0.088664</td>\n",
       "      <td>0.002467</td>\n",
       "      <td>-0.168261</td>\n",
       "      <td>0.012128</td>\n",
       "      <td>-0.107793</td>\n",
       "      <td>-0.021698</td>\n",
       "    </tr>\n",
       "    <tr>\n",
       "      <th>90</th>\n",
       "      <td>Travel/Tourism</td>\n",
       "      <td>0.007295</td>\n",
       "      <td>-0.028391</td>\n",
       "      <td>-0.138314</td>\n",
       "      <td>0.004998</td>\n",
       "      <td>-0.064104</td>\n",
       "      <td>0.025019</td>\n",
       "    </tr>\n",
       "  </tbody>\n",
       "</table>\n",
       "<p>91 rows × 7 columns</p>\n",
       "</div>"
      ],
      "text/plain": [
       "                                             category         7         8  \\\n",
       "0                                               Adult  1.289015  0.010261   \n",
       "1                              Arts_and_Entertainment  0.226946  0.265114   \n",
       "2         Arts_and_Entertainment/Animation_and_Comics -0.030140 -0.122689   \n",
       "3   Arts_and_Entertainment/Celebrities_and_Enterta... -0.157767 -0.072843   \n",
       "4                        Arts_and_Entertainment/Humor -0.002712  0.000589   \n",
       "..                                                ...       ...       ...   \n",
       "86                                    Sports/Football  0.149412  1.605723   \n",
       "87                                      Sports/Soccer -0.502370  0.438522   \n",
       "88                                             Travel  0.089700 -0.002181   \n",
       "89                    Travel/Accommodation_and_Hotels  0.088664  0.002467   \n",
       "90                                     Travel/Tourism  0.007295 -0.028391   \n",
       "\n",
       "           9        10        11        12  \n",
       "0   0.249567  0.152247 -0.057464  0.031901  \n",
       "1  -0.050756  0.353463  0.121359  0.001241  \n",
       "2   0.400203 -0.065110 -0.072089  0.014440  \n",
       "3   0.122986 -0.072818  0.030808  0.007766  \n",
       "4  -0.099729  0.045029  0.031528  0.037481  \n",
       "..       ...       ...       ...       ...  \n",
       "86  0.862430 -0.068382 -0.142159  0.006358  \n",
       "87  0.201522  0.107588 -0.079435  0.059505  \n",
       "88 -0.138221 -0.060921  0.023838  0.121361  \n",
       "89 -0.168261  0.012128 -0.107793 -0.021698  \n",
       "90 -0.138314  0.004998 -0.064104  0.025019  \n",
       "\n",
       "[91 rows x 7 columns]"
      ]
     },
     "execution_count": 1013,
     "metadata": {},
     "output_type": "execute_result"
    }
   ],
   "source": [
    "df_category_change_monthly = df_change_pct_category.groupby('category').mean().reset_index()\n",
    "df_category_change_monthly"
   ]
  },
  {
   "cell_type": "code",
   "execution_count": 1029,
   "metadata": {},
   "outputs": [
    {
     "data": {
      "text/html": [
       "<div>\n",
       "<style scoped>\n",
       "    .dataframe tbody tr th:only-of-type {\n",
       "        vertical-align: middle;\n",
       "    }\n",
       "\n",
       "    .dataframe tbody tr th {\n",
       "        vertical-align: top;\n",
       "    }\n",
       "\n",
       "    .dataframe thead th {\n",
       "        text-align: right;\n",
       "    }\n",
       "</style>\n",
       "<table border=\"1\" class=\"dataframe\">\n",
       "  <thead>\n",
       "    <tr style=\"text-align: right;\">\n",
       "      <th>category</th>\n",
       "      <th>Adult</th>\n",
       "      <th>Autos_and_Vehicles/Automotive_News</th>\n",
       "      <th>Business_and_Industry/Marketing_and_Advertising</th>\n",
       "      <th>Food_and_Drink</th>\n",
       "      <th>Internet_and_Telecom/Telecommunications</th>\n",
       "      <th>News_and_Media/Magazines_and_E-Zines</th>\n",
       "      <th>News_and_Media/Newspapers</th>\n",
       "      <th>Pets_and_Animals/Animal_Products_and_Service</th>\n",
       "      <th>Shopping/Clothing</th>\n",
       "      <th>Shopping/General_Merchandise</th>\n",
       "    </tr>\n",
       "  </thead>\n",
       "  <tbody>\n",
       "    <tr>\n",
       "      <th>7</th>\n",
       "      <td>1.289015</td>\n",
       "      <td>0.062899</td>\n",
       "      <td>-0.089610</td>\n",
       "      <td>0.439802</td>\n",
       "      <td>0.026128</td>\n",
       "      <td>0.041690</td>\n",
       "      <td>0.017855</td>\n",
       "      <td>-0.006719</td>\n",
       "      <td>0.035414</td>\n",
       "      <td>0.056295</td>\n",
       "    </tr>\n",
       "    <tr>\n",
       "      <th>8</th>\n",
       "      <td>0.010261</td>\n",
       "      <td>-0.006551</td>\n",
       "      <td>-0.190457</td>\n",
       "      <td>-0.206557</td>\n",
       "      <td>0.067459</td>\n",
       "      <td>-0.020870</td>\n",
       "      <td>-0.055816</td>\n",
       "      <td>-0.260334</td>\n",
       "      <td>-0.007984</td>\n",
       "      <td>0.016820</td>\n",
       "    </tr>\n",
       "    <tr>\n",
       "      <th>9</th>\n",
       "      <td>0.249567</td>\n",
       "      <td>-0.045329</td>\n",
       "      <td>-0.027895</td>\n",
       "      <td>0.012281</td>\n",
       "      <td>-0.027222</td>\n",
       "      <td>-0.112767</td>\n",
       "      <td>-0.065709</td>\n",
       "      <td>0.142144</td>\n",
       "      <td>0.000088</td>\n",
       "      <td>-0.077724</td>\n",
       "    </tr>\n",
       "    <tr>\n",
       "      <th>10</th>\n",
       "      <td>0.152247</td>\n",
       "      <td>0.094540</td>\n",
       "      <td>-0.195906</td>\n",
       "      <td>-0.144877</td>\n",
       "      <td>0.018427</td>\n",
       "      <td>-0.039029</td>\n",
       "      <td>0.072955</td>\n",
       "      <td>-0.114205</td>\n",
       "      <td>0.069835</td>\n",
       "      <td>0.122574</td>\n",
       "    </tr>\n",
       "    <tr>\n",
       "      <th>11</th>\n",
       "      <td>-0.057464</td>\n",
       "      <td>-0.067771</td>\n",
       "      <td>-0.327153</td>\n",
       "      <td>-0.074088</td>\n",
       "      <td>-0.066874</td>\n",
       "      <td>0.002330</td>\n",
       "      <td>0.036096</td>\n",
       "      <td>0.087780</td>\n",
       "      <td>0.314380</td>\n",
       "      <td>0.138730</td>\n",
       "    </tr>\n",
       "    <tr>\n",
       "      <th>12</th>\n",
       "      <td>0.031901</td>\n",
       "      <td>-0.038694</td>\n",
       "      <td>-0.423247</td>\n",
       "      <td>0.190253</td>\n",
       "      <td>0.033574</td>\n",
       "      <td>0.149831</td>\n",
       "      <td>-0.061421</td>\n",
       "      <td>0.333994</td>\n",
       "      <td>-0.022743</td>\n",
       "      <td>-0.002504</td>\n",
       "    </tr>\n",
       "  </tbody>\n",
       "</table>\n",
       "</div>"
      ],
      "text/plain": [
       "category     Adult  Autos_and_Vehicles/Automotive_News  \\\n",
       "7         1.289015                            0.062899   \n",
       "8         0.010261                           -0.006551   \n",
       "9         0.249567                           -0.045329   \n",
       "10        0.152247                            0.094540   \n",
       "11       -0.057464                           -0.067771   \n",
       "12        0.031901                           -0.038694   \n",
       "\n",
       "category  Business_and_Industry/Marketing_and_Advertising  Food_and_Drink  \\\n",
       "7                                               -0.089610        0.439802   \n",
       "8                                               -0.190457       -0.206557   \n",
       "9                                               -0.027895        0.012281   \n",
       "10                                              -0.195906       -0.144877   \n",
       "11                                              -0.327153       -0.074088   \n",
       "12                                              -0.423247        0.190253   \n",
       "\n",
       "category  Internet_and_Telecom/Telecommunications  \\\n",
       "7                                        0.026128   \n",
       "8                                        0.067459   \n",
       "9                                       -0.027222   \n",
       "10                                       0.018427   \n",
       "11                                      -0.066874   \n",
       "12                                       0.033574   \n",
       "\n",
       "category  News_and_Media/Magazines_and_E-Zines  News_and_Media/Newspapers  \\\n",
       "7                                     0.041690                   0.017855   \n",
       "8                                    -0.020870                  -0.055816   \n",
       "9                                    -0.112767                  -0.065709   \n",
       "10                                   -0.039029                   0.072955   \n",
       "11                                    0.002330                   0.036096   \n",
       "12                                    0.149831                  -0.061421   \n",
       "\n",
       "category  Pets_and_Animals/Animal_Products_and_Service  Shopping/Clothing  \\\n",
       "7                                            -0.006719           0.035414   \n",
       "8                                            -0.260334          -0.007984   \n",
       "9                                             0.142144           0.000088   \n",
       "10                                           -0.114205           0.069835   \n",
       "11                                            0.087780           0.314380   \n",
       "12                                            0.333994          -0.022743   \n",
       "\n",
       "category  Shopping/General_Merchandise  \n",
       "7                             0.056295  \n",
       "8                             0.016820  \n",
       "9                            -0.077724  \n",
       "10                            0.122574  \n",
       "11                            0.138730  \n",
       "12                           -0.002504  "
      ]
     },
     "execution_count": 1029,
     "metadata": {},
     "output_type": "execute_result"
    }
   ],
   "source": [
    "import random\n",
    "random_categories = random.sample(set(df_category_change_monthly[\"category\"]), 10)\n",
    "df = df_category_change_monthly[df_category_change_monthly['category'].isin(random_categories)].pivot_table(columns = 'category')\n",
    "df"
   ]
  },
  {
   "cell_type": "code",
   "execution_count": 1030,
   "metadata": {},
   "outputs": [
    {
     "data": {
      "text/plain": [
       "<AxesSubplot:>"
      ]
     },
     "execution_count": 1030,
     "metadata": {},
     "output_type": "execute_result"
    },
    {
     "data": {
      "image/png": "[encoded data removed]",
      "text/plain": [
       "<Figure size 1080x720 with 1 Axes>"
      ]
     },
     "metadata": {
      "needs_background": "light"
     },
     "output_type": "display_data"
    }
   ],
   "source": [
    "df.plot(figsize=(15,10))"
   ]
  },
  {
   "cell_type": "markdown",
   "metadata": {},
   "source": [
    "# VISITS ANALYSIS - PYTHON / SQL - Part 2"
   ]
  },
  {
   "cell_type": "code",
   "execution_count": 699,
   "metadata": {},
   "outputs": [
    {
     "data": {
      "text/html": [
       "<div>\n",
       "<style scoped>\n",
       "    .dataframe tbody tr th:only-of-type {\n",
       "        vertical-align: middle;\n",
       "    }\n",
       "\n",
       "    .dataframe tbody tr th {\n",
       "        vertical-align: top;\n",
       "    }\n",
       "\n",
       "    .dataframe thead th {\n",
       "        text-align: right;\n",
       "    }\n",
       "</style>\n",
       "<table border=\"1\" class=\"dataframe\">\n",
       "  <thead>\n",
       "    <tr style=\"text-align: right;\">\n",
       "      <th></th>\n",
       "      <th>site</th>\n",
       "      <th>country</th>\n",
       "      <th>user</th>\n",
       "      <th>timeonsite</th>\n",
       "      <th>pages</th>\n",
       "      <th>date</th>\n",
       "    </tr>\n",
       "  </thead>\n",
       "  <tbody>\n",
       "    <tr>\n",
       "      <th>0</th>\n",
       "      <td>zoom.us</td>\n",
       "      <td>840</td>\n",
       "      <td>k35kmh1np4kmot8et5so79ft2nn</td>\n",
       "      <td>61432</td>\n",
       "      <td>[zoom.us/meeting, zoom.us/meeting/87283168826,...</td>\n",
       "      <td>24-05-20</td>\n",
       "    </tr>\n",
       "    <tr>\n",
       "      <th>1</th>\n",
       "      <td>zoom.us</td>\n",
       "      <td>840</td>\n",
       "      <td>k35kmh1np4kmot8et5so79ft2nn</td>\n",
       "      <td>62000</td>\n",
       "      <td>[zoom.us/meeting, zoom.us/meeting/87283168826,...</td>\n",
       "      <td>24-05-20</td>\n",
       "    </tr>\n",
       "    <tr>\n",
       "      <th>2</th>\n",
       "      <td>zoom.us</td>\n",
       "      <td>840</td>\n",
       "      <td>9op6jq082jr8ib0957984cj4r0b</td>\n",
       "      <td>330223</td>\n",
       "      <td>[zoom.us, zoom.us/join, zoom.us/j/9645498612, ...</td>\n",
       "      <td>24-05-20</td>\n",
       "    </tr>\n",
       "  </tbody>\n",
       "</table>\n",
       "</div>"
      ],
      "text/plain": [
       "      site  country                         user  timeonsite  \\\n",
       "0  zoom.us      840  k35kmh1np4kmot8et5so79ft2nn       61432   \n",
       "1  zoom.us      840  k35kmh1np4kmot8et5so79ft2nn       62000   \n",
       "2  zoom.us      840  9op6jq082jr8ib0957984cj4r0b      330223   \n",
       "\n",
       "                                               pages      date  \n",
       "0  [zoom.us/meeting, zoom.us/meeting/87283168826,...  24-05-20  \n",
       "1  [zoom.us/meeting, zoom.us/meeting/87283168826,...  24-05-20  \n",
       "2  [zoom.us, zoom.us/join, zoom.us/j/9645498612, ...  24-05-20  "
      ]
     },
     "execution_count": 699,
     "metadata": {},
     "output_type": "execute_result"
    }
   ],
   "source": [
    "df_zoom = pd.read_csv('zoom.us_visits_05_20.csv')\n",
    "df_zoom.head(3)"
   ]
  },
  {
   "cell_type": "markdown",
   "metadata": {},
   "source": [
    "## zoom info"
   ]
  },
  {
   "cell_type": "code",
   "execution_count": 700,
   "metadata": {},
   "outputs": [
    {
     "name": "stdout",
     "output_type": "stream",
     "text": [
      "<class 'pandas.core.frame.DataFrame'>\n",
      "RangeIndex: 93107 entries, 0 to 93106\n",
      "Data columns (total 6 columns):\n",
      " #   Column      Non-Null Count  Dtype \n",
      "---  ------      --------------  ----- \n",
      " 0   site        93107 non-null  object\n",
      " 1   country     93107 non-null  int64 \n",
      " 2   user        93106 non-null  object\n",
      " 3   timeonsite  93107 non-null  int64 \n",
      " 4   pages       93107 non-null  object\n",
      " 5   date        93107 non-null  object\n",
      "dtypes: int64(2), object(4)\n",
      "memory usage: 4.3+ MB\n"
     ]
    }
   ],
   "source": [
    "df_zoom.info()"
   ]
  },
  {
   "cell_type": "code",
   "execution_count": 701,
   "metadata": {},
   "outputs": [
    {
     "data": {
      "text/html": [
       "<div>\n",
       "<style scoped>\n",
       "    .dataframe tbody tr th:only-of-type {\n",
       "        vertical-align: middle;\n",
       "    }\n",
       "\n",
       "    .dataframe tbody tr th {\n",
       "        vertical-align: top;\n",
       "    }\n",
       "\n",
       "    .dataframe thead th {\n",
       "        text-align: right;\n",
       "    }\n",
       "</style>\n",
       "<table border=\"1\" class=\"dataframe\">\n",
       "  <thead>\n",
       "    <tr style=\"text-align: right;\">\n",
       "      <th></th>\n",
       "      <th>site</th>\n",
       "      <th>country</th>\n",
       "      <th>user</th>\n",
       "      <th>timeonsite</th>\n",
       "      <th>pages</th>\n",
       "      <th>date</th>\n",
       "    </tr>\n",
       "  </thead>\n",
       "  <tbody>\n",
       "    <tr>\n",
       "      <th>16536</th>\n",
       "      <td>zoom.us</td>\n",
       "      <td>840</td>\n",
       "      <td>NaN</td>\n",
       "      <td>308541</td>\n",
       "      <td>[zoom.us/j/9619409880, zoom.us/j/9619409880, z...</td>\n",
       "      <td>10-05-20</td>\n",
       "    </tr>\n",
       "  </tbody>\n",
       "</table>\n",
       "</div>"
      ],
      "text/plain": [
       "          site  country user  timeonsite  \\\n",
       "16536  zoom.us      840  NaN      308541   \n",
       "\n",
       "                                                   pages      date  \n",
       "16536  [zoom.us/j/9619409880, zoom.us/j/9619409880, z...  10-05-20  "
      ]
     },
     "execution_count": 701,
     "metadata": {},
     "output_type": "execute_result"
    }
   ],
   "source": [
    "df_zoom[df_zoom.isna().any(axis=1)]"
   ]
  },
  {
   "cell_type": "code",
   "execution_count": 702,
   "metadata": {},
   "outputs": [
    {
     "name": "stdout",
     "output_type": "stream",
     "text": [
      "[zoom.us/meeting, zoom.us/meeting/87283168826, zoom.us/meeting/87283168826/edit, zoom.us/meeting/87283168826]\n",
      "<class 'str'>\n"
     ]
    }
   ],
   "source": [
    "print(df_zoom['pages'][0])\n",
    "print(type(df_zoom['pages'][0]))"
   ]
  },
  {
   "cell_type": "markdown",
   "metadata": {},
   "source": [
    "### Preprocess"
   ]
  },
  {
   "cell_type": "code",
   "execution_count": 704,
   "metadata": {},
   "outputs": [
    {
     "data": {
      "text/html": [
       "<div>\n",
       "<style scoped>\n",
       "    .dataframe tbody tr th:only-of-type {\n",
       "        vertical-align: middle;\n",
       "    }\n",
       "\n",
       "    .dataframe tbody tr th {\n",
       "        vertical-align: top;\n",
       "    }\n",
       "\n",
       "    .dataframe thead th {\n",
       "        text-align: right;\n",
       "    }\n",
       "</style>\n",
       "<table border=\"1\" class=\"dataframe\">\n",
       "  <thead>\n",
       "    <tr style=\"text-align: right;\">\n",
       "      <th></th>\n",
       "      <th>site</th>\n",
       "      <th>country</th>\n",
       "      <th>user</th>\n",
       "      <th>timeonsite</th>\n",
       "      <th>pages</th>\n",
       "      <th>date</th>\n",
       "      <th>pages_list</th>\n",
       "      <th>num_uniqe_page</th>\n",
       "    </tr>\n",
       "  </thead>\n",
       "  <tbody>\n",
       "    <tr>\n",
       "      <th>0</th>\n",
       "      <td>zoom.us</td>\n",
       "      <td>840</td>\n",
       "      <td>k35kmh1np4kmot8et5so79ft2nn</td>\n",
       "      <td>61432</td>\n",
       "      <td>[zoom.us/meeting, zoom.us/meeting/87283168826,...</td>\n",
       "      <td>24-05-20</td>\n",
       "      <td>[zoom.us/meeting, zoom.us/meeting/87283168826,...</td>\n",
       "      <td>3</td>\n",
       "    </tr>\n",
       "    <tr>\n",
       "      <th>1</th>\n",
       "      <td>zoom.us</td>\n",
       "      <td>840</td>\n",
       "      <td>k35kmh1np4kmot8et5so79ft2nn</td>\n",
       "      <td>62000</td>\n",
       "      <td>[zoom.us/meeting, zoom.us/meeting/87283168826,...</td>\n",
       "      <td>24-05-20</td>\n",
       "      <td>[zoom.us/meeting, zoom.us/meeting/87283168826,...</td>\n",
       "      <td>3</td>\n",
       "    </tr>\n",
       "  </tbody>\n",
       "</table>\n",
       "</div>"
      ],
      "text/plain": [
       "      site  country                         user  timeonsite  \\\n",
       "0  zoom.us      840  k35kmh1np4kmot8et5so79ft2nn       61432   \n",
       "1  zoom.us      840  k35kmh1np4kmot8et5so79ft2nn       62000   \n",
       "\n",
       "                                               pages      date  \\\n",
       "0  [zoom.us/meeting, zoom.us/meeting/87283168826,...  24-05-20   \n",
       "1  [zoom.us/meeting, zoom.us/meeting/87283168826,...  24-05-20   \n",
       "\n",
       "                                          pages_list  num_uniqe_page  \n",
       "0  [zoom.us/meeting, zoom.us/meeting/87283168826,...               3  \n",
       "1  [zoom.us/meeting, zoom.us/meeting/87283168826,...               3  "
      ]
     },
     "execution_count": 704,
     "metadata": {},
     "output_type": "execute_result"
    }
   ],
   "source": [
    "df_zoom[\"pages_list\"] = df_zoom[\"pages\"].apply(lambda pages: re.sub('[ \\]\\[]', '', pages).split(','))\n",
    "df_zoom[\"num_uniqe_page\"] =  df_zoom[\"pages_list\"].apply(lambda pages: len(set(pages)))\n",
    "df_zoom.head(2)"
   ]
  },
  {
   "cell_type": "markdown",
   "metadata": {},
   "source": [
    "### Filter by search word"
   ]
  },
  {
   "cell_type": "code",
   "execution_count": 706,
   "metadata": {},
   "outputs": [
    {
     "data": {
      "text/html": [
       "<div>\n",
       "<style scoped>\n",
       "    .dataframe tbody tr th:only-of-type {\n",
       "        vertical-align: middle;\n",
       "    }\n",
       "\n",
       "    .dataframe tbody tr th {\n",
       "        vertical-align: top;\n",
       "    }\n",
       "\n",
       "    .dataframe thead th {\n",
       "        text-align: right;\n",
       "    }\n",
       "</style>\n",
       "<table border=\"1\" class=\"dataframe\">\n",
       "  <thead>\n",
       "    <tr style=\"text-align: right;\">\n",
       "      <th></th>\n",
       "      <th>site</th>\n",
       "      <th>country</th>\n",
       "      <th>user</th>\n",
       "      <th>timeonsite</th>\n",
       "      <th>pages</th>\n",
       "      <th>date</th>\n",
       "      <th>pages_list</th>\n",
       "      <th>num_uniqe_page</th>\n",
       "    </tr>\n",
       "  </thead>\n",
       "  <tbody>\n",
       "    <tr>\n",
       "      <th>296</th>\n",
       "      <td>zoom.us</td>\n",
       "      <td>840</td>\n",
       "      <td>sq3f3rhhnskadskab0rn9prrtmo</td>\n",
       "      <td>606000</td>\n",
       "      <td>[zoom.us/signin, zoom.us/meeting, zoom.us/sign...</td>\n",
       "      <td>24-05-20</td>\n",
       "      <td>[zoom.us/signin, zoom.us/meeting, zoom.us/sign...</td>\n",
       "      <td>13</td>\n",
       "    </tr>\n",
       "    <tr>\n",
       "      <th>297</th>\n",
       "      <td>zoom.us</td>\n",
       "      <td>840</td>\n",
       "      <td>sq3f3rhhnskadskab0rn9prrtmo</td>\n",
       "      <td>203237</td>\n",
       "      <td>[zoom.us/signin, zoom.us/meeting, zoom.us/sign...</td>\n",
       "      <td>24-05-20</td>\n",
       "      <td>[zoom.us/signin, zoom.us/meeting, zoom.us/sign...</td>\n",
       "      <td>11</td>\n",
       "    </tr>\n",
       "    <tr>\n",
       "      <th>1310</th>\n",
       "      <td>zoom.us</td>\n",
       "      <td>840</td>\n",
       "      <td>km2h959lkj49p8jl0b80ge93aa5</td>\n",
       "      <td>487000</td>\n",
       "      <td>[zoom.us, zoom.us/pricing, zoom.us/buy?plan=pr...</td>\n",
       "      <td>24-05-20</td>\n",
       "      <td>[zoom.us, zoom.us/pricing, zoom.us/buy?plan=pr...</td>\n",
       "      <td>14</td>\n",
       "    </tr>\n",
       "    <tr>\n",
       "      <th>1311</th>\n",
       "      <td>zoom.us</td>\n",
       "      <td>840</td>\n",
       "      <td>km2h959lkj49p8jl0b80ge93aa5</td>\n",
       "      <td>487020</td>\n",
       "      <td>[zoom.us, zoom.us/pricing, zoom.us/buy?plan=pr...</td>\n",
       "      <td>24-05-20</td>\n",
       "      <td>[zoom.us, zoom.us/pricing, zoom.us/buy?plan=pr...</td>\n",
       "      <td>12</td>\n",
       "    </tr>\n",
       "    <tr>\n",
       "      <th>1844</th>\n",
       "      <td>zoom.us</td>\n",
       "      <td>840</td>\n",
       "      <td>149ce60a4bd4a1b1ac875d5fec392c8e5adc4f9d</td>\n",
       "      <td>2147702</td>\n",
       "      <td>[zoom.us/join, zoom.us/signin, zoom.us/webinar...</td>\n",
       "      <td>09-05-20</td>\n",
       "      <td>[zoom.us/join, zoom.us/signin, zoom.us/webinar...</td>\n",
       "      <td>17</td>\n",
       "    </tr>\n",
       "    <tr>\n",
       "      <th>...</th>\n",
       "      <td>...</td>\n",
       "      <td>...</td>\n",
       "      <td>...</td>\n",
       "      <td>...</td>\n",
       "      <td>...</td>\n",
       "      <td>...</td>\n",
       "      <td>...</td>\n",
       "      <td>...</td>\n",
       "    </tr>\n",
       "    <tr>\n",
       "      <th>91938</th>\n",
       "      <td>zoom.us</td>\n",
       "      <td>840</td>\n",
       "      <td>gno7d4kcr6akheeobqe54f2sht5</td>\n",
       "      <td>192000</td>\n",
       "      <td>[zoom.us/signin, zoom.us/profile, zoom.us/bill...</td>\n",
       "      <td>16-05-20</td>\n",
       "      <td>[zoom.us/signin, zoom.us/profile, zoom.us/bill...</td>\n",
       "      <td>9</td>\n",
       "    </tr>\n",
       "    <tr>\n",
       "      <th>91939</th>\n",
       "      <td>zoom.us</td>\n",
       "      <td>840</td>\n",
       "      <td>dflm516kcf84pa43fato4nedq1k</td>\n",
       "      <td>192587</td>\n",
       "      <td>[zoom.us/signin, zoom.us/profile, zoom.us/bill...</td>\n",
       "      <td>16-05-20</td>\n",
       "      <td>[zoom.us/signin, zoom.us/profile, zoom.us/bill...</td>\n",
       "      <td>9</td>\n",
       "    </tr>\n",
       "    <tr>\n",
       "      <th>91940</th>\n",
       "      <td>zoom.us</td>\n",
       "      <td>840</td>\n",
       "      <td>dflm516kcf84pa43fato4nedq1k</td>\n",
       "      <td>192000</td>\n",
       "      <td>[zoom.us/signin, zoom.us/profile, zoom.us/bill...</td>\n",
       "      <td>16-05-20</td>\n",
       "      <td>[zoom.us/signin, zoom.us/profile, zoom.us/bill...</td>\n",
       "      <td>9</td>\n",
       "    </tr>\n",
       "    <tr>\n",
       "      <th>92914</th>\n",
       "      <td>zoom.us</td>\n",
       "      <td>840</td>\n",
       "      <td>js1e2ecop7qq64pe3n6988620im</td>\n",
       "      <td>574301</td>\n",
       "      <td>[zoom.us/signup, zoom.us/signup, zoom.us/signu...</td>\n",
       "      <td>16-05-20</td>\n",
       "      <td>[zoom.us/signup, zoom.us/signup, zoom.us/signu...</td>\n",
       "      <td>12</td>\n",
       "    </tr>\n",
       "    <tr>\n",
       "      <th>92915</th>\n",
       "      <td>zoom.us</td>\n",
       "      <td>840</td>\n",
       "      <td>js1e2ecop7qq64pe3n6988620im</td>\n",
       "      <td>575000</td>\n",
       "      <td>[zoom.us/signup, zoom.us/signup, zoom.us/signu...</td>\n",
       "      <td>16-05-20</td>\n",
       "      <td>[zoom.us/signup, zoom.us/signup, zoom.us/signu...</td>\n",
       "      <td>12</td>\n",
       "    </tr>\n",
       "  </tbody>\n",
       "</table>\n",
       "<p>72 rows × 8 columns</p>\n",
       "</div>"
      ],
      "text/plain": [
       "          site  country                                      user  timeonsite  \\\n",
       "296    zoom.us      840               sq3f3rhhnskadskab0rn9prrtmo      606000   \n",
       "297    zoom.us      840               sq3f3rhhnskadskab0rn9prrtmo      203237   \n",
       "1310   zoom.us      840               km2h959lkj49p8jl0b80ge93aa5      487000   \n",
       "1311   zoom.us      840               km2h959lkj49p8jl0b80ge93aa5      487020   \n",
       "1844   zoom.us      840  149ce60a4bd4a1b1ac875d5fec392c8e5adc4f9d     2147702   \n",
       "...        ...      ...                                       ...         ...   \n",
       "91938  zoom.us      840               gno7d4kcr6akheeobqe54f2sht5      192000   \n",
       "91939  zoom.us      840               dflm516kcf84pa43fato4nedq1k      192587   \n",
       "91940  zoom.us      840               dflm516kcf84pa43fato4nedq1k      192000   \n",
       "92914  zoom.us      840               js1e2ecop7qq64pe3n6988620im      574301   \n",
       "92915  zoom.us      840               js1e2ecop7qq64pe3n6988620im      575000   \n",
       "\n",
       "                                                   pages      date  \\\n",
       "296    [zoom.us/signin, zoom.us/meeting, zoom.us/sign...  24-05-20   \n",
       "297    [zoom.us/signin, zoom.us/meeting, zoom.us/sign...  24-05-20   \n",
       "1310   [zoom.us, zoom.us/pricing, zoom.us/buy?plan=pr...  24-05-20   \n",
       "1311   [zoom.us, zoom.us/pricing, zoom.us/buy?plan=pr...  24-05-20   \n",
       "1844   [zoom.us/join, zoom.us/signin, zoom.us/webinar...  09-05-20   \n",
       "...                                                  ...       ...   \n",
       "91938  [zoom.us/signin, zoom.us/profile, zoom.us/bill...  16-05-20   \n",
       "91939  [zoom.us/signin, zoom.us/profile, zoom.us/bill...  16-05-20   \n",
       "91940  [zoom.us/signin, zoom.us/profile, zoom.us/bill...  16-05-20   \n",
       "92914  [zoom.us/signup, zoom.us/signup, zoom.us/signu...  16-05-20   \n",
       "92915  [zoom.us/signup, zoom.us/signup, zoom.us/signu...  16-05-20   \n",
       "\n",
       "                                              pages_list  num_uniqe_page  \n",
       "296    [zoom.us/signin, zoom.us/meeting, zoom.us/sign...              13  \n",
       "297    [zoom.us/signin, zoom.us/meeting, zoom.us/sign...              11  \n",
       "1310   [zoom.us, zoom.us/pricing, zoom.us/buy?plan=pr...              14  \n",
       "1311   [zoom.us, zoom.us/pricing, zoom.us/buy?plan=pr...              12  \n",
       "1844   [zoom.us/join, zoom.us/signin, zoom.us/webinar...              17  \n",
       "...                                                  ...             ...  \n",
       "91938  [zoom.us/signin, zoom.us/profile, zoom.us/bill...               9  \n",
       "91939  [zoom.us/signin, zoom.us/profile, zoom.us/bill...               9  \n",
       "91940  [zoom.us/signin, zoom.us/profile, zoom.us/bill...               9  \n",
       "92914  [zoom.us/signup, zoom.us/signup, zoom.us/signu...              12  \n",
       "92915  [zoom.us/signup, zoom.us/signup, zoom.us/signu...              12  \n",
       "\n",
       "[72 rows x 8 columns]"
      ]
     },
     "execution_count": 706,
     "metadata": {},
     "output_type": "execute_result"
    }
   ],
   "source": [
    "search_word = 'upgradeSuccess'\n",
    "df_search = df_zoom[df_zoom.apply(lambda x: any(search_word in page for page in x.pages_list), axis=1)]\n",
    "df_search"
   ]
  },
  {
   "cell_type": "markdown",
   "metadata": {},
   "source": [
    "### Metrics "
   ]
  },
  {
   "cell_type": "code",
   "execution_count": 707,
   "metadata": {},
   "outputs": [],
   "source": [
    "def number_pages_until_search_word(pages):\n",
    "    item = next((x for x in pages if search_word in x) , None)\n",
    "    search_word_index =  len(pages)-1 if item is None else  pages.index(item)    \n",
    "    return len(set(pages[:search_word_index]) )"
   ]
  },
  {
   "cell_type": "code",
   "execution_count": 708,
   "metadata": {},
   "outputs": [],
   "source": [
    "# pd.options.mode.chained_assignment = None"
   ]
  },
  {
   "cell_type": "code",
   "execution_count": 711,
   "metadata": {},
   "outputs": [
    {
     "data": {
      "text/html": [
       "<div>\n",
       "<style scoped>\n",
       "    .dataframe tbody tr th:only-of-type {\n",
       "        vertical-align: middle;\n",
       "    }\n",
       "\n",
       "    .dataframe tbody tr th {\n",
       "        vertical-align: top;\n",
       "    }\n",
       "\n",
       "    .dataframe thead th {\n",
       "        text-align: right;\n",
       "    }\n",
       "</style>\n",
       "<table border=\"1\" class=\"dataframe\">\n",
       "  <thead>\n",
       "    <tr style=\"text-align: right;\">\n",
       "      <th></th>\n",
       "      <th>site</th>\n",
       "      <th>country</th>\n",
       "      <th>user</th>\n",
       "      <th>timeonsite</th>\n",
       "      <th>pages</th>\n",
       "      <th>date</th>\n",
       "      <th>pages_list</th>\n",
       "      <th>num_uniqe_page</th>\n",
       "      <th>num_uniqe_page_until_search_word</th>\n",
       "    </tr>\n",
       "  </thead>\n",
       "  <tbody>\n",
       "    <tr>\n",
       "      <th>296</th>\n",
       "      <td>zoom.us</td>\n",
       "      <td>840</td>\n",
       "      <td>sq3f3rhhnskadskab0rn9prrtmo</td>\n",
       "      <td>606000</td>\n",
       "      <td>[zoom.us/signin, zoom.us/meeting, zoom.us/sign...</td>\n",
       "      <td>24-05-20</td>\n",
       "      <td>[zoom.us/signin, zoom.us/meeting, zoom.us/sign...</td>\n",
       "      <td>13</td>\n",
       "      <td>8</td>\n",
       "    </tr>\n",
       "    <tr>\n",
       "      <th>297</th>\n",
       "      <td>zoom.us</td>\n",
       "      <td>840</td>\n",
       "      <td>sq3f3rhhnskadskab0rn9prrtmo</td>\n",
       "      <td>203237</td>\n",
       "      <td>[zoom.us/signin, zoom.us/meeting, zoom.us/sign...</td>\n",
       "      <td>24-05-20</td>\n",
       "      <td>[zoom.us/signin, zoom.us/meeting, zoom.us/sign...</td>\n",
       "      <td>11</td>\n",
       "      <td>8</td>\n",
       "    </tr>\n",
       "    <tr>\n",
       "      <th>1310</th>\n",
       "      <td>zoom.us</td>\n",
       "      <td>840</td>\n",
       "      <td>km2h959lkj49p8jl0b80ge93aa5</td>\n",
       "      <td>487000</td>\n",
       "      <td>[zoom.us, zoom.us/pricing, zoom.us/buy?plan=pr...</td>\n",
       "      <td>24-05-20</td>\n",
       "      <td>[zoom.us, zoom.us/pricing, zoom.us/buy?plan=pr...</td>\n",
       "      <td>14</td>\n",
       "      <td>8</td>\n",
       "    </tr>\n",
       "    <tr>\n",
       "      <th>1311</th>\n",
       "      <td>zoom.us</td>\n",
       "      <td>840</td>\n",
       "      <td>km2h959lkj49p8jl0b80ge93aa5</td>\n",
       "      <td>487020</td>\n",
       "      <td>[zoom.us, zoom.us/pricing, zoom.us/buy?plan=pr...</td>\n",
       "      <td>24-05-20</td>\n",
       "      <td>[zoom.us, zoom.us/pricing, zoom.us/buy?plan=pr...</td>\n",
       "      <td>12</td>\n",
       "      <td>7</td>\n",
       "    </tr>\n",
       "    <tr>\n",
       "      <th>1844</th>\n",
       "      <td>zoom.us</td>\n",
       "      <td>840</td>\n",
       "      <td>149ce60a4bd4a1b1ac875d5fec392c8e5adc4f9d</td>\n",
       "      <td>2147702</td>\n",
       "      <td>[zoom.us/join, zoom.us/signin, zoom.us/webinar...</td>\n",
       "      <td>09-05-20</td>\n",
       "      <td>[zoom.us/join, zoom.us/signin, zoom.us/webinar...</td>\n",
       "      <td>17</td>\n",
       "      <td>9</td>\n",
       "    </tr>\n",
       "  </tbody>\n",
       "</table>\n",
       "</div>"
      ],
      "text/plain": [
       "         site  country                                      user  timeonsite  \\\n",
       "296   zoom.us      840               sq3f3rhhnskadskab0rn9prrtmo      606000   \n",
       "297   zoom.us      840               sq3f3rhhnskadskab0rn9prrtmo      203237   \n",
       "1310  zoom.us      840               km2h959lkj49p8jl0b80ge93aa5      487000   \n",
       "1311  zoom.us      840               km2h959lkj49p8jl0b80ge93aa5      487020   \n",
       "1844  zoom.us      840  149ce60a4bd4a1b1ac875d5fec392c8e5adc4f9d     2147702   \n",
       "\n",
       "                                                  pages      date  \\\n",
       "296   [zoom.us/signin, zoom.us/meeting, zoom.us/sign...  24-05-20   \n",
       "297   [zoom.us/signin, zoom.us/meeting, zoom.us/sign...  24-05-20   \n",
       "1310  [zoom.us, zoom.us/pricing, zoom.us/buy?plan=pr...  24-05-20   \n",
       "1311  [zoom.us, zoom.us/pricing, zoom.us/buy?plan=pr...  24-05-20   \n",
       "1844  [zoom.us/join, zoom.us/signin, zoom.us/webinar...  09-05-20   \n",
       "\n",
       "                                             pages_list  num_uniqe_page  \\\n",
       "296   [zoom.us/signin, zoom.us/meeting, zoom.us/sign...              13   \n",
       "297   [zoom.us/signin, zoom.us/meeting, zoom.us/sign...              11   \n",
       "1310  [zoom.us, zoom.us/pricing, zoom.us/buy?plan=pr...              14   \n",
       "1311  [zoom.us, zoom.us/pricing, zoom.us/buy?plan=pr...              12   \n",
       "1844  [zoom.us/join, zoom.us/signin, zoom.us/webinar...              17   \n",
       "\n",
       "      num_uniqe_page_until_search_word  \n",
       "296                                  8  \n",
       "297                                  8  \n",
       "1310                                 8  \n",
       "1311                                 7  \n",
       "1844                                 9  "
      ]
     },
     "execution_count": 711,
     "metadata": {},
     "output_type": "execute_result"
    }
   ],
   "source": [
    "df_zoom[\"num_uniqe_page_until_search_word\"] =  df_zoom[\"pages_list\"].apply(number_pages_until_search_word)\n",
    "df_search[\"num_uniqe_page_until_search_word\"] =  df_search[\"pages_list\"].apply(number_pages_until_search_word)\n",
    "df_search.head()"
   ]
  },
  {
   "cell_type": "code",
   "execution_count": 712,
   "metadata": {},
   "outputs": [],
   "source": [
    "def exctrac_metrics(df):\n",
    "    grouped_df = df.groupby(\"date\")\n",
    "    grouped_df = grouped_df.agg({\"pages\": \"count\", \"user\":\"nunique\", \"num_uniqe_page_until_search_word\":\"mean\"})\n",
    "    grouped_df = grouped_df.reset_index()\n",
    "    grouped_df.columns = ['date','num_visits', 'uniqu_users', 'mean_uniqe_page']\n",
    "    return grouped_df"
   ]
  },
  {
   "cell_type": "code",
   "execution_count": 713,
   "metadata": {},
   "outputs": [
    {
     "data": {
      "text/html": [
       "<div>\n",
       "<style scoped>\n",
       "    .dataframe tbody tr th:only-of-type {\n",
       "        vertical-align: middle;\n",
       "    }\n",
       "\n",
       "    .dataframe tbody tr th {\n",
       "        vertical-align: top;\n",
       "    }\n",
       "\n",
       "    .dataframe thead th {\n",
       "        text-align: right;\n",
       "    }\n",
       "</style>\n",
       "<table border=\"1\" class=\"dataframe\">\n",
       "  <thead>\n",
       "    <tr style=\"text-align: right;\">\n",
       "      <th></th>\n",
       "      <th>date</th>\n",
       "      <th>num_visits</th>\n",
       "      <th>uniqu_users</th>\n",
       "      <th>mean_uniqe_page</th>\n",
       "    </tr>\n",
       "  </thead>\n",
       "  <tbody>\n",
       "    <tr>\n",
       "      <th>0</th>\n",
       "      <td>01-05-20</td>\n",
       "      <td>2</td>\n",
       "      <td>1</td>\n",
       "      <td>5.000000</td>\n",
       "    </tr>\n",
       "    <tr>\n",
       "      <th>1</th>\n",
       "      <td>02-05-20</td>\n",
       "      <td>4</td>\n",
       "      <td>2</td>\n",
       "      <td>4.000000</td>\n",
       "    </tr>\n",
       "    <tr>\n",
       "      <th>2</th>\n",
       "      <td>03-05-20</td>\n",
       "      <td>6</td>\n",
       "      <td>3</td>\n",
       "      <td>7.166667</td>\n",
       "    </tr>\n",
       "  </tbody>\n",
       "</table>\n",
       "</div>"
      ],
      "text/plain": [
       "       date  num_visits  uniqu_users  mean_uniqe_page\n",
       "0  01-05-20           2            1         5.000000\n",
       "1  02-05-20           4            2         4.000000\n",
       "2  03-05-20           6            3         7.166667"
      ]
     },
     "execution_count": 713,
     "metadata": {},
     "output_type": "execute_result"
    }
   ],
   "source": [
    "df_filter_zoom_metrics = exctrac_metrics(df_search.copy())\n",
    "df_filter_zoom_metrics.head(3)"
   ]
  },
  {
   "cell_type": "code",
   "execution_count": 714,
   "metadata": {},
   "outputs": [
    {
     "data": {
      "text/html": [
       "<div>\n",
       "<style scoped>\n",
       "    .dataframe tbody tr th:only-of-type {\n",
       "        vertical-align: middle;\n",
       "    }\n",
       "\n",
       "    .dataframe tbody tr th {\n",
       "        vertical-align: top;\n",
       "    }\n",
       "\n",
       "    .dataframe thead th {\n",
       "        text-align: right;\n",
       "    }\n",
       "</style>\n",
       "<table border=\"1\" class=\"dataframe\">\n",
       "  <thead>\n",
       "    <tr style=\"text-align: right;\">\n",
       "      <th></th>\n",
       "      <th>date</th>\n",
       "      <th>num_visits</th>\n",
       "      <th>uniqu_users</th>\n",
       "      <th>mean_uniqe_page</th>\n",
       "    </tr>\n",
       "  </thead>\n",
       "  <tbody>\n",
       "    <tr>\n",
       "      <th>0</th>\n",
       "      <td>01-05-20</td>\n",
       "      <td>2999</td>\n",
       "      <td>1088</td>\n",
       "      <td>2.515505</td>\n",
       "    </tr>\n",
       "    <tr>\n",
       "      <th>1</th>\n",
       "      <td>02-05-20</td>\n",
       "      <td>2997</td>\n",
       "      <td>1207</td>\n",
       "      <td>2.568569</td>\n",
       "    </tr>\n",
       "    <tr>\n",
       "      <th>2</th>\n",
       "      <td>03-05-20</td>\n",
       "      <td>3008</td>\n",
       "      <td>1226</td>\n",
       "      <td>2.612699</td>\n",
       "    </tr>\n",
       "  </tbody>\n",
       "</table>\n",
       "</div>"
      ],
      "text/plain": [
       "       date  num_visits  uniqu_users  mean_uniqe_page\n",
       "0  01-05-20        2999         1088         2.515505\n",
       "1  02-05-20        2997         1207         2.568569\n",
       "2  03-05-20        3008         1226         2.612699"
      ]
     },
     "execution_count": 714,
     "metadata": {},
     "output_type": "execute_result"
    }
   ],
   "source": [
    "df_zoom_metrics = exctrac_metrics(df_zoom.copy())\n",
    "df_zoom_metrics.head(3)"
   ]
  },
  {
   "cell_type": "code",
   "execution_count": 715,
   "metadata": {},
   "outputs": [
    {
     "data": {
      "text/html": [
       "<div>\n",
       "<style scoped>\n",
       "    .dataframe tbody tr th:only-of-type {\n",
       "        vertical-align: middle;\n",
       "    }\n",
       "\n",
       "    .dataframe tbody tr th {\n",
       "        vertical-align: top;\n",
       "    }\n",
       "\n",
       "    .dataframe thead th {\n",
       "        text-align: right;\n",
       "    }\n",
       "</style>\n",
       "<table border=\"1\" class=\"dataframe\">\n",
       "  <thead>\n",
       "    <tr style=\"text-align: right;\">\n",
       "      <th></th>\n",
       "      <th>date</th>\n",
       "      <th>num_visits_all</th>\n",
       "      <th>uniqu_users_all</th>\n",
       "      <th>mean_uniqe_page_all</th>\n",
       "      <th>num_visits_upgradeSuccess</th>\n",
       "      <th>uniqu_users_upgradeSuccess</th>\n",
       "      <th>mean_uniqe_page_upgradeSuccess</th>\n",
       "    </tr>\n",
       "  </thead>\n",
       "  <tbody>\n",
       "    <tr>\n",
       "      <th>0</th>\n",
       "      <td>01-05-20</td>\n",
       "      <td>2999</td>\n",
       "      <td>1088</td>\n",
       "      <td>2.515505</td>\n",
       "      <td>2.0</td>\n",
       "      <td>1.0</td>\n",
       "      <td>5.000000</td>\n",
       "    </tr>\n",
       "    <tr>\n",
       "      <th>1</th>\n",
       "      <td>02-05-20</td>\n",
       "      <td>2997</td>\n",
       "      <td>1207</td>\n",
       "      <td>2.568569</td>\n",
       "      <td>4.0</td>\n",
       "      <td>2.0</td>\n",
       "      <td>4.000000</td>\n",
       "    </tr>\n",
       "    <tr>\n",
       "      <th>2</th>\n",
       "      <td>03-05-20</td>\n",
       "      <td>3008</td>\n",
       "      <td>1226</td>\n",
       "      <td>2.612699</td>\n",
       "      <td>6.0</td>\n",
       "      <td>3.0</td>\n",
       "      <td>7.166667</td>\n",
       "    </tr>\n",
       "    <tr>\n",
       "      <th>3</th>\n",
       "      <td>04-05-20</td>\n",
       "      <td>2999</td>\n",
       "      <td>1047</td>\n",
       "      <td>2.548516</td>\n",
       "      <td>3.0</td>\n",
       "      <td>2.0</td>\n",
       "      <td>6.666667</td>\n",
       "    </tr>\n",
       "    <tr>\n",
       "      <th>4</th>\n",
       "      <td>05-05-20</td>\n",
       "      <td>2999</td>\n",
       "      <td>1075</td>\n",
       "      <td>2.517839</td>\n",
       "      <td>NaN</td>\n",
       "      <td>NaN</td>\n",
       "      <td>NaN</td>\n",
       "    </tr>\n",
       "    <tr>\n",
       "      <th>5</th>\n",
       "      <td>06-05-20</td>\n",
       "      <td>3000</td>\n",
       "      <td>1033</td>\n",
       "      <td>2.586333</td>\n",
       "      <td>NaN</td>\n",
       "      <td>NaN</td>\n",
       "      <td>NaN</td>\n",
       "    </tr>\n",
       "    <tr>\n",
       "      <th>6</th>\n",
       "      <td>07-05-20</td>\n",
       "      <td>2999</td>\n",
       "      <td>1054</td>\n",
       "      <td>2.446149</td>\n",
       "      <td>6.0</td>\n",
       "      <td>3.0</td>\n",
       "      <td>9.000000</td>\n",
       "    </tr>\n",
       "    <tr>\n",
       "      <th>7</th>\n",
       "      <td>08-05-20</td>\n",
       "      <td>2999</td>\n",
       "      <td>1063</td>\n",
       "      <td>2.516172</td>\n",
       "      <td>1.0</td>\n",
       "      <td>1.0</td>\n",
       "      <td>8.000000</td>\n",
       "    </tr>\n",
       "    <tr>\n",
       "      <th>8</th>\n",
       "      <td>09-05-20</td>\n",
       "      <td>2999</td>\n",
       "      <td>1205</td>\n",
       "      <td>2.626209</td>\n",
       "      <td>4.0</td>\n",
       "      <td>2.0</td>\n",
       "      <td>10.500000</td>\n",
       "    </tr>\n",
       "    <tr>\n",
       "      <th>9</th>\n",
       "      <td>10-05-20</td>\n",
       "      <td>2999</td>\n",
       "      <td>1274</td>\n",
       "      <td>2.584528</td>\n",
       "      <td>6.0</td>\n",
       "      <td>3.0</td>\n",
       "      <td>7.500000</td>\n",
       "    </tr>\n",
       "    <tr>\n",
       "      <th>10</th>\n",
       "      <td>11-05-20</td>\n",
       "      <td>3004</td>\n",
       "      <td>1059</td>\n",
       "      <td>2.573236</td>\n",
       "      <td>NaN</td>\n",
       "      <td>NaN</td>\n",
       "      <td>NaN</td>\n",
       "    </tr>\n",
       "    <tr>\n",
       "      <th>11</th>\n",
       "      <td>12-05-20</td>\n",
       "      <td>3001</td>\n",
       "      <td>1042</td>\n",
       "      <td>2.619793</td>\n",
       "      <td>2.0</td>\n",
       "      <td>1.0</td>\n",
       "      <td>7.000000</td>\n",
       "    </tr>\n",
       "    <tr>\n",
       "      <th>12</th>\n",
       "      <td>13-05-20</td>\n",
       "      <td>3004</td>\n",
       "      <td>1050</td>\n",
       "      <td>2.644807</td>\n",
       "      <td>2.0</td>\n",
       "      <td>1.0</td>\n",
       "      <td>4.500000</td>\n",
       "    </tr>\n",
       "    <tr>\n",
       "      <th>13</th>\n",
       "      <td>14-05-20</td>\n",
       "      <td>3000</td>\n",
       "      <td>1140</td>\n",
       "      <td>2.537667</td>\n",
       "      <td>NaN</td>\n",
       "      <td>NaN</td>\n",
       "      <td>NaN</td>\n",
       "    </tr>\n",
       "    <tr>\n",
       "      <th>14</th>\n",
       "      <td>15-05-20</td>\n",
       "      <td>3000</td>\n",
       "      <td>1086</td>\n",
       "      <td>2.447000</td>\n",
       "      <td>2.0</td>\n",
       "      <td>1.0</td>\n",
       "      <td>4.000000</td>\n",
       "    </tr>\n",
       "    <tr>\n",
       "      <th>15</th>\n",
       "      <td>16-05-20</td>\n",
       "      <td>3004</td>\n",
       "      <td>1237</td>\n",
       "      <td>2.610852</td>\n",
       "      <td>6.0</td>\n",
       "      <td>3.0</td>\n",
       "      <td>7.666667</td>\n",
       "    </tr>\n",
       "    <tr>\n",
       "      <th>16</th>\n",
       "      <td>17-05-20</td>\n",
       "      <td>2998</td>\n",
       "      <td>1240</td>\n",
       "      <td>2.173449</td>\n",
       "      <td>2.0</td>\n",
       "      <td>1.0</td>\n",
       "      <td>11.000000</td>\n",
       "    </tr>\n",
       "    <tr>\n",
       "      <th>17</th>\n",
       "      <td>18-05-20</td>\n",
       "      <td>2998</td>\n",
       "      <td>1052</td>\n",
       "      <td>2.492662</td>\n",
       "      <td>2.0</td>\n",
       "      <td>1.0</td>\n",
       "      <td>9.000000</td>\n",
       "    </tr>\n",
       "    <tr>\n",
       "      <th>18</th>\n",
       "      <td>19-05-20</td>\n",
       "      <td>3000</td>\n",
       "      <td>1005</td>\n",
       "      <td>2.678333</td>\n",
       "      <td>2.0</td>\n",
       "      <td>1.0</td>\n",
       "      <td>20.000000</td>\n",
       "    </tr>\n",
       "    <tr>\n",
       "      <th>19</th>\n",
       "      <td>20-05-20</td>\n",
       "      <td>3000</td>\n",
       "      <td>1068</td>\n",
       "      <td>2.569000</td>\n",
       "      <td>NaN</td>\n",
       "      <td>NaN</td>\n",
       "      <td>NaN</td>\n",
       "    </tr>\n",
       "    <tr>\n",
       "      <th>20</th>\n",
       "      <td>21-05-20</td>\n",
       "      <td>3003</td>\n",
       "      <td>1078</td>\n",
       "      <td>2.538129</td>\n",
       "      <td>NaN</td>\n",
       "      <td>NaN</td>\n",
       "      <td>NaN</td>\n",
       "    </tr>\n",
       "    <tr>\n",
       "      <th>21</th>\n",
       "      <td>22-05-20</td>\n",
       "      <td>3086</td>\n",
       "      <td>1056</td>\n",
       "      <td>2.303305</td>\n",
       "      <td>2.0</td>\n",
       "      <td>1.0</td>\n",
       "      <td>6.000000</td>\n",
       "    </tr>\n",
       "    <tr>\n",
       "      <th>22</th>\n",
       "      <td>23-05-20</td>\n",
       "      <td>2999</td>\n",
       "      <td>1254</td>\n",
       "      <td>2.319106</td>\n",
       "      <td>4.0</td>\n",
       "      <td>2.0</td>\n",
       "      <td>7.000000</td>\n",
       "    </tr>\n",
       "    <tr>\n",
       "      <th>23</th>\n",
       "      <td>24-05-20</td>\n",
       "      <td>3003</td>\n",
       "      <td>1230</td>\n",
       "      <td>2.543790</td>\n",
       "      <td>4.0</td>\n",
       "      <td>2.0</td>\n",
       "      <td>7.750000</td>\n",
       "    </tr>\n",
       "    <tr>\n",
       "      <th>24</th>\n",
       "      <td>25-05-20</td>\n",
       "      <td>3002</td>\n",
       "      <td>1171</td>\n",
       "      <td>2.266822</td>\n",
       "      <td>NaN</td>\n",
       "      <td>NaN</td>\n",
       "      <td>NaN</td>\n",
       "    </tr>\n",
       "    <tr>\n",
       "      <th>25</th>\n",
       "      <td>26-05-20</td>\n",
       "      <td>3002</td>\n",
       "      <td>1071</td>\n",
       "      <td>2.490673</td>\n",
       "      <td>2.0</td>\n",
       "      <td>1.0</td>\n",
       "      <td>2.000000</td>\n",
       "    </tr>\n",
       "    <tr>\n",
       "      <th>26</th>\n",
       "      <td>27-05-20</td>\n",
       "      <td>3004</td>\n",
       "      <td>1077</td>\n",
       "      <td>2.472703</td>\n",
       "      <td>2.0</td>\n",
       "      <td>1.0</td>\n",
       "      <td>6.000000</td>\n",
       "    </tr>\n",
       "    <tr>\n",
       "      <th>27</th>\n",
       "      <td>28-05-20</td>\n",
       "      <td>3000</td>\n",
       "      <td>1144</td>\n",
       "      <td>2.484667</td>\n",
       "      <td>2.0</td>\n",
       "      <td>1.0</td>\n",
       "      <td>6.000000</td>\n",
       "    </tr>\n",
       "    <tr>\n",
       "      <th>28</th>\n",
       "      <td>29-05-20</td>\n",
       "      <td>3002</td>\n",
       "      <td>1087</td>\n",
       "      <td>2.288474</td>\n",
       "      <td>NaN</td>\n",
       "      <td>NaN</td>\n",
       "      <td>NaN</td>\n",
       "    </tr>\n",
       "    <tr>\n",
       "      <th>29</th>\n",
       "      <td>30-05-20</td>\n",
       "      <td>3000</td>\n",
       "      <td>1286</td>\n",
       "      <td>2.441333</td>\n",
       "      <td>2.0</td>\n",
       "      <td>1.0</td>\n",
       "      <td>9.000000</td>\n",
       "    </tr>\n",
       "    <tr>\n",
       "      <th>30</th>\n",
       "      <td>31-05-20</td>\n",
       "      <td>2999</td>\n",
       "      <td>1305</td>\n",
       "      <td>2.391464</td>\n",
       "      <td>4.0</td>\n",
       "      <td>2.0</td>\n",
       "      <td>7.000000</td>\n",
       "    </tr>\n",
       "  </tbody>\n",
       "</table>\n",
       "</div>"
      ],
      "text/plain": [
       "        date  num_visits_all  uniqu_users_all  mean_uniqe_page_all  \\\n",
       "0   01-05-20            2999             1088             2.515505   \n",
       "1   02-05-20            2997             1207             2.568569   \n",
       "2   03-05-20            3008             1226             2.612699   \n",
       "3   04-05-20            2999             1047             2.548516   \n",
       "4   05-05-20            2999             1075             2.517839   \n",
       "5   06-05-20            3000             1033             2.586333   \n",
       "6   07-05-20            2999             1054             2.446149   \n",
       "7   08-05-20            2999             1063             2.516172   \n",
       "8   09-05-20            2999             1205             2.626209   \n",
       "9   10-05-20            2999             1274             2.584528   \n",
       "10  11-05-20            3004             1059             2.573236   \n",
       "11  12-05-20            3001             1042             2.619793   \n",
       "12  13-05-20            3004             1050             2.644807   \n",
       "13  14-05-20            3000             1140             2.537667   \n",
       "14  15-05-20            3000             1086             2.447000   \n",
       "15  16-05-20            3004             1237             2.610852   \n",
       "16  17-05-20            2998             1240             2.173449   \n",
       "17  18-05-20            2998             1052             2.492662   \n",
       "18  19-05-20            3000             1005             2.678333   \n",
       "19  20-05-20            3000             1068             2.569000   \n",
       "20  21-05-20            3003             1078             2.538129   \n",
       "21  22-05-20            3086             1056             2.303305   \n",
       "22  23-05-20            2999             1254             2.319106   \n",
       "23  24-05-20            3003             1230             2.543790   \n",
       "24  25-05-20            3002             1171             2.266822   \n",
       "25  26-05-20            3002             1071             2.490673   \n",
       "26  27-05-20            3004             1077             2.472703   \n",
       "27  28-05-20            3000             1144             2.484667   \n",
       "28  29-05-20            3002             1087             2.288474   \n",
       "29  30-05-20            3000             1286             2.441333   \n",
       "30  31-05-20            2999             1305             2.391464   \n",
       "\n",
       "    num_visits_upgradeSuccess  uniqu_users_upgradeSuccess  \\\n",
       "0                         2.0                         1.0   \n",
       "1                         4.0                         2.0   \n",
       "2                         6.0                         3.0   \n",
       "3                         3.0                         2.0   \n",
       "4                         NaN                         NaN   \n",
       "5                         NaN                         NaN   \n",
       "6                         6.0                         3.0   \n",
       "7                         1.0                         1.0   \n",
       "8                         4.0                         2.0   \n",
       "9                         6.0                         3.0   \n",
       "10                        NaN                         NaN   \n",
       "11                        2.0                         1.0   \n",
       "12                        2.0                         1.0   \n",
       "13                        NaN                         NaN   \n",
       "14                        2.0                         1.0   \n",
       "15                        6.0                         3.0   \n",
       "16                        2.0                         1.0   \n",
       "17                        2.0                         1.0   \n",
       "18                        2.0                         1.0   \n",
       "19                        NaN                         NaN   \n",
       "20                        NaN                         NaN   \n",
       "21                        2.0                         1.0   \n",
       "22                        4.0                         2.0   \n",
       "23                        4.0                         2.0   \n",
       "24                        NaN                         NaN   \n",
       "25                        2.0                         1.0   \n",
       "26                        2.0                         1.0   \n",
       "27                        2.0                         1.0   \n",
       "28                        NaN                         NaN   \n",
       "29                        2.0                         1.0   \n",
       "30                        4.0                         2.0   \n",
       "\n",
       "    mean_uniqe_page_upgradeSuccess  \n",
       "0                         5.000000  \n",
       "1                         4.000000  \n",
       "2                         7.166667  \n",
       "3                         6.666667  \n",
       "4                              NaN  \n",
       "5                              NaN  \n",
       "6                         9.000000  \n",
       "7                         8.000000  \n",
       "8                        10.500000  \n",
       "9                         7.500000  \n",
       "10                             NaN  \n",
       "11                        7.000000  \n",
       "12                        4.500000  \n",
       "13                             NaN  \n",
       "14                        4.000000  \n",
       "15                        7.666667  \n",
       "16                       11.000000  \n",
       "17                        9.000000  \n",
       "18                       20.000000  \n",
       "19                             NaN  \n",
       "20                             NaN  \n",
       "21                        6.000000  \n",
       "22                        7.000000  \n",
       "23                        7.750000  \n",
       "24                             NaN  \n",
       "25                        2.000000  \n",
       "26                        6.000000  \n",
       "27                        6.000000  \n",
       "28                             NaN  \n",
       "29                        9.000000  \n",
       "30                        7.000000  "
      ]
     },
     "execution_count": 715,
     "metadata": {},
     "output_type": "execute_result"
    }
   ],
   "source": [
    "df_zoom_metrics.merge(df_filter_zoom_metrics,how='outer', on='date',\n",
    "          suffixes=('_all', f'_{search_word}'))"
   ]
  },
  {
   "cell_type": "markdown",
   "metadata": {},
   "source": [
    "## 2. cohorts"
   ]
  },
  {
   "cell_type": "code",
   "execution_count": 839,
   "metadata": {},
   "outputs": [
    {
     "data": {
      "text/plain": [
       "count    93107.000000\n",
       "mean       337.923103\n",
       "std        553.945886\n",
       "min          0.000000\n",
       "25%          3.546000\n",
       "50%        302.874000\n",
       "75%        346.000000\n",
       "max      10956.490000\n",
       "Name: timeonsite_sec, dtype: float64"
      ]
     },
     "execution_count": 839,
     "metadata": {},
     "output_type": "execute_result"
    }
   ],
   "source": [
    "df_zoom['timeonsite_sec'] = df_zoom['timeonsite']/1000\n",
    "df_zoom['timeonsite_mins'] = df_zoom['timeonsite_sec']/60\n",
    "df_zoom.describe()[\"timeonsite_sec\"]"
   ]
  },
  {
   "cell_type": "code",
   "execution_count": 840,
   "metadata": {},
   "outputs": [
    {
     "data": {
      "text/plain": [
       "array([[<AxesSubplot:title={'center':'timeonsite_mins'}>]], dtype=object)"
      ]
     },
     "execution_count": 840,
     "metadata": {},
     "output_type": "execute_result"
    },
    {
     "data": {
      "image/png": "[encoded data removed]",
      "text/plain": [
       "<Figure size 1440x576 with 1 Axes>"
      ]
     },
     "metadata": {
      "needs_background": "light"
     },
     "output_type": "display_data"
    }
   ],
   "source": [
    "df_zoom[df_zoom[\"timeonsite_sec\"]<2000].hist(column='timeonsite_mins', figsize=(20,8), bins=200)"
   ]
  },
  {
   "cell_type": "code",
   "execution_count": 842,
   "metadata": {},
   "outputs": [],
   "source": [
    "group_dict = {0:'0 - 300',1:'300 - 600', 2:'600 - 900',3:'900 - 1200',4:'1200 - 1500',5:'1500 - 1800',6:'1800 +'}\n",
    "def get_group(sec):\n",
    "    mins = sec/300\n",
    "    if int(mins)>5:\n",
    "        return  group_dict[6]\n",
    "    else:\n",
    "        return group_dict[int(mins)]\n",
    "\n",
    "df_zoom[\"Visit duration cohort\"] = df_zoom['timeonsite_sec'].apply(get_group)"
   ]
  },
  {
   "cell_type": "code",
   "execution_count": 843,
   "metadata": {},
   "outputs": [
    {
     "data": {
      "text/html": [
       "<div>\n",
       "<style scoped>\n",
       "    .dataframe tbody tr th:only-of-type {\n",
       "        vertical-align: middle;\n",
       "    }\n",
       "\n",
       "    .dataframe tbody tr th {\n",
       "        vertical-align: top;\n",
       "    }\n",
       "\n",
       "    .dataframe thead th {\n",
       "        text-align: right;\n",
       "    }\n",
       "</style>\n",
       "<table border=\"1\" class=\"dataframe\">\n",
       "  <thead>\n",
       "    <tr style=\"text-align: right;\">\n",
       "      <th></th>\n",
       "      <th>Visit duration cohort</th>\n",
       "      <th>Number of users</th>\n",
       "      <th>Share of users</th>\n",
       "    </tr>\n",
       "  </thead>\n",
       "  <tbody>\n",
       "    <tr>\n",
       "      <th>0</th>\n",
       "      <td>0 - 300</td>\n",
       "      <td>17898</td>\n",
       "      <td>0.447</td>\n",
       "    </tr>\n",
       "    <tr>\n",
       "      <th>1</th>\n",
       "      <td>1200 - 1500</td>\n",
       "      <td>921</td>\n",
       "      <td>0.023</td>\n",
       "    </tr>\n",
       "    <tr>\n",
       "      <th>2</th>\n",
       "      <td>1500 - 1800</td>\n",
       "      <td>795</td>\n",
       "      <td>0.020</td>\n",
       "    </tr>\n",
       "    <tr>\n",
       "      <th>3</th>\n",
       "      <td>1800 +</td>\n",
       "      <td>1526</td>\n",
       "      <td>0.038</td>\n",
       "    </tr>\n",
       "    <tr>\n",
       "      <th>4</th>\n",
       "      <td>300 - 600</td>\n",
       "      <td>14056</td>\n",
       "      <td>0.351</td>\n",
       "    </tr>\n",
       "    <tr>\n",
       "      <th>5</th>\n",
       "      <td>600 - 900</td>\n",
       "      <td>3503</td>\n",
       "      <td>0.088</td>\n",
       "    </tr>\n",
       "    <tr>\n",
       "      <th>6</th>\n",
       "      <td>900 - 1200</td>\n",
       "      <td>1308</td>\n",
       "      <td>0.033</td>\n",
       "    </tr>\n",
       "  </tbody>\n",
       "</table>\n",
       "</div>"
      ],
      "text/plain": [
       "  Visit duration cohort  Number of users  Share of users\n",
       "0               0 - 300            17898           0.447\n",
       "1           1200 - 1500              921           0.023\n",
       "2           1500 - 1800              795           0.020\n",
       "3                1800 +             1526           0.038\n",
       "4             300 - 600            14056           0.351\n",
       "5             600 - 900             3503           0.088\n",
       "6            900 - 1200             1308           0.033"
      ]
     },
     "execution_count": 843,
     "metadata": {},
     "output_type": "execute_result"
    }
   ],
   "source": [
    "cohort_data = df_zoom.groupby('Visit duration cohort').agg({\"user\":\"nunique\"}).reset_index()\n",
    "cohort_data[\"Share of users\"] = round(cohort_data[\"user\"]/cohort_data.iloc[:,1].sum(),3)\n",
    "cohort_data = cohort_data.rename(columns={\"user\":\"Number of users\"})\n",
    "cohort_data"
   ]
  },
  {
   "cell_type": "code",
   "execution_count": 844,
   "metadata": {},
   "outputs": [
    {
     "data": {
      "text/html": [
       "<div>\n",
       "<style scoped>\n",
       "    .dataframe tbody tr th:only-of-type {\n",
       "        vertical-align: middle;\n",
       "    }\n",
       "\n",
       "    .dataframe tbody tr th {\n",
       "        vertical-align: top;\n",
       "    }\n",
       "\n",
       "    .dataframe thead th {\n",
       "        text-align: right;\n",
       "    }\n",
       "</style>\n",
       "<table border=\"1\" class=\"dataframe\">\n",
       "  <thead>\n",
       "    <tr style=\"text-align: right;\">\n",
       "      <th>Visit duration cohort</th>\n",
       "      <th>0 - 300</th>\n",
       "      <th>300 - 600</th>\n",
       "      <th>600 - 900</th>\n",
       "      <th>900 - 1200</th>\n",
       "      <th>1200 - 1500</th>\n",
       "      <th>1500 - 1800</th>\n",
       "      <th>1800 +</th>\n",
       "    </tr>\n",
       "  </thead>\n",
       "  <tbody>\n",
       "    <tr>\n",
       "      <th>Number of users</th>\n",
       "      <td>17898.000</td>\n",
       "      <td>14056.000</td>\n",
       "      <td>3503.000</td>\n",
       "      <td>1308.000</td>\n",
       "      <td>921.000</td>\n",
       "      <td>795.00</td>\n",
       "      <td>1526.000</td>\n",
       "    </tr>\n",
       "    <tr>\n",
       "      <th>Share of users</th>\n",
       "      <td>0.447</td>\n",
       "      <td>0.351</td>\n",
       "      <td>0.088</td>\n",
       "      <td>0.033</td>\n",
       "      <td>0.023</td>\n",
       "      <td>0.02</td>\n",
       "      <td>0.038</td>\n",
       "    </tr>\n",
       "  </tbody>\n",
       "</table>\n",
       "</div>"
      ],
      "text/plain": [
       "Visit duration cohort    0 - 300  300 - 600  600 - 900  900 - 1200  \\\n",
       "Number of users        17898.000  14056.000   3503.000    1308.000   \n",
       "Share of users             0.447      0.351      0.088       0.033   \n",
       "\n",
       "Visit duration cohort  1200 - 1500  1500 - 1800    1800 +  \n",
       "Number of users            921.000       795.00  1526.000  \n",
       "Share of users               0.023         0.02     0.038  "
      ]
     },
     "execution_count": 844,
     "metadata": {},
     "output_type": "execute_result"
    }
   ],
   "source": [
    "cohort_count  = cohort_data.pivot_table(columns = 'Visit duration cohort', values = [\"Number of users\", \"Share of users\"])\n",
    "cohort_count = cohort_count.reindex(['0 - 300','300 - 600', '600 - 900','900 - 1200','1200 - 1500','1500 - 1800','1800 +'], axis=1)\n",
    "cohort_count"
   ]
  },
  {
   "cell_type": "code",
   "execution_count": 887,
   "metadata": {},
   "outputs": [
    {
     "data": {
      "image/png": "[encoded data removed]",
      "text/plain": [
       "<Figure size 720x720 with 1 Axes>"
      ]
     },
     "metadata": {
      "needs_background": "light"
     },
     "output_type": "display_data"
    }
   ],
   "source": [
    "plt.figure(figsize = (10,10))\n",
    "ax = sns.barplot(data = cohort_count[cohort_count.index =='Share of users'])\n",
    "ax.set(ylabel='Share of users',title=\"Share of users each time duration range (Seconds)\")\n",
    "plt.show()"
   ]
  },
  {
   "cell_type": "markdown",
   "metadata": {},
   "source": [
    "# PYTHON DATA MANIPULATION (part 3)"
   ]
  },
  {
   "cell_type": "code",
   "execution_count": 374,
   "metadata": {},
   "outputs": [],
   "source": [
    "from urllib.parse import urlparse\n",
    "from urllib.parse import parse_qs\n",
    "import re\n",
    "from collections import Counter"
   ]
  },
  {
   "cell_type": "code",
   "execution_count": 375,
   "metadata": {},
   "outputs": [
    {
     "data": {
      "text/html": [
       "<div>\n",
       "<style scoped>\n",
       "    .dataframe tbody tr th:only-of-type {\n",
       "        vertical-align: middle;\n",
       "    }\n",
       "\n",
       "    .dataframe tbody tr th {\n",
       "        vertical-align: top;\n",
       "    }\n",
       "\n",
       "    .dataframe thead th {\n",
       "        text-align: right;\n",
       "    }\n",
       "</style>\n",
       "<table border=\"1\" class=\"dataframe\">\n",
       "  <thead>\n",
       "    <tr style=\"text-align: right;\">\n",
       "      <th></th>\n",
       "      <th>Visit Index</th>\n",
       "      <th>UUID</th>\n",
       "      <th>Site</th>\n",
       "      <th>Country</th>\n",
       "      <th>Year</th>\n",
       "      <th>Month</th>\n",
       "      <th>Day</th>\n",
       "      <th>Page Index</th>\n",
       "      <th>Page</th>\n",
       "    </tr>\n",
       "  </thead>\n",
       "  <tbody>\n",
       "    <tr>\n",
       "      <th>0</th>\n",
       "      <td>1</td>\n",
       "      <td>ag8o6trhaqpesg6jeh84ng9hgng</td>\n",
       "      <td>airbnb.com*</td>\n",
       "      <td>840</td>\n",
       "      <td>17</td>\n",
       "      <td>12</td>\n",
       "      <td>31</td>\n",
       "      <td>0</td>\n",
       "      <td>airbnb.com</td>\n",
       "    </tr>\n",
       "    <tr>\n",
       "      <th>1</th>\n",
       "      <td>1</td>\n",
       "      <td>ag8o6trhaqpesg6jeh84ng9hgng</td>\n",
       "      <td>airbnb.com*</td>\n",
       "      <td>840</td>\n",
       "      <td>17</td>\n",
       "      <td>12</td>\n",
       "      <td>31</td>\n",
       "      <td>1</td>\n",
       "      <td>airbnb.com/z/q/445417246</td>\n",
       "    </tr>\n",
       "    <tr>\n",
       "      <th>2</th>\n",
       "      <td>1</td>\n",
       "      <td>ag8o6trhaqpesg6jeh84ng9hgng</td>\n",
       "      <td>airbnb.com*</td>\n",
       "      <td>840</td>\n",
       "      <td>17</td>\n",
       "      <td>12</td>\n",
       "      <td>31</td>\n",
       "      <td>2</td>\n",
       "      <td>airbnb.com/reservation/itinerary?code=HMZHXTC5K8</td>\n",
       "    </tr>\n",
       "    <tr>\n",
       "      <th>3</th>\n",
       "      <td>1</td>\n",
       "      <td>ag8o6trhaqpesg6jeh84ng9hgng</td>\n",
       "      <td>airbnb.com*</td>\n",
       "      <td>840</td>\n",
       "      <td>17</td>\n",
       "      <td>12</td>\n",
       "      <td>31</td>\n",
       "      <td>3</td>\n",
       "      <td>airbnb.com/trips</td>\n",
       "    </tr>\n",
       "    <tr>\n",
       "      <th>4</th>\n",
       "      <td>1</td>\n",
       "      <td>ag8o6trhaqpesg6jeh84ng9hgng</td>\n",
       "      <td>airbnb.com*</td>\n",
       "      <td>840</td>\n",
       "      <td>17</td>\n",
       "      <td>12</td>\n",
       "      <td>31</td>\n",
       "      <td>4</td>\n",
       "      <td>airbnb.com/rooms/13302094</td>\n",
       "    </tr>\n",
       "    <tr>\n",
       "      <th>...</th>\n",
       "      <td>...</td>\n",
       "      <td>...</td>\n",
       "      <td>...</td>\n",
       "      <td>...</td>\n",
       "      <td>...</td>\n",
       "      <td>...</td>\n",
       "      <td>...</td>\n",
       "      <td>...</td>\n",
       "      <td>...</td>\n",
       "    </tr>\n",
       "    <tr>\n",
       "      <th>49962</th>\n",
       "      <td>2666</td>\n",
       "      <td>pcceq1f6hj1orh75r7p54s0fm8e</td>\n",
       "      <td>airbnb.com*</td>\n",
       "      <td>840</td>\n",
       "      <td>17</td>\n",
       "      <td>12</td>\n",
       "      <td>31</td>\n",
       "      <td>1</td>\n",
       "      <td>airbnb.com/s/Fairmont-Le-Ch%C3%A2teau-Frontena...</td>\n",
       "    </tr>\n",
       "    <tr>\n",
       "      <th>49963</th>\n",
       "      <td>2666</td>\n",
       "      <td>pcceq1f6hj1orh75r7p54s0fm8e</td>\n",
       "      <td>airbnb.com*</td>\n",
       "      <td>840</td>\n",
       "      <td>17</td>\n",
       "      <td>12</td>\n",
       "      <td>31</td>\n",
       "      <td>2</td>\n",
       "      <td>airbnb.com/s/Fairmont-Le-Ch%C3%A2teau-Frontena...</td>\n",
       "    </tr>\n",
       "    <tr>\n",
       "      <th>49964</th>\n",
       "      <td>2666</td>\n",
       "      <td>pcceq1f6hj1orh75r7p54s0fm8e</td>\n",
       "      <td>airbnb.com*</td>\n",
       "      <td>840</td>\n",
       "      <td>17</td>\n",
       "      <td>12</td>\n",
       "      <td>31</td>\n",
       "      <td>3</td>\n",
       "      <td>airbnb.com/s/Fairmont-Le-Ch%C3%A2teau-Frontena...</td>\n",
       "    </tr>\n",
       "    <tr>\n",
       "      <th>49965</th>\n",
       "      <td>2666</td>\n",
       "      <td>pcceq1f6hj1orh75r7p54s0fm8e</td>\n",
       "      <td>airbnb.com*</td>\n",
       "      <td>840</td>\n",
       "      <td>17</td>\n",
       "      <td>12</td>\n",
       "      <td>31</td>\n",
       "      <td>4</td>\n",
       "      <td>airbnb.com/s/Fairmont-Le-Ch%C3%A2teau-Frontena...</td>\n",
       "    </tr>\n",
       "    <tr>\n",
       "      <th>49966</th>\n",
       "      <td>2666</td>\n",
       "      <td>pcceq1f6hj1orh75r7p54s0fm8e</td>\n",
       "      <td>airbnb.com*</td>\n",
       "      <td>840</td>\n",
       "      <td>17</td>\n",
       "      <td>12</td>\n",
       "      <td>31</td>\n",
       "      <td>5</td>\n",
       "      <td>airbnb.com/s/Fairmont-Le-Ch%C3%A2teau-Frontena...</td>\n",
       "    </tr>\n",
       "  </tbody>\n",
       "</table>\n",
       "<p>49967 rows × 9 columns</p>\n",
       "</div>"
      ],
      "text/plain": [
       "       Visit Index                         UUID         Site  Country  Year  \\\n",
       "0                1  ag8o6trhaqpesg6jeh84ng9hgng  airbnb.com*      840    17   \n",
       "1                1  ag8o6trhaqpesg6jeh84ng9hgng  airbnb.com*      840    17   \n",
       "2                1  ag8o6trhaqpesg6jeh84ng9hgng  airbnb.com*      840    17   \n",
       "3                1  ag8o6trhaqpesg6jeh84ng9hgng  airbnb.com*      840    17   \n",
       "4                1  ag8o6trhaqpesg6jeh84ng9hgng  airbnb.com*      840    17   \n",
       "...            ...                          ...          ...      ...   ...   \n",
       "49962         2666  pcceq1f6hj1orh75r7p54s0fm8e  airbnb.com*      840    17   \n",
       "49963         2666  pcceq1f6hj1orh75r7p54s0fm8e  airbnb.com*      840    17   \n",
       "49964         2666  pcceq1f6hj1orh75r7p54s0fm8e  airbnb.com*      840    17   \n",
       "49965         2666  pcceq1f6hj1orh75r7p54s0fm8e  airbnb.com*      840    17   \n",
       "49966         2666  pcceq1f6hj1orh75r7p54s0fm8e  airbnb.com*      840    17   \n",
       "\n",
       "       Month  Day  Page Index  \\\n",
       "0         12   31           0   \n",
       "1         12   31           1   \n",
       "2         12   31           2   \n",
       "3         12   31           3   \n",
       "4         12   31           4   \n",
       "...      ...  ...         ...   \n",
       "49962     12   31           1   \n",
       "49963     12   31           2   \n",
       "49964     12   31           3   \n",
       "49965     12   31           4   \n",
       "49966     12   31           5   \n",
       "\n",
       "                                                    Page  \n",
       "0                                             airbnb.com  \n",
       "1                               airbnb.com/z/q/445417246  \n",
       "2       airbnb.com/reservation/itinerary?code=HMZHXTC5K8  \n",
       "3                                       airbnb.com/trips  \n",
       "4                              airbnb.com/rooms/13302094  \n",
       "...                                                  ...  \n",
       "49962  airbnb.com/s/Fairmont-Le-Ch%C3%A2teau-Frontena...  \n",
       "49963  airbnb.com/s/Fairmont-Le-Ch%C3%A2teau-Frontena...  \n",
       "49964  airbnb.com/s/Fairmont-Le-Ch%C3%A2teau-Frontena...  \n",
       "49965  airbnb.com/s/Fairmont-Le-Ch%C3%A2teau-Frontena...  \n",
       "49966  airbnb.com/s/Fairmont-Le-Ch%C3%A2teau-Frontena...  \n",
       "\n",
       "[49967 rows x 9 columns]"
      ]
     },
     "execution_count": 375,
     "metadata": {},
     "output_type": "execute_result"
    }
   ],
   "source": [
    "df_bnb = pd.read_csv('airbnb_clickstream_sample.csv')\n",
    "df_bnb"
   ]
  },
  {
   "cell_type": "code",
   "execution_count": 470,
   "metadata": {},
   "outputs": [],
   "source": [
    "# ignore_keywords - Keywords meaningless to analyze\n",
    "ignore_keywords = ['true','false','list','__l-o-c-a-t-i-o-n__']\n",
    "\n",
    "# airbnb_varsions - fix airbnb keyword to airbnb (all have the same meaning)\n",
    "airbnb_varsions = ['air b and b', 'airbnb.', 'airbnb.com', 'airbnb\\'', 'air bnb', 'airbnb']\n",
    "\n",
    "# ignore_params - general parameters the user don’t have any access - not user input\n",
    "general_params = ['section_offset','auth_merge_to','oauth_popup','refinement_path','refinement_paths','refinement_paths[]','oauth2_service', 'source',\"place_id\" ,'s_tag', 'ib','logo','from_join_success', 's','af','c','search_by_map','code', 'for_reservation_code', 'gclid']\n",
    "\n",
    "# params_fix - dict to fix params that have multi present versions with the same meaning\n",
    "params_fix = {'check_in':'checkin', 'check_out':'checkout'}\n",
    "\n",
    "def is_keyword(param_value):\n",
    "    # handle with dates: param_value.replace('-','') [it's a business decision]\n",
    "    if not param_value.replace('-','').isnumeric() and param_value not in ignore_keywords:\n",
    "        return True\n",
    "    else:\n",
    "        return False\n",
    "    \n",
    "def clean_keyword(keyword):\n",
    "    keyword = keyword.lower()\n",
    "    keyword = keyword.strip()\n",
    "    if keyword in airbnb_varsions:\n",
    "        return 'airbnb' \n",
    "    return keyword\n",
    "\n",
    "def clean_param(param):\n",
    "    if param in params_fix:\n",
    "        return params_fix[param]\n",
    "    else:\n",
    "        return param\n",
    "    \n",
    "def get_all_params_keywords(pages):\n",
    "    params_key = []\n",
    "    keywords  = []\n",
    "    number_page_with_params = 0\n",
    "\n",
    "    for url in pages:\n",
    "        parsed_url = urlparse(url)\n",
    "        params = parse_qs(parsed_url.query)\n",
    "        clean_params = {k: v for k, v in params.items() if k not in general_params}\n",
    "        if clean_params == {}:\n",
    "            continue\n",
    "        number_page_with_params += 1 \n",
    "        params_key.extend([clean_param(key) for key in clean_params.keys()]) \n",
    "        keywords.extend([clean_keyword(value)  for value_list in clean_params.values() for value in value_list if is_keyword(value)] )\n",
    "    return params_key, keywords, number_page_with_params\n",
    "\n",
    "params_key, keywords, number_page_with_params = get_all_params_keywords(df_bnb['Page'])"
   ]
  },
  {
   "cell_type": "code",
   "execution_count": 471,
   "metadata": {},
   "outputs": [
    {
     "data": {
      "text/html": [
       "<div>\n",
       "<style scoped>\n",
       "    .dataframe tbody tr th:only-of-type {\n",
       "        vertical-align: middle;\n",
       "    }\n",
       "\n",
       "    .dataframe tbody tr th {\n",
       "        vertical-align: top;\n",
       "    }\n",
       "\n",
       "    .dataframe thead th {\n",
       "        text-align: right;\n",
       "    }\n",
       "</style>\n",
       "<table border=\"1\" class=\"dataframe\">\n",
       "  <thead>\n",
       "    <tr style=\"text-align: right;\">\n",
       "      <th></th>\n",
       "      <th>keyword</th>\n",
       "      <th>observed</th>\n",
       "      <th>percentage</th>\n",
       "    </tr>\n",
       "  </thead>\n",
       "  <tbody>\n",
       "    <tr>\n",
       "      <th>0</th>\n",
       "      <td>entire home/apt</td>\n",
       "      <td>10281</td>\n",
       "      <td>0.256224</td>\n",
       "    </tr>\n",
       "    <tr>\n",
       "      <th>1</th>\n",
       "      <td>private room</td>\n",
       "      <td>2068</td>\n",
       "      <td>0.051539</td>\n",
       "    </tr>\n",
       "    <tr>\n",
       "      <th>2</th>\n",
       "      <td>airbnb</td>\n",
       "      <td>1739</td>\n",
       "      <td>0.043340</td>\n",
       "    </tr>\n",
       "    <tr>\n",
       "      <th>3</th>\n",
       "      <td>wishlist_owner</td>\n",
       "      <td>508</td>\n",
       "      <td>0.012660</td>\n",
       "    </tr>\n",
       "    <tr>\n",
       "      <th>4</th>\n",
       "      <td>tokyo, japan</td>\n",
       "      <td>334</td>\n",
       "      <td>0.008324</td>\n",
       "    </tr>\n",
       "    <tr>\n",
       "      <th>5</th>\n",
       "      <td>daleray beach</td>\n",
       "      <td>190</td>\n",
       "      <td>0.004735</td>\n",
       "    </tr>\n",
       "    <tr>\n",
       "      <th>6</th>\n",
       "      <td>homes_with_location</td>\n",
       "      <td>156</td>\n",
       "      <td>0.003888</td>\n",
       "    </tr>\n",
       "    <tr>\n",
       "      <th>7</th>\n",
       "      <td>los angeles, ca, united states</td>\n",
       "      <td>137</td>\n",
       "      <td>0.003414</td>\n",
       "    </tr>\n",
       "    <tr>\n",
       "      <th>8</th>\n",
       "      <td>nashville, tn</td>\n",
       "      <td>131</td>\n",
       "      <td>0.003265</td>\n",
       "    </tr>\n",
       "    <tr>\n",
       "      <th>9</th>\n",
       "      <td>new orleans, la, united states</td>\n",
       "      <td>122</td>\n",
       "      <td>0.003040</td>\n",
       "    </tr>\n",
       "    <tr>\n",
       "      <th>10</th>\n",
       "      <td>new york, ny, united states</td>\n",
       "      <td>118</td>\n",
       "      <td>0.002941</td>\n",
       "    </tr>\n",
       "    <tr>\n",
       "      <th>11</th>\n",
       "      <td>washington, dc, united states</td>\n",
       "      <td>107</td>\n",
       "      <td>0.002667</td>\n",
       "    </tr>\n",
       "    <tr>\n",
       "      <th>12</th>\n",
       "      <td>san francisco, ca, united states</td>\n",
       "      <td>104</td>\n",
       "      <td>0.002592</td>\n",
       "    </tr>\n",
       "    <tr>\n",
       "      <th>13</th>\n",
       "      <td>pariisi, ranska</td>\n",
       "      <td>102</td>\n",
       "      <td>0.002542</td>\n",
       "    </tr>\n",
       "    <tr>\n",
       "      <th>14</th>\n",
       "      <td>san diego, ca, united states</td>\n",
       "      <td>95</td>\n",
       "      <td>0.002368</td>\n",
       "    </tr>\n",
       "    <tr>\n",
       "      <th>15</th>\n",
       "      <td>los angeles airbnb</td>\n",
       "      <td>85</td>\n",
       "      <td>0.002118</td>\n",
       "    </tr>\n",
       "    <tr>\n",
       "      <th>16</th>\n",
       "      <td>paris, france</td>\n",
       "      <td>79</td>\n",
       "      <td>0.001969</td>\n",
       "    </tr>\n",
       "    <tr>\n",
       "      <th>17</th>\n",
       "      <td>austin, tx, united states</td>\n",
       "      <td>76</td>\n",
       "      <td>0.001894</td>\n",
       "    </tr>\n",
       "    <tr>\n",
       "      <th>18</th>\n",
       "      <td>desktop</td>\n",
       "      <td>74</td>\n",
       "      <td>0.001844</td>\n",
       "    </tr>\n",
       "    <tr>\n",
       "      <th>19</th>\n",
       "      <td>airbnb iceland</td>\n",
       "      <td>74</td>\n",
       "      <td>0.001844</td>\n",
       "    </tr>\n",
       "  </tbody>\n",
       "</table>\n",
       "</div>"
      ],
      "text/plain": [
       "                             keyword  observed  percentage\n",
       "0                    entire home/apt     10281    0.256224\n",
       "1                       private room      2068    0.051539\n",
       "2                             airbnb      1739    0.043340\n",
       "3                     wishlist_owner       508    0.012660\n",
       "4                       tokyo, japan       334    0.008324\n",
       "5                      daleray beach       190    0.004735\n",
       "6                homes_with_location       156    0.003888\n",
       "7     los angeles, ca, united states       137    0.003414\n",
       "8                      nashville, tn       131    0.003265\n",
       "9     new orleans, la, united states       122    0.003040\n",
       "10       new york, ny, united states       118    0.002941\n",
       "11     washington, dc, united states       107    0.002667\n",
       "12  san francisco, ca, united states       104    0.002592\n",
       "13                   pariisi, ranska       102    0.002542\n",
       "14      san diego, ca, united states        95    0.002368\n",
       "15                los angeles airbnb        85    0.002118\n",
       "16                     paris, france        79    0.001969\n",
       "17         austin, tx, united states        76    0.001894\n",
       "18                           desktop        74    0.001844\n",
       "19                    airbnb iceland        74    0.001844"
      ]
     },
     "execution_count": 471,
     "metadata": {},
     "output_type": "execute_result"
    }
   ],
   "source": [
    "counter_keywords = Counter(keywords)\n",
    "most_common_keywords = counter_keywords.most_common(20)\n",
    "most_common_keywords_dict = {key:observed for key, observed in most_common_keywords}\n",
    "df_most_common_key = pd.DataFrame(most_common_keywords_dict.items(), columns=['keyword', 'observed'])\n",
    "df_most_common_key[\"percentage\"] = df_most_common_key['observed'] / number_page_with_params\n",
    "df_most_common_key"
   ]
  },
  {
   "cell_type": "markdown",
   "metadata": {},
   "source": [
    "In addition, I think the company is also interested in getting to know the common parameters that users are looking for"
   ]
  },
  {
   "cell_type": "code",
   "execution_count": 474,
   "metadata": {},
   "outputs": [
    {
     "data": {
      "text/html": [
       "<div>\n",
       "<style scoped>\n",
       "    .dataframe tbody tr th:only-of-type {\n",
       "        vertical-align: middle;\n",
       "    }\n",
       "\n",
       "    .dataframe tbody tr th {\n",
       "        vertical-align: top;\n",
       "    }\n",
       "\n",
       "    .dataframe thead th {\n",
       "        text-align: right;\n",
       "    }\n",
       "</style>\n",
       "<table border=\"1\" class=\"dataframe\">\n",
       "  <thead>\n",
       "    <tr style=\"text-align: right;\">\n",
       "      <th></th>\n",
       "      <th>param</th>\n",
       "      <th>observed</th>\n",
       "      <th>percentage</th>\n",
       "    </tr>\n",
       "  </thead>\n",
       "  <tbody>\n",
       "    <tr>\n",
       "      <th>0</th>\n",
       "      <td>checkin</td>\n",
       "      <td>27633</td>\n",
       "      <td>0.688673</td>\n",
       "    </tr>\n",
       "    <tr>\n",
       "      <th>1</th>\n",
       "      <td>checkout</td>\n",
       "      <td>26827</td>\n",
       "      <td>0.668586</td>\n",
       "    </tr>\n",
       "    <tr>\n",
       "      <th>2</th>\n",
       "      <td>adults</td>\n",
       "      <td>22876</td>\n",
       "      <td>0.570118</td>\n",
       "    </tr>\n",
       "    <tr>\n",
       "      <th>3</th>\n",
       "      <td>zoom</td>\n",
       "      <td>21839</td>\n",
       "      <td>0.544274</td>\n",
       "    </tr>\n",
       "    <tr>\n",
       "      <th>4</th>\n",
       "      <td>ne_lat</td>\n",
       "      <td>21820</td>\n",
       "      <td>0.543801</td>\n",
       "    </tr>\n",
       "    <tr>\n",
       "      <th>5</th>\n",
       "      <td>ne_lng</td>\n",
       "      <td>21820</td>\n",
       "      <td>0.543801</td>\n",
       "    </tr>\n",
       "    <tr>\n",
       "      <th>6</th>\n",
       "      <td>sw_lat</td>\n",
       "      <td>21820</td>\n",
       "      <td>0.543801</td>\n",
       "    </tr>\n",
       "    <tr>\n",
       "      <th>7</th>\n",
       "      <td>sw_lng</td>\n",
       "      <td>21820</td>\n",
       "      <td>0.543801</td>\n",
       "    </tr>\n",
       "    <tr>\n",
       "      <th>8</th>\n",
       "      <td>children</td>\n",
       "      <td>14954</td>\n",
       "      <td>0.372685</td>\n",
       "    </tr>\n",
       "    <tr>\n",
       "      <th>9</th>\n",
       "      <td>infants</td>\n",
       "      <td>13393</td>\n",
       "      <td>0.333782</td>\n",
       "    </tr>\n",
       "    <tr>\n",
       "      <th>10</th>\n",
       "      <td>guests</td>\n",
       "      <td>12484</td>\n",
       "      <td>0.311128</td>\n",
       "    </tr>\n",
       "    <tr>\n",
       "      <th>11</th>\n",
       "      <td>room_types[]</td>\n",
       "      <td>11326</td>\n",
       "      <td>0.282268</td>\n",
       "    </tr>\n",
       "    <tr>\n",
       "      <th>12</th>\n",
       "      <td>price_max</td>\n",
       "      <td>9753</td>\n",
       "      <td>0.243065</td>\n",
       "    </tr>\n",
       "    <tr>\n",
       "      <th>13</th>\n",
       "      <td>location</td>\n",
       "      <td>7404</td>\n",
       "      <td>0.184523</td>\n",
       "    </tr>\n",
       "    <tr>\n",
       "      <th>14</th>\n",
       "      <td>amenities[]</td>\n",
       "      <td>3977</td>\n",
       "      <td>0.099115</td>\n",
       "    </tr>\n",
       "    <tr>\n",
       "      <th>15</th>\n",
       "      <td>min_beds</td>\n",
       "      <td>3203</td>\n",
       "      <td>0.079826</td>\n",
       "    </tr>\n",
       "    <tr>\n",
       "      <th>16</th>\n",
       "      <td>min_bedrooms</td>\n",
       "      <td>3115</td>\n",
       "      <td>0.077632</td>\n",
       "    </tr>\n",
       "    <tr>\n",
       "      <th>17</th>\n",
       "      <td>sem_keywords</td>\n",
       "      <td>2520</td>\n",
       "      <td>0.062804</td>\n",
       "    </tr>\n",
       "    <tr>\n",
       "      <th>18</th>\n",
       "      <td>disable_autoib</td>\n",
       "      <td>2209</td>\n",
       "      <td>0.055053</td>\n",
       "    </tr>\n",
       "    <tr>\n",
       "      <th>19</th>\n",
       "      <td>min_bathrooms</td>\n",
       "      <td>1862</td>\n",
       "      <td>0.046405</td>\n",
       "    </tr>\n",
       "  </tbody>\n",
       "</table>\n",
       "</div>"
      ],
      "text/plain": [
       "             param  observed  percentage\n",
       "0          checkin     27633    0.688673\n",
       "1         checkout     26827    0.668586\n",
       "2           adults     22876    0.570118\n",
       "3             zoom     21839    0.544274\n",
       "4           ne_lat     21820    0.543801\n",
       "5           ne_lng     21820    0.543801\n",
       "6           sw_lat     21820    0.543801\n",
       "7           sw_lng     21820    0.543801\n",
       "8         children     14954    0.372685\n",
       "9          infants     13393    0.333782\n",
       "10          guests     12484    0.311128\n",
       "11    room_types[]     11326    0.282268\n",
       "12       price_max      9753    0.243065\n",
       "13        location      7404    0.184523\n",
       "14     amenities[]      3977    0.099115\n",
       "15        min_beds      3203    0.079826\n",
       "16    min_bedrooms      3115    0.077632\n",
       "17    sem_keywords      2520    0.062804\n",
       "18  disable_autoib      2209    0.055053\n",
       "19   min_bathrooms      1862    0.046405"
      ]
     },
     "execution_count": 474,
     "metadata": {},
     "output_type": "execute_result"
    }
   ],
   "source": [
    "counter_params = Counter(params_key)\n",
    "most_common_params = counter_params.most_common(20)\n",
    "most_common_params_dict = {param:observed for param, observed in most_common_params}\n",
    "df_most_common_param = pd.DataFrame(most_common_params_dict.items(), columns=['param', 'observed'])\n",
    "df_most_common_param[\"percentage\"] = df_most_common_param['observed'] / number_page_with_params\n",
    "df_most_common_param"
   ]
  }
 ],
 "metadata": {
  "kernelspec": {
   "display_name": "Python 3",
   "language": "python",
   "name": "python3"
  },
  "language_info": {
   "codemirror_mode": {
    "name": "ipython",
    "version": 3
   },
   "file_extension": ".py",
   "mimetype": "text/x-python",
   "name": "python",
   "nbconvert_exporter": "python",
   "pygments_lexer": "ipython3",
   "version": "3.8.5"
  }
 },
 "nbformat": 4,
 "nbformat_minor": 4
}
